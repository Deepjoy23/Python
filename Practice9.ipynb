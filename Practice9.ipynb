{
 "cells": [
  {
   "cell_type": "code",
   "execution_count": 1,
   "id": "73ea50c0-952d-4179-9bd0-eb3586ba224a",
   "metadata": {},
   "outputs": [
    {
     "name": "stdin",
     "output_type": "stream",
     "text": [
      "Enter the length of list 4\n",
      "Enter the values of list 12\n",
      "Enter the values of list Deepjoy\n",
      "Enter the values of list True\n",
      "Enter the values of list 4.58\n"
     ]
    },
    {
     "name": "stdout",
     "output_type": "stream",
     "text": [
      "['12', 'Deepjoy', 'True', '4.58']\n"
     ]
    }
   ],
   "source": [
    "#Insert elements in a list using for loop\n",
    "a=int(input(\"Enter the length of list\"))\n",
    "dummy_list=[]\n",
    "for i in range(a):\n",
    "    values=input(\"Enter the values of list\")\n",
    "    dummy_list.append(values)\n",
    "print(dummy_list)    "
   ]
  },
  {
   "cell_type": "code",
   "execution_count": 2,
   "id": "68793dfb-0660-4e3d-b0a1-85e2305ad8c6",
   "metadata": {},
   "outputs": [
    {
     "name": "stdin",
     "output_type": "stream",
     "text": [
      "Enter the length of list 3\n",
      "Enter the values of list 45\n"
     ]
    },
    {
     "name": "stdout",
     "output_type": "stream",
     "text": [
      "Insert value is : 45\n",
      "Updated dummy_list is : ['45']\n"
     ]
    },
    {
     "name": "stdin",
     "output_type": "stream",
     "text": [
      "Enter the values of list 78\n"
     ]
    },
    {
     "name": "stdout",
     "output_type": "stream",
     "text": [
      "Insert value is : 78\n",
      "Updated dummy_list is : ['45', '78']\n"
     ]
    },
    {
     "name": "stdin",
     "output_type": "stream",
     "text": [
      "Enter the values of list 91\n"
     ]
    },
    {
     "name": "stdout",
     "output_type": "stream",
     "text": [
      "Insert value is : 91\n",
      "Updated dummy_list is : ['45', '78', '91']\n",
      "Result dummy_list is : ['45', '78', '91']\n"
     ]
    }
   ],
   "source": [
    "#Insert elements in a list using for loop\n",
    "a=int(input(\"Enter the length of list\"))\n",
    "dummy_list=[]\n",
    "for i in range(a):\n",
    "    values=input(\"Enter the values of list\")\n",
    "    print(\"Insert value is :\",values)\n",
    "    dummy_list.append(values)\n",
    "    print(\"Updated dummy_list is :\",dummy_list)\n",
    "print(\"Result dummy_list is :\", dummy_list)"
   ]
  },
  {
   "cell_type": "code",
   "execution_count": 1,
   "id": "4b178629-df37-4df8-b4da-360bd66a4458",
   "metadata": {},
   "outputs": [
    {
     "name": "stdin",
     "output_type": "stream",
     "text": [
      "Enter the length of list 4\n",
      "Enter the values of list 20\n",
      "Enter the values of list 60\n",
      "Enter the values of list 10\n",
      "Enter the values of list 80\n"
     ]
    },
    {
     "name": "stdout",
     "output_type": "stream",
     "text": [
      "['20', '60', '10', '80']\n",
      "('20', '60', '10', '80')\n"
     ]
    }
   ],
   "source": [
    "#Insert elements in a tuple using for loop\n",
    "a=int(input(\"Enter the length of list\"))\n",
    "dummy_list=[]\n",
    "for i in range(a):\n",
    "    values=input(\"Enter the values of list\")\n",
    "    dummy_list.append(values)\n",
    "    dummy_tuple=tuple(dummy_list)\n",
    "print(dummy_list) \n",
    "print(dummy_tuple)  "
   ]
  },
  {
   "cell_type": "code",
   "execution_count": 2,
   "id": "324426cb-f63a-4348-8a13-75bbbaf2fa35",
   "metadata": {},
   "outputs": [
    {
     "name": "stdin",
     "output_type": "stream",
     "text": [
      "Enter the length of list 3\n",
      "Enter the values of list 45\n",
      "Enter the values of list 86\n",
      "Enter the values of list 20\n"
     ]
    },
    {
     "name": "stdout",
     "output_type": "stream",
     "text": [
      "['45', '86', '20']\n",
      "('45', '86', '20')\n"
     ]
    }
   ],
   "source": [
    "#Insert elements in a tuple using for loop\n",
    "a=int(input(\"Enter the length of list\"))\n",
    "dummy_list=[]\n",
    "for i in range(a):\n",
    "    values=input(\"Enter the values of list\")\n",
    "    dummy_list.append(values)\n",
    "dummy_tuple=tuple(dummy_list)\n",
    "print(dummy_list) \n",
    "print(dummy_tuple)  "
   ]
  },
  {
   "cell_type": "code",
   "execution_count": 17,
   "id": "dc2cf533-b16c-42ab-bd0d-82531ef71149",
   "metadata": {},
   "outputs": [
    {
     "name": "stdout",
     "output_type": "stream",
     "text": [
      "[(10, 1), (20, 2), (30, 3), (40, 4)]\n"
     ]
    }
   ],
   "source": [
    "#zip function\n",
    "a=[10,20,30,40]\n",
    "b=[1,2,3,4]\n",
    "b=zip(a,b)\n",
    "print(list(b))"
   ]
  },
  {
   "cell_type": "code",
   "execution_count": 3,
   "id": "ffd1fe19-1088-4936-90c9-217d807f54e2",
   "metadata": {},
   "outputs": [
    {
     "name": "stdin",
     "output_type": "stream",
     "text": [
      "Enter the length of dictionary 3\n",
      "Enter the keys of dictionary Name\n",
      "Enter the values of dictionary Deepjoy\n",
      "Enter the keys of dictionary Language\n",
      "Enter the values of dictionary Python\n",
      "Enter the keys of dictionary Age\n",
      "Enter the values of dictionary 29\n"
     ]
    },
    {
     "name": "stdout",
     "output_type": "stream",
     "text": [
      "{'Name': 'Deepjoy', 'Language': 'Python', 'Age': '29'}\n"
     ]
    }
   ],
   "source": [
    "#Insert elements in a dictionary using for loop\n",
    "a=int(input(\"Enter the length of dictionary\"))\n",
    "dummy_keys=[]\n",
    "dummy_values=[]\n",
    "for i in range(a):\n",
    "    keys=input(\"Enter the keys of dictionary\")\n",
    "    dummy_keys.append(keys)\n",
    "    values=input(\"Enter the values of dictionary\")\n",
    "    dummy_values.append(values)\n",
    "print(dict(zip(dummy_keys,dummy_values)))"
   ]
  },
  {
   "cell_type": "code",
   "execution_count": 20,
   "id": "f5d95405-96d6-4a17-bcb1-d32e343694cf",
   "metadata": {},
   "outputs": [
    {
     "name": "stdin",
     "output_type": "stream",
     "text": [
      "Enter a Number 159\n"
     ]
    },
    {
     "name": "stdout",
     "output_type": "stream",
     "text": [
      "Number is Not Palindrome\n"
     ]
    }
   ],
   "source": [
    "#Checking the Amstrong Number\n",
    "#153=1**3 + 5**3 + 3**3\n",
    "a=input(\"Enter a Number\")\n",
    "sum=0\n",
    "for i in a:\n",
    "    sum=sum+int(i)**3\n",
    "if a==str(sum):\n",
    "    print(\"Number is Palindrome\")\n",
    "else:\n",
    "    print(\"Number is Not Palindrome\")"
   ]
  },
  {
   "cell_type": "code",
   "execution_count": 1,
   "id": "5d4aac55-7ae4-4a6e-8655-3212fedfe73f",
   "metadata": {},
   "outputs": [
    {
     "name": "stdout",
     "output_type": "stream",
     "text": [
      "Number is Amstrong\n",
      "Number is Amstrong\n",
      "Number is Amstrong\n",
      "Number is Not Amstrong\n",
      "Number is Not Amstrong\n",
      "Number is Not Amstrong\n",
      "Amstrong Number list is : ['153', '370', '371'],\n",
      "Not Amstrong Number list is : ['256', '456', '789']\n"
     ]
    }
   ],
   "source": [
    "#Checking the Amstrong Number from a list and stored in ams[] & not_ams=[] list\n",
    "#153=1**3 + 5**3 + 3**3\n",
    "number_list = ['153', '370', '371', '256','456','789']\n",
    "ams=[]\n",
    "not_ams=[]\n",
    "for number in number_list:\n",
    "    sum=0\n",
    "    for i in number:\n",
    "        sum=sum+int(i)**3\n",
    "    if number==str(sum):\n",
    "        print(\"Number is Amstrong\")\n",
    "        ams.append(number)\n",
    "    else:\n",
    "        print(\"Number is Not Amstrong\")\n",
    "        not_ams.append(number)\n",
    "print(f\"Amstrong Number list is : {ams},\\nNot Amstrong Number list is : {not_ams}\")\n"
   ]
  },
  {
   "cell_type": "code",
   "execution_count": 2,
   "id": "74838747-a9f9-48d0-8fd7-3bd25e49e49e",
   "metadata": {},
   "outputs": [
    {
     "name": "stdout",
     "output_type": "stream",
     "text": [
      "Number is Amstrong\n",
      "['153']\n",
      "Number is Amstrong\n",
      "['153', '370']\n",
      "Number is Amstrong\n",
      "['153', '370', '371']\n",
      "Number is Not Amstrong\n",
      "['256']\n",
      "Number is Not Amstrong\n",
      "['256', '456']\n",
      "Number is Not Amstrong\n",
      "['256', '456', '789']\n",
      "Amstrong Number list is : ['153', '370', '371'],\n",
      "Not Amstrong Number list is : ['256', '456', '789']\n"
     ]
    }
   ],
   "source": [
    "#Checking the Amstrong Number from a list and stored in ams[] & not_ams=[] list\n",
    "#153=1**3 + 5**3 + 3**3\n",
    "number_list = ['153', '370', '371', '256','456','789']\n",
    "ams=[]\n",
    "not_ams=[]\n",
    "for number in number_list:\n",
    "    sum=0\n",
    "    for i in number:\n",
    "        sum=sum+int(i)**3\n",
    "    if number==str(sum):\n",
    "        print(\"Number is Amstrong\")\n",
    "        ams.append(number)\n",
    "        print(ams)\n",
    "    else:\n",
    "        print(\"Number is Not Amstrong\")\n",
    "        not_ams.append(number)\n",
    "        print(not_ams)\n",
    "print(f\"Amstrong Number list is : {ams},\\nNot Amstrong Number list is : {not_ams}\")"
   ]
  },
  {
   "cell_type": "code",
   "execution_count": 15,
   "id": "c47219fe-6007-4b83-a1f5-9e53acd5a3c7",
   "metadata": {},
   "outputs": [
    {
     "name": "stdout",
     "output_type": "stream",
     "text": [
      "1\n",
      "2\n",
      "4\n",
      "5\n",
      "out\n"
     ]
    }
   ],
   "source": [
    "#Break Process in for loop\n",
    "a=[1,2,4,5,8,3,6,7]\n",
    "for i in a:\n",
    "    if i>=6:\n",
    "        break\n",
    "    else:\n",
    "        print(i)\n",
    "print(\"out\")"
   ]
  },
  {
   "cell_type": "code",
   "execution_count": 18,
   "id": "902a3dee-bc04-461f-99e6-3c1ec0cc23ef",
   "metadata": {},
   "outputs": [
    {
     "name": "stdout",
     "output_type": "stream",
     "text": [
      "1\n",
      "2\n",
      "4\n",
      "5\n",
      "3\n",
      "out\n"
     ]
    }
   ],
   "source": [
    "#Continue Process in for loop\n",
    "a=[1,2,4,5,8,3,6,7]\n",
    "for i in a:\n",
    "    if i>=6:\n",
    "        continue\n",
    "    else:\n",
    "        print(i)\n",
    "print(\"out\")"
   ]
  },
  {
   "cell_type": "code",
   "execution_count": 20,
   "id": "dd6ebdee-759f-4ea2-869f-f74262a62c72",
   "metadata": {},
   "outputs": [
    {
     "name": "stdin",
     "output_type": "stream",
     "text": [
      "Enter a Number 29\n"
     ]
    },
    {
     "name": "stdout",
     "output_type": "stream",
     "text": [
      "Numebr is Prime Number 29\n"
     ]
    }
   ],
   "source": [
    "#Prime Number Checking by for loop and flaging concept\n",
    "number=int(input(\"Enter a Number\"))  #7\n",
    "flag=0\n",
    "for i in range(2,number): #[2,3,4,5,6]\n",
    "    if number%i==0:\n",
    "        flag=1\n",
    "        break\n",
    "    else:\n",
    "        continue\n",
    "if flag==0:\n",
    "    print(\"Numebr is Prime Number\",number)\n",
    "else:\n",
    "    print(\"Number is Not Prime Number\",number)"
   ]
  },
  {
   "cell_type": "code",
   "execution_count": 24,
   "id": "ac4ff92f-4abf-42f8-ba0a-d2d9574033ee",
   "metadata": {},
   "outputs": [
    {
     "name": "stdout",
     "output_type": "stream",
     "text": [
      "list of Prime Number is : [7, 3, 11]\n",
      "list of Not Prime Number is : [8, 6, 9, 15, 12, 45]\n"
     ]
    }
   ],
   "source": [
    "#Prime Number Checking in for loop by list\n",
    "number_list = [7,8,3,6,9,15,11,12,45]\n",
    "prime = []\n",
    "not_prime = []\n",
    "for number in number_list: #number=7\n",
    "    flag=0\n",
    "    for i in range(2,number): #[2,3,4,5,6]\n",
    "        if number%i==0:\n",
    "            flag=1\n",
    "            break\n",
    "        else:\n",
    "            continue\n",
    "    if flag==0:\n",
    "        prime.append(number)\n",
    "    else:\n",
    "        not_prime.append(number)\n",
    "print(\"list of Prime Number is :\",prime)\n",
    "print(\"list of Not Prime Number is :\",not_prime)  "
   ]
  },
  {
   "cell_type": "code",
   "execution_count": 25,
   "id": "6a1651ce-0b64-44fd-ade2-02b81334352f",
   "metadata": {},
   "outputs": [
    {
     "name": "stdout",
     "output_type": "stream",
     "text": [
      "list of Prime Number is : [7, 3, 11] \n",
      "list of Not Prime Number is : [8, 6, 9, 15, 12, 45]\n"
     ]
    }
   ],
   "source": [
    "#Prime Number Checking in for loop by list\n",
    "number_list = [7,8,3,6,9,15,11,12,45]\n",
    "prime = []\n",
    "not_prime = []\n",
    "for number in number_list:\n",
    "    flag=0\n",
    "    for i in range(2,number):\n",
    "        if number%i==0:\n",
    "            flag=1\n",
    "            break\n",
    "        else:\n",
    "            continue\n",
    "    if flag==0:\n",
    "        prime.append(number)\n",
    "    else:\n",
    "        not_prime.append(number)\n",
    "print(\"list of Prime Number is :\",prime,\"\\nlist of Not Prime Number is :\",not_prime) "
   ]
  },
  {
   "cell_type": "code",
   "execution_count": 41,
   "id": "bd1b6ee8-4e41-439c-aa22-93f45f2b0319",
   "metadata": {},
   "outputs": [
    {
     "name": "stdin",
     "output_type": "stream",
     "text": [
      "Enter a Number : 0\n"
     ]
    },
    {
     "name": "stdout",
     "output_type": "stream",
     "text": [
      "Number is Not Prime 0\n"
     ]
    }
   ],
   "source": [
    "#Prime Number Checking by for loop and flaging concept\n",
    "number =int(input(\"Enter a Number :\"))\n",
    "if number==1:\n",
    "    print(\"Number is Not Prime\",number)    \n",
    "elif number>1:    \n",
    "    flag =0\n",
    "    for i in range(2,number):\n",
    "        if number%i==0:\n",
    "            flag=1\n",
    "            break\n",
    "        else:\n",
    "            continue\n",
    "    \n",
    "    if flag ==0:\n",
    "        print(\"Number is Prime\",number)\n",
    "    else:\n",
    "        print(\"Number is Not Prime\",number)\n",
    "else:\n",
    "    print(\"Number is Not Prime\",number)    "
   ]
  }
 ],
 "metadata": {
  "kernelspec": {
   "display_name": "Python 3 (ipykernel)",
   "language": "python",
   "name": "python3"
  },
  "language_info": {
   "codemirror_mode": {
    "name": "ipython",
    "version": 3
   },
   "file_extension": ".py",
   "mimetype": "text/x-python",
   "name": "python",
   "nbconvert_exporter": "python",
   "pygments_lexer": "ipython3",
   "version": "3.10.10"
  }
 },
 "nbformat": 4,
 "nbformat_minor": 5
}
