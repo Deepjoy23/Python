{
 "cells": [
  {
   "cell_type": "code",
   "execution_count": null,
   "id": "52a30aac-2be4-4a98-b40f-54e0180ff874",
   "metadata": {},
   "outputs": [],
   "source": [
    "#List is mutable datatype\n",
    "##Tuple is immutable datatype\n",
    "###String is immutable datatype"
   ]
  },
  {
   "cell_type": "markdown",
   "id": "fe09bed7-8e00-42bb-b5d5-01fc450956f9",
   "metadata": {},
   "source": [
    "## Tuple Datatype"
   ]
  },
  {
   "cell_type": "code",
   "execution_count": 14,
   "id": "442449e9-8cfa-45c6-baad-9a6dcf01e4e8",
   "metadata": {},
   "outputs": [
    {
     "name": "stdout",
     "output_type": "stream",
     "text": [
      "(1, 2, 3, 4, 5)\n",
      "<class 'tuple'>\n",
      "5\n",
      "1\n",
      "15\n",
      "5\n"
     ]
    }
   ],
   "source": [
    "#Tuple Datatype(elements are integers) ---type(),max(),min(),sum(),len() functions\n",
    "a=(1,2,3,4,5)\n",
    "print(a)\n",
    "print(type(a))\n",
    "print(max(a))\n",
    "print(min(a))\n",
    "print(sum(a))\n",
    "print(len(a))"
   ]
  },
  {
   "cell_type": "code",
   "execution_count": 12,
   "id": "2831283c-c60a-43dd-9650-d448d2f7f478",
   "metadata": {},
   "outputs": [
    {
     "name": "stdout",
     "output_type": "stream",
     "text": [
      "<class 'tuple'>\n",
      "z\n",
      "a\n",
      "4\n"
     ]
    }
   ],
   "source": [
    "#Tuple Datatype(elements are strings) ---type(),max(),min(),len() functions\n",
    "a=(\"deepjoy\",\"saikat\",\"a\",\"z\")\n",
    "print(a)\n",
    "print(type(a))\n",
    "print(max(a))\n",
    "print(min(a))\n",
    "print(len(a))"
   ]
  },
  {
   "cell_type": "code",
   "execution_count": 13,
   "id": "854eab34-baa0-4ec2-a563-747f39360947",
   "metadata": {},
   "outputs": [
    {
     "name": "stdout",
     "output_type": "stream",
     "text": [
      "('deepjoy', 'saikat', 1, 2, 4.5, 18.2, True, False)\n"
     ]
    }
   ],
   "source": [
    "#Tuple Datatype(elements are differnet datatypes)\n",
    "a=(\"deepjoy\",\"saikat\",1,2,4.5,18.2,True,False)\n",
    "print(a)"
   ]
  },
  {
   "cell_type": "code",
   "execution_count": 34,
   "id": "aa1f3087-df57-4e32-b2f1-388850f52490",
   "metadata": {},
   "outputs": [
    {
     "name": "stdout",
     "output_type": "stream",
     "text": [
      "1\n"
     ]
    }
   ],
   "source": [
    "#Tuple Datatype(index function)---find the index of value in tuple\n",
    "a=(\"deepjoy\",\"saikat\",1,2,4.5,18.2)\n",
    "print(a.index(\"saikat\"))"
   ]
  },
  {
   "cell_type": "code",
   "execution_count": 23,
   "id": "841b79cb-52a2-48a7-9127-309e210b0888",
   "metadata": {},
   "outputs": [
    {
     "name": "stdout",
     "output_type": "stream",
     "text": [
      "1\n"
     ]
    }
   ],
   "source": [
    "#Tuple Datatype(index function)---find the index of value in tuple\n",
    "a=(\"deepjoy\",\"saikat\",1,2,4.5,18.2)\n",
    "b=a.index(\"saikat\")\n",
    "print(b)"
   ]
  },
  {
   "cell_type": "code",
   "execution_count": 37,
   "id": "7be3f573-8efb-4c41-ad55-5a08327c0cbf",
   "metadata": {},
   "outputs": [
    {
     "data": {
      "text/plain": [
       "3"
      ]
     },
     "execution_count": 37,
     "metadata": {},
     "output_type": "execute_result"
    }
   ],
   "source": [
    "#Tuple Datatype(count function)---counting the occurance of a element in tuple\n",
    "a=(\"deepjoy\",\"saikat\",1,2,4.5,18.2,2,2,4.5)\n",
    "a.count(2)"
   ]
  },
  {
   "cell_type": "code",
   "execution_count": 42,
   "id": "ae21812e-6730-461d-b83b-6cc9ce3f7ec2",
   "metadata": {},
   "outputs": [
    {
     "name": "stdout",
     "output_type": "stream",
     "text": [
      "1\n"
     ]
    }
   ],
   "source": [
    "#Tuple Datatype(count function)---counting the occurance of a element in tuple\n",
    "a=(\"deepjoy\",\"saikat\",1,2,4.5,18.2,2,2,4.5)\n",
    "b=a.count(\"saikat\")\n",
    "print(b)"
   ]
  },
  {
   "cell_type": "code",
   "execution_count": 43,
   "id": "6be543d5-18fa-4b14-8713-d50711974d2d",
   "metadata": {},
   "outputs": [
    {
     "name": "stdout",
     "output_type": "stream",
     "text": [
      "[1, 8, 3, 4]\n"
     ]
    },
    {
     "ename": "TypeError",
     "evalue": "'tuple' object does not support item assignment",
     "output_type": "error",
     "traceback": [
      "\u001b[1;31m---------------------------------------------------------------------------\u001b[0m",
      "\u001b[1;31mTypeError\u001b[0m                                 Traceback (most recent call last)",
      "Cell \u001b[1;32mIn[43], line 5\u001b[0m\n\u001b[0;32m      3\u001b[0m a[\u001b[38;5;241m1\u001b[39m]\u001b[38;5;241m=\u001b[39m\u001b[38;5;241m8\u001b[39m\n\u001b[0;32m      4\u001b[0m \u001b[38;5;28mprint\u001b[39m(a)\n\u001b[1;32m----> 5\u001b[0m \u001b[43mb\u001b[49m\u001b[43m[\u001b[49m\u001b[38;5;241;43m1\u001b[39;49m\u001b[43m]\u001b[49m\u001b[38;5;241m=\u001b[39m\u001b[38;5;241m9\u001b[39m\n\u001b[0;32m      6\u001b[0m \u001b[38;5;28mprint\u001b[39m(b)\n",
      "\u001b[1;31mTypeError\u001b[0m: 'tuple' object does not support item assignment"
     ]
    }
   ],
   "source": [
    "a=[1,2,3,4] #list is mutable datatype\n",
    "b=(2,5,6) #tuple is immutable datatype\n",
    "a[1]=8 \n",
    "print(a)\n",
    "b[1]=9\n",
    "print(b)"
   ]
  },
  {
   "cell_type": "code",
   "execution_count": 1,
   "id": "9f696584-c1f7-45d6-8038-fdb929dd2b6e",
   "metadata": {},
   "outputs": [
    {
     "name": "stdout",
     "output_type": "stream",
     "text": [
      "[4, 5, 6]\n"
     ]
    }
   ],
   "source": [
    "#list inside a tuple\n",
    "a=(1,2,3,[4,5,6],18,19)\n",
    "print(a[3])"
   ]
  },
  {
   "cell_type": "code",
   "execution_count": 4,
   "id": "b650b292-ffa0-43fc-81d1-2176210e4a9c",
   "metadata": {},
   "outputs": [
    {
     "name": "stdout",
     "output_type": "stream",
     "text": [
      "(1, 2, 3, [4, 5, 6, 7], 18, 19)\n"
     ]
    }
   ],
   "source": [
    "#list inside a tuple----append function using in the list which is inside a tuple\n",
    "a=(1,2,3,[4,5,6],18,19)\n",
    "a[3].append(7)\n",
    "print(a)"
   ]
  },
  {
   "cell_type": "code",
   "execution_count": 6,
   "id": "ef61832f-d538-451e-b6f0-eb5984498ad0",
   "metadata": {},
   "outputs": [
    {
     "name": "stdout",
     "output_type": "stream",
     "text": [
      "[1, 2, 3, (7, 8, 9, 10), 18, 19]\n"
     ]
    }
   ],
   "source": [
    "#tuple inside a list\n",
    "a=[1,2,3,(4,5,6),18,19]\n",
    "a[3]=(7,8,9,10)\n",
    "print(a)"
   ]
  },
  {
   "cell_type": "markdown",
   "id": "f720c0ce-bf0d-4ca8-89bd-e1ac9fa0bb4b",
   "metadata": {},
   "source": [
    "## Dictionary Datatype"
   ]
  },
  {
   "cell_type": "code",
   "execution_count": 10,
   "id": "5769932c-bcae-4a1c-a930-3b1782c575c4",
   "metadata": {},
   "outputs": [
    {
     "name": "stdout",
     "output_type": "stream",
     "text": [
      "{1: [2, 4, 5, 6], 2: (1, 5, 6), 3: 1, 'saikat': 2.5, 5: True, 6: 'deepjoy'}\n",
      "<class 'dict'>\n"
     ]
    }
   ],
   "source": [
    "#dictionary datatype combination of key and value---key should be unique and any datatype---values will be any datatype\n",
    "a={\n",
    "    1:[2,4,5,6],\n",
    "    2:(1,5,6),\n",
    "    3:1,\n",
    "    \"saikat\":2.5,\n",
    "    5:True,\n",
    "    6:\"deepjoy\"    \n",
    "}\n",
    "print(a)\n",
    "print(type(a))"
   ]
  },
  {
   "cell_type": "code",
   "execution_count": 14,
   "id": "27468f6b-a81c-4a3f-9453-23f0994656b4",
   "metadata": {},
   "outputs": [
    {
     "name": "stdout",
     "output_type": "stream",
     "text": [
      "{1: [2, 4, 5, 6], 2: (1, 5, 6), 3: 1, 'saikat': 2.5, 5: True, 6: 'deepjoy'}\n",
      "<class 'dict'>\n"
     ]
    },
    {
     "data": {
      "text/plain": [
       "True"
      ]
     },
     "execution_count": 14,
     "metadata": {},
     "output_type": "execute_result"
    }
   ],
   "source": [
    "#print values with the help of keys in a dictionary datatype\n",
    "a={\n",
    "    1:[2,4,5,6],\n",
    "    2:(1,5,6),\n",
    "    3:1,\n",
    "    \"saikat\":2.5,\n",
    "    5:True,\n",
    "    6:\"deepjoy\"    \n",
    "}\n",
    "print(a)\n",
    "print(type(a))\n",
    "a[5]"
   ]
  },
  {
   "cell_type": "code",
   "execution_count": 15,
   "id": "0f9fd0cd-b1d8-465d-9dc6-c3e5c19cb049",
   "metadata": {},
   "outputs": [
    {
     "name": "stdout",
     "output_type": "stream",
     "text": [
      "{1: [2, 4, 5, 6], 2: (1, 5, 6), 3: 1, 'saikat': 2.5, 5: True, 6: 'deepjoy'}\n",
      "<class 'dict'>\n"
     ]
    },
    {
     "data": {
      "text/plain": [
       "2.5"
      ]
     },
     "execution_count": 15,
     "metadata": {},
     "output_type": "execute_result"
    }
   ],
   "source": [
    "#print values with the help of keys in a dictionary datatype\n",
    "a={\n",
    "    1:[2,4,5,6],\n",
    "    2:(1,5,6),\n",
    "    3:1,\n",
    "    \"saikat\":2.5,\n",
    "    5:True,\n",
    "    6:\"deepjoy\"    \n",
    "}\n",
    "print(a)\n",
    "print(type(a))\n",
    "a[\"saikat\"]"
   ]
  },
  {
   "cell_type": "code",
   "execution_count": 13,
   "id": "d304b900-4994-4714-83eb-c45f54efc307",
   "metadata": {},
   "outputs": [
    {
     "name": "stdout",
     "output_type": "stream",
     "text": [
      "{1: [2, 4, 5, 6], 2: (1, 5, 6), 3: 1, 'saikat': 2.5, 5: True, 6: 'deepjoy'}\n",
      "<class 'dict'>\n",
      "[2, 4, 5, 6] (1, 5, 6) 1 2.5 True deepjoy\n"
     ]
    }
   ],
   "source": [
    "#print values with the help of keys in a dictionary datatype\n",
    "a={\n",
    "    1:[2,4,5,6],\n",
    "    2:(1,5,6),\n",
    "    3:1,\n",
    "    \"saikat\":2.5,\n",
    "    5:True,\n",
    "    6:\"deepjoy\"    \n",
    "}\n",
    "print(a)\n",
    "print(type(a))\n",
    "print(a[1],a[2],a[3],a[\"saikat\"],a[5],a[6])"
   ]
  },
  {
   "cell_type": "code",
   "execution_count": 1,
   "id": "53e0929a-3a2d-44ed-a67d-4c552a34ba44",
   "metadata": {},
   "outputs": [
    {
     "name": "stdout",
     "output_type": "stream",
     "text": [
      "{1: [2, 4, 5, 6], 2: (1, 5, 6), 3: 1, 'saikat': 2.5, 5: True, 6: 'deepjoy'}\n",
      "<class 'dict'>\n",
      "{1: [2, 4, 5, 6, 8], 2: (1, 5, 6), 3: 1, 'saikat': 2.5, 5: True, 6: 'deepjoy'}\n"
     ]
    }
   ],
   "source": [
    "#print values with the help of keys in a dictionary datatype\n",
    "a={\n",
    "    1:[2,4,5,6],\n",
    "    2:(1,5,6),\n",
    "    3:1,\n",
    "    \"saikat\":2.5,\n",
    "    5:True,\n",
    "    6:\"deepjoy\"    \n",
    "}\n",
    "print(a)\n",
    "print(type(a))\n",
    "a[1].append(8) #append function using list which is inside of a dictionary\n",
    "print(a)"
   ]
  },
  {
   "cell_type": "code",
   "execution_count": 2,
   "id": "d4cc76b8-b776-4cb0-8b4e-6585e1f612c0",
   "metadata": {},
   "outputs": [
    {
     "name": "stdout",
     "output_type": "stream",
     "text": [
      "dict_keys([1, 2, 3, 'saikat', 5, 6])\n"
     ]
    }
   ],
   "source": [
    "#dictionary datatype (keys() function)--printing all keys inside a dictionary\n",
    "a={\n",
    "    1:[2,4,5,6],\n",
    "    2:(1,5,6),\n",
    "    3:1,\n",
    "    \"saikat\":2.5,\n",
    "    5:True,\n",
    "    6:\"deepjoy\"    \n",
    "}\n",
    "print(a.keys())"
   ]
  },
  {
   "cell_type": "code",
   "execution_count": 3,
   "id": "69f832d8-dacc-4284-89d2-98157c5a7fcb",
   "metadata": {},
   "outputs": [
    {
     "name": "stdout",
     "output_type": "stream",
     "text": [
      "dict_values([[2, 4, 5, 6], (1, 5, 6), 1, 2.5, True, 'deepjoy'])\n"
     ]
    }
   ],
   "source": [
    "#dictionary datatype (values() function)--printing all values inside a dictionary\n",
    "a={\n",
    "    1:[2,4,5,6],\n",
    "    2:(1,5,6),\n",
    "    3:1,\n",
    "    \"saikat\":2.5,\n",
    "    5:True,\n",
    "    6:\"deepjoy\"    \n",
    "}\n",
    "print(a.values())"
   ]
  },
  {
   "cell_type": "code",
   "execution_count": 6,
   "id": "da8bdb71-bc14-4034-a3bb-9a0c1c740e23",
   "metadata": {},
   "outputs": [
    {
     "name": "stdout",
     "output_type": "stream",
     "text": [
      "{2: (1, 5, 6), 3: 1, 'saikat': 2.5, 5: True, 6: 'deepjoy'}\n"
     ]
    }
   ],
   "source": [
    "#dictionary datatype (pop() function)----remove specific keys with its values\n",
    "a={\n",
    "    1:[2,4,5,6],\n",
    "    2:(1,5,6),\n",
    "    3:1,\n",
    "    \"saikat\":2.5,\n",
    "    5:True,\n",
    "    6:\"deepjoy\"    \n",
    "}\n",
    "a.pop(1)\n",
    "print(a)"
   ]
  },
  {
   "cell_type": "code",
   "execution_count": 9,
   "id": "9a5a0f9c-2ee3-42f8-92e0-045833f6d0f3",
   "metadata": {},
   "outputs": [
    {
     "data": {
      "text/plain": [
       "dict_items([(1, [2, 4, 5, 6]), (2, (1, 5, 6)), (3, 1), ('saikat', 2.5), (5, True), (6, 'deepjoy')])"
      ]
     },
     "execution_count": 9,
     "metadata": {},
     "output_type": "execute_result"
    }
   ],
   "source": [
    "#dictionary datatype (items() function)--printing all items or elements as key and value pairs inside a dictionary\n",
    "a={\n",
    "    1:[2,4,5,6],\n",
    "    2:(1,5,6),\n",
    "    3:1,\n",
    "    \"saikat\":2.5,\n",
    "    5:True,\n",
    "    6:\"deepjoy\"    \n",
    "}\n",
    "a.items()"
   ]
  },
  {
   "cell_type": "code",
   "execution_count": 10,
   "id": "cf6e95a0-af4c-4cd4-af7d-0608986ccf8c",
   "metadata": {},
   "outputs": [
    {
     "name": "stdout",
     "output_type": "stream",
     "text": [
      "{}\n"
     ]
    }
   ],
   "source": [
    "#dictionary datatype (clear() function)--delete all items or elements key and value inside a dictionary\n",
    "a={\n",
    "    1:[2,4,5,6],\n",
    "    2:(1,5,6),\n",
    "    3:1,\n",
    "    \"saikat\":2.5,\n",
    "    5:True,\n",
    "    6:\"deepjoy\"    \n",
    "}\n",
    "a.clear()\n",
    "print(a)"
   ]
  },
  {
   "cell_type": "code",
   "execution_count": 11,
   "id": "f3bcfc72-a6a9-48ef-9966-31773a1a39b1",
   "metadata": {},
   "outputs": [
    {
     "name": "stdout",
     "output_type": "stream",
     "text": [
      "{1: [2, 4, 5, 6], 2: (1, 5, 6), 3: 1, 'saikat': 2.5, 5: True, 6: 'deepjoy'}\n",
      "{1: [2, 4, 5, 6], 2: (1, 5, 6), 3: 1, 'saikat': 2.5, 5: True, 6: 'deepjoy'}\n"
     ]
    }
   ],
   "source": [
    "#dictionary datatype (copy() function)--copy all items or elements key and value inside a dictionary to another dictionary\n",
    "a={\n",
    "    1:[2,4,5,6],\n",
    "    2:(1,5,6),\n",
    "    3:1,\n",
    "    \"saikat\":2.5,\n",
    "    5:True,\n",
    "    6:\"deepjoy\"    \n",
    "}\n",
    "b=a.copy()\n",
    "print(a)\n",
    "print(b)"
   ]
  },
  {
   "cell_type": "code",
   "execution_count": 12,
   "id": "b7d73a75-0953-4886-984d-ead2aee7285c",
   "metadata": {},
   "outputs": [
    {
     "name": "stdout",
     "output_type": "stream",
     "text": [
      "{1: [2, 4, 5, 6], 2: (1, 5, 6), 3: 1, 'saikat': 2.5, 5: True}\n"
     ]
    }
   ],
   "source": [
    "#dictionary datatype (popitem() function)--delete last key and its values of a dictionary\n",
    "a={\n",
    "    1:[2,4,5,6],\n",
    "    2:(1,5,6),\n",
    "    3:1,\n",
    "    \"saikat\":2.5,\n",
    "    5:True,\n",
    "    6:\"deepjoy\"    \n",
    "}\n",
    "a.popitem()\n",
    "print(a)"
   ]
  },
  {
   "cell_type": "code",
   "execution_count": 15,
   "id": "fe4cfcbe-0460-4c7c-a4d4-1dd837f521c6",
   "metadata": {},
   "outputs": [
    {
     "name": "stdout",
     "output_type": "stream",
     "text": [
      "{1: [2, 4, 5, 6], 2: (1, 5, 6), 3: 1, 'saikat': 2.5, 5: True, 6: 'deepjoy'} {'saikat': 2.5, 5: True, 6: 'deepjoy'}\n"
     ]
    }
   ],
   "source": [
    "#dictionary datatype (update() function)--updating a dictionary from b dictionary\n",
    "a={\n",
    "    1:[2,4,5,6],\n",
    "    2:(1,5,6),\n",
    "    3:1   \n",
    "}\n",
    "b={\n",
    "    \"saikat\":2.5,\n",
    "    5:True,\n",
    "    6:\"deepjoy\"    \n",
    "}\n",
    "a.update(b)\n",
    "print(a,b)"
   ]
  },
  {
   "cell_type": "code",
   "execution_count": 16,
   "id": "e1cac196-6e38-4a17-96ed-f19d338ca899",
   "metadata": {},
   "outputs": [
    {
     "name": "stdout",
     "output_type": "stream",
     "text": [
      "{1: [2, 4, 5, 6], 2: (1, 5, 6), 3: 1} {'saikat': 2.5, 5: True, 6: 'deepjoy', 1: [2, 4, 5, 6], 2: (1, 5, 6), 3: 1}\n"
     ]
    }
   ],
   "source": [
    "#dictionary datatype (update() function)--updating b dictionary from a dictionary\n",
    "a={\n",
    "    1:[2,4,5,6],\n",
    "    2:(1,5,6),\n",
    "    3:1   \n",
    "}\n",
    "b={\n",
    "    \"saikat\":2.5,\n",
    "    5:True,\n",
    "    6:\"deepjoy\"    \n",
    "}\n",
    "b.update(a)\n",
    "print(a,b)"
   ]
  },
  {
   "cell_type": "code",
   "execution_count": 19,
   "id": "a80ac9cd-3f32-4d31-a384-4660ac175c13",
   "metadata": {},
   "outputs": [
    {
     "name": "stdout",
     "output_type": "stream",
     "text": [
      "True\n"
     ]
    }
   ],
   "source": [
    "#dictionary datatype (get() function)--getting values with the help of key in a dictionary \n",
    "a={\n",
    "    1:[2,4,5,6],\n",
    "    2:(1,5,6),\n",
    "    3:1,\n",
    "    \"saikat\":2.5,\n",
    "    5:True,\n",
    "    6:\"deepjoy\"    \n",
    "}\n",
    "print(a.get(5))"
   ]
  },
  {
   "cell_type": "code",
   "execution_count": 20,
   "id": "790edb77-e7f7-45d5-92ad-7ee538260c5f",
   "metadata": {},
   "outputs": [
    {
     "name": "stdout",
     "output_type": "stream",
     "text": [
      "None\n"
     ]
    }
   ],
   "source": [
    "#dictionary datatype (get() function)--getting values with the help of key in a dictionary---wrong key input will return None in a dictionary\n",
    "a={\n",
    "    1:[2,4,5,6],\n",
    "    2:(1,5,6),\n",
    "    3:1,\n",
    "    \"saikat\":2.5,\n",
    "    5:True,\n",
    "    6:\"deepjoy\"    \n",
    "}\n",
    "print(a.get(10))"
   ]
  },
  {
   "cell_type": "code",
   "execution_count": 22,
   "id": "2c161f57-0a6f-4455-9c9d-636950192920",
   "metadata": {},
   "outputs": [
    {
     "ename": "KeyError",
     "evalue": "8",
     "output_type": "error",
     "traceback": [
      "\u001b[1;31m---------------------------------------------------------------------------\u001b[0m",
      "\u001b[1;31mKeyError\u001b[0m                                  Traceback (most recent call last)",
      "Cell \u001b[1;32mIn[22], line 10\u001b[0m\n\u001b[0;32m      1\u001b[0m \u001b[38;5;66;03m#dictionary datatype (get() function)--getting values with the help of key in a dictionary \u001b[39;00m\n\u001b[0;32m      2\u001b[0m a\u001b[38;5;241m=\u001b[39m{\n\u001b[0;32m      3\u001b[0m     \u001b[38;5;241m1\u001b[39m:[\u001b[38;5;241m2\u001b[39m,\u001b[38;5;241m4\u001b[39m,\u001b[38;5;241m5\u001b[39m,\u001b[38;5;241m6\u001b[39m],\n\u001b[0;32m      4\u001b[0m     \u001b[38;5;241m2\u001b[39m:(\u001b[38;5;241m1\u001b[39m,\u001b[38;5;241m5\u001b[39m,\u001b[38;5;241m6\u001b[39m),\n\u001b[1;32m   (...)\u001b[0m\n\u001b[0;32m      8\u001b[0m     \u001b[38;5;241m6\u001b[39m:\u001b[38;5;124m\"\u001b[39m\u001b[38;5;124mdeepjoy\u001b[39m\u001b[38;5;124m\"\u001b[39m    \n\u001b[0;32m      9\u001b[0m }\n\u001b[1;32m---> 10\u001b[0m \u001b[38;5;28mprint\u001b[39m(\u001b[43ma\u001b[49m\u001b[43m[\u001b[49m\u001b[38;5;241;43m8\u001b[39;49m\u001b[43m]\u001b[49m)\n",
      "\u001b[1;31mKeyError\u001b[0m: 8"
     ]
    }
   ],
   "source": [
    "#dictionary datatype key wise value printing ----wrong key input will return error in  a dictionary\n",
    "a={\n",
    "    1:[2,4,5,6],\n",
    "    2:(1,5,6),\n",
    "    3:1,\n",
    "    \"saikat\":2.5,\n",
    "    5:True,\n",
    "    6:\"deepjoy\"    \n",
    "}\n",
    "print(a[8])"
   ]
  },
  {
   "cell_type": "code",
   "execution_count": 21,
   "id": "d9f0581b-6b85-4a7f-9898-ca1c1c2f9408",
   "metadata": {},
   "outputs": [
    {
     "name": "stdout",
     "output_type": "stream",
     "text": [
      "None\n",
      "Deepjoy\n",
      "Saikat\n"
     ]
    }
   ],
   "source": [
    "#dictionary datatype (get() function)--getting values with the help of key in a dictionary---wrong key input will return None in a dictionary\n",
    "a={\n",
    "    1:[2,4,5,6],\n",
    "    2:(1,5,6),\n",
    "    3:1,\n",
    "    \"saikat\":2.5,\n",
    "    5:True,\n",
    "    6:\"deepjoy\"    \n",
    "}\n",
    "print(a.get(10))\n",
    "print(\"Deepjoy\")\n",
    "print(\"Saikat\")"
   ]
  },
  {
   "cell_type": "code",
   "execution_count": 23,
   "id": "da4c4022-7174-4ff8-ad51-cc71678f0b0d",
   "metadata": {},
   "outputs": [
    {
     "ename": "KeyError",
     "evalue": "10",
     "output_type": "error",
     "traceback": [
      "\u001b[1;31m---------------------------------------------------------------------------\u001b[0m",
      "\u001b[1;31mKeyError\u001b[0m                                  Traceback (most recent call last)",
      "Cell \u001b[1;32mIn[23], line 10\u001b[0m\n\u001b[0;32m      1\u001b[0m \u001b[38;5;66;03m#dictionary datatype (get() function)----wrong key input will return error in  a dictionary\u001b[39;00m\n\u001b[0;32m      2\u001b[0m a\u001b[38;5;241m=\u001b[39m{\n\u001b[0;32m      3\u001b[0m     \u001b[38;5;241m1\u001b[39m:[\u001b[38;5;241m2\u001b[39m,\u001b[38;5;241m4\u001b[39m,\u001b[38;5;241m5\u001b[39m,\u001b[38;5;241m6\u001b[39m],\n\u001b[0;32m      4\u001b[0m     \u001b[38;5;241m2\u001b[39m:(\u001b[38;5;241m1\u001b[39m,\u001b[38;5;241m5\u001b[39m,\u001b[38;5;241m6\u001b[39m),\n\u001b[1;32m   (...)\u001b[0m\n\u001b[0;32m      8\u001b[0m     \u001b[38;5;241m6\u001b[39m:\u001b[38;5;124m\"\u001b[39m\u001b[38;5;124mdeepjoy\u001b[39m\u001b[38;5;124m\"\u001b[39m    \n\u001b[0;32m      9\u001b[0m }\n\u001b[1;32m---> 10\u001b[0m \u001b[38;5;28mprint\u001b[39m(\u001b[43ma\u001b[49m\u001b[43m[\u001b[49m\u001b[38;5;241;43m10\u001b[39;49m\u001b[43m]\u001b[49m)\n\u001b[0;32m     11\u001b[0m \u001b[38;5;28mprint\u001b[39m(\u001b[38;5;124m\"\u001b[39m\u001b[38;5;124mDeepjoy\u001b[39m\u001b[38;5;124m\"\u001b[39m)\n\u001b[0;32m     12\u001b[0m \u001b[38;5;28mprint\u001b[39m(\u001b[38;5;124m\"\u001b[39m\u001b[38;5;124mSaikat\u001b[39m\u001b[38;5;124m\"\u001b[39m)\n",
      "\u001b[1;31mKeyError\u001b[0m: 10"
     ]
    }
   ],
   "source": [
    "#dictionary datatype key wise value printing----wrong key input will return error in  a dictionary\n",
    "a={\n",
    "    1:[2,4,5,6],\n",
    "    2:(1,5,6),\n",
    "    3:1,\n",
    "    \"saikat\":2.5,\n",
    "    5:True,\n",
    "    6:\"deepjoy\"    \n",
    "}\n",
    "print(a[10])\n",
    "print(\"Deepjoy\")\n",
    "print(\"Saikat\")"
   ]
  },
  {
   "cell_type": "markdown",
   "id": "dff9a9db-a8d6-408e-bdf2-fc0a1a7f1333",
   "metadata": {},
   "source": [
    "## Set Datatype"
   ]
  },
  {
   "cell_type": "code",
   "execution_count": 41,
   "id": "7f0e2431-9b1a-404e-8205-ae2a6c507c6b",
   "metadata": {},
   "outputs": [
    {
     "name": "stdout",
     "output_type": "stream",
     "text": [
      "{1, 2, 3, 4, 5, 6, 7, 10}\n",
      "<class 'set'>\n"
     ]
    }
   ],
   "source": [
    "#set datatype for integer as elements\n",
    "a={1,2,3,4,5,5,6,6,7,10}\n",
    "print(a) #only print distinct values inside a set datatype\n",
    "print(type(a))"
   ]
  },
  {
   "cell_type": "code",
   "execution_count": 40,
   "id": "4fe04cc1-3c19-48b4-bb5a-af0cec612551",
   "metadata": {},
   "outputs": [
    {
     "name": "stdout",
     "output_type": "stream",
     "text": [
      "{1, 2, 3.5, 'saikat', 'a', 17.6, 18, 'deepjoy'}\n",
      "<class 'set'>\n"
     ]
    }
   ],
   "source": [
    "#set datatype for mixed datatypes as elements\n",
    "a={1,2,2,3.5,3.5,17.6,\"deepjoy\",2,\"saikat\",\"a\",18,\"a\"}\n",
    "print(a) #only print distinct values inside a set datatype\n",
    "print(type(a))"
   ]
  },
  {
   "cell_type": "markdown",
   "id": "daca3214-eb81-4550-b766-590b89ed1a00",
   "metadata": {},
   "source": [
    "### Different Datatype conversions"
   ]
  },
  {
   "cell_type": "code",
   "execution_count": 32,
   "id": "281417cd-8776-48bb-b625-268e59a8a3d6",
   "metadata": {},
   "outputs": [
    {
     "name": "stdout",
     "output_type": "stream",
     "text": [
      "<class 'tuple'> (1, 2, 3, 4)\n",
      "<class 'list'> [1, 2, 3, 4]\n"
     ]
    }
   ],
   "source": [
    "#tuple to list datatype conversion\n",
    "a=(1,2,3,4)\n",
    "b=list(a)\n",
    "print(type(a),a)\n",
    "print(type(b),b)"
   ]
  },
  {
   "cell_type": "code",
   "execution_count": 34,
   "id": "e368efa9-ae6a-427b-81c8-cbf583295d7d",
   "metadata": {},
   "outputs": [
    {
     "name": "stdout",
     "output_type": "stream",
     "text": [
      "<class 'list'>\n",
      "['d', 'e', 'b', 'r', 'a', 'j']\n"
     ]
    }
   ],
   "source": [
    "#string to list datatype conversion\n",
    "a=list(\"debraj\")\n",
    "print(type(a))\n",
    "print(a)"
   ]
  },
  {
   "cell_type": "code",
   "execution_count": 39,
   "id": "d9b45032-6d1f-4217-83be-b5cf7a3510b6",
   "metadata": {},
   "outputs": [
    {
     "name": "stdout",
     "output_type": "stream",
     "text": [
      "<class 'set'> {1, 2, 3, 4}\n",
      "<class 'list'> [1, 2, 3, 4]\n"
     ]
    }
   ],
   "source": [
    "#set to list datatype conversion\n",
    "a={1,2,3,4}\n",
    "b=list(a)\n",
    "print(type(a),a)\n",
    "print(type(b),b)"
   ]
  },
  {
   "cell_type": "code",
   "execution_count": 43,
   "id": "30624347-9312-4611-88be-09ee69a8167a",
   "metadata": {},
   "outputs": [
    {
     "name": "stdout",
     "output_type": "stream",
     "text": [
      "<class 'list'> [1, 2, 3, 4]\n",
      "<class 'tuple'> (1, 2, 3, 4)\n"
     ]
    }
   ],
   "source": [
    "#list to tuple datatype conversion\n",
    "a=[1,2,3,4]\n",
    "b=tuple(a)\n",
    "print(type(a),a)\n",
    "print(type(b),b)"
   ]
  },
  {
   "cell_type": "code",
   "execution_count": 44,
   "id": "a9b07fac-8486-4d6f-8090-488279726c69",
   "metadata": {},
   "outputs": [
    {
     "name": "stdout",
     "output_type": "stream",
     "text": [
      "<class 'tuple'>\n",
      "('d', 'e', 'b', 'r', 'a', 'j')\n"
     ]
    }
   ],
   "source": [
    "#string to tuple datatype conversion\n",
    "a=tuple(\"debraj\")\n",
    "print(type(a))\n",
    "print(a)"
   ]
  },
  {
   "cell_type": "code",
   "execution_count": 45,
   "id": "42ada680-1d31-4a84-8923-9f5050433e8f",
   "metadata": {},
   "outputs": [
    {
     "name": "stdout",
     "output_type": "stream",
     "text": [
      "<class 'set'> {1, 2, 3, 4}\n",
      "<class 'tuple'> (1, 2, 3, 4)\n"
     ]
    }
   ],
   "source": [
    "#set to tuple datatype conversion\n",
    "a={1,2,3,4}\n",
    "b=tuple(a)\n",
    "print(type(a),a)\n",
    "print(type(b),b)"
   ]
  },
  {
   "cell_type": "code",
   "execution_count": 46,
   "id": "209f2107-58a0-4326-8124-0f8a39e3b051",
   "metadata": {},
   "outputs": [
    {
     "name": "stdout",
     "output_type": "stream",
     "text": [
      "<class 'tuple'> (1, 2, 3, 4)\n",
      "<class 'set'> {1, 2, 3, 4}\n"
     ]
    }
   ],
   "source": [
    "#tuple to set datatype conversion\n",
    "a=(1,2,3,4)\n",
    "b=set(a)\n",
    "print(type(a),a)\n",
    "print(type(b),b)"
   ]
  },
  {
   "cell_type": "code",
   "execution_count": 47,
   "id": "ee0c591f-6965-4102-8b23-38954c06becc",
   "metadata": {},
   "outputs": [
    {
     "name": "stdout",
     "output_type": "stream",
     "text": [
      "<class 'set'>\n",
      "{'r', 'a', 'd', 'j', 'b', 'e'}\n"
     ]
    }
   ],
   "source": [
    "#string to set datatype conversion\n",
    "a=set(\"debraj\")\n",
    "print(type(a))\n",
    "print(a)"
   ]
  },
  {
   "cell_type": "code",
   "execution_count": 48,
   "id": "09bdc53d-9a0f-4fcf-a04b-93ebff96a25f",
   "metadata": {},
   "outputs": [
    {
     "name": "stdout",
     "output_type": "stream",
     "text": [
      "<class 'list'> [1, 2, 3, 4]\n",
      "<class 'tuple'> (1, 2, 3, 4)\n"
     ]
    }
   ],
   "source": [
    "#list to set datatype conversion\n",
    "a=[1,2,3,4]\n",
    "b=tuple(a)\n",
    "print(type(a),a)\n",
    "print(type(b),b)"
   ]
  },
  {
   "cell_type": "code",
   "execution_count": 51,
   "id": "264d977f-29eb-409f-831d-bed42d504891",
   "metadata": {},
   "outputs": [
    {
     "name": "stdout",
     "output_type": "stream",
     "text": [
      "<class 'dict'>\n",
      "{1: 15, 2.5: 5.9, 'debraj': True, False: 45, 29: 'saikat'}\n"
     ]
    }
   ],
   "source": [
    "#dictionary datatype\n",
    "a=dict([(1,15),(2.5,5.9),(\"debraj\",True),(False,45),(29,\"saikat\")])\n",
    "print(type(a))\n",
    "print(a)"
   ]
  },
  {
   "cell_type": "code",
   "execution_count": 52,
   "id": "6e371a59-d3bc-4ed9-a69a-d2786ccbdac4",
   "metadata": {},
   "outputs": [
    {
     "name": "stdout",
     "output_type": "stream",
     "text": [
      "<class 'dict'>\n",
      "{1: 15, 2.5: 5.9, 'debraj': True, False: 45, 29: 'saikat'}\n"
     ]
    }
   ],
   "source": [
    "#dictionary datatype\n",
    "a=dict(((1,15),(2.5,5.9),(\"debraj\",True),(False,45),(29,\"saikat\")))\n",
    "print(type(a))\n",
    "print(a)"
   ]
  },
  {
   "cell_type": "code",
   "execution_count": 53,
   "id": "92bf0c40-181c-45d3-af93-34297b0f645d",
   "metadata": {},
   "outputs": [
    {
     "name": "stdout",
     "output_type": "stream",
     "text": [
      "<class 'dict'>\n",
      "{1: 15, 2.5: 5.9, 'debraj': True, False: 45, 29: 'saikat'}\n"
     ]
    }
   ],
   "source": [
    "#dictionary datatype\n",
    "a=dict([[1,15],[2.5,5.9],[\"debraj\",True],[False,45],[29,\"saikat\"]])\n",
    "print(type(a))\n",
    "print(a)"
   ]
  },
  {
   "cell_type": "code",
   "execution_count": 55,
   "id": "7770e72f-fa90-43f2-aca4-3d0d5c5caebf",
   "metadata": {},
   "outputs": [
    {
     "name": "stdout",
     "output_type": "stream",
     "text": [
      "<class 'dict'>\n",
      "{1: 15, 2.5: 5.9, 'debraj': True, False: 45, 29: 'saikat'}\n"
     ]
    }
   ],
   "source": [
    "#dictionary datatype\n",
    "a=dict(([1,15],[2.5,5.9],[\"debraj\",True],[False,45],[29,\"saikat\"]))\n",
    "print(type(a))\n",
    "print(a)"
   ]
  },
  {
   "cell_type": "code",
   "execution_count": 1,
   "id": "9c9a4539-3ea7-4f6f-87e1-0438afce76ce",
   "metadata": {},
   "outputs": [
    {
     "name": "stdout",
     "output_type": "stream",
     "text": [
      "[1, 2, 3, 4, 5, 6]\n"
     ]
    }
   ],
   "source": [
    "# Concatinate list of list in a single flatten list\n",
    "list_of_lists = [[1, 2, 3], [4, 5], [6]]\n",
    "flattened_list = sum(list_of_lists, [])\n",
    "print(flattened_list)"
   ]
  },
  {
   "cell_type": "code",
   "execution_count": 2,
   "id": "9d91954d-58fb-4c55-9031-baa44b1f95df",
   "metadata": {},
   "outputs": [
    {
     "name": "stdout",
     "output_type": "stream",
     "text": [
      "<class 'list'>\n",
      "['Deepjoy']\n"
     ]
    }
   ],
   "source": [
    "# Convert a String into a Single list\n",
    "string = \"Deepjoy\"\n",
    "string_list = [string]\n",
    "print(type(string_list))\n",
    "print(string_list)"
   ]
  },
  {
   "cell_type": "code",
   "execution_count": null,
   "id": "3b30afb0-55b1-4aa3-98ed-99ae8402034e",
   "metadata": {},
   "outputs": [],
   "source": []
  }
 ],
 "metadata": {
  "kernelspec": {
   "display_name": "Python 3 (ipykernel)",
   "language": "python",
   "name": "python3"
  },
  "language_info": {
   "codemirror_mode": {
    "name": "ipython",
    "version": 3
   },
   "file_extension": ".py",
   "mimetype": "text/x-python",
   "name": "python",
   "nbconvert_exporter": "python",
   "pygments_lexer": "ipython3",
   "version": "3.10.10"
  }
 },
 "nbformat": 4,
 "nbformat_minor": 5
}
