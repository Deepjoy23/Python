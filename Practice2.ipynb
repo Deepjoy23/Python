{
 "cells": [
  {
   "cell_type": "code",
   "execution_count": 4,
   "id": "beca0e54-48c7-48be-b0cc-43e17db19f84",
   "metadata": {},
   "outputs": [
    {
     "name": "stdout",
     "output_type": "stream",
     "text": [
      "25 <class 'int'>\n",
      "50 <class 'str'>\n",
      "The Result is :  75\n",
      "75 <class 'int'>\n"
     ]
    }
   ],
   "source": [
    "#Type Casting\n",
    "a=25\n",
    "print(a, type(a))\n",
    "b=\"50\"\n",
    "print(b, type(b))\n",
    "\n",
    "sum=int(a)+int(b)\n",
    "print(\"The Result is : \",sum)\n",
    "print(sum, type(sum))"
   ]
  },
  {
   "cell_type": "code",
   "execution_count": 5,
   "id": "5f9ce190-cf6c-43dd-8303-db98c6309499",
   "metadata": {},
   "outputs": [
    {
     "name": "stdout",
     "output_type": "stream",
     "text": [
      "The Result is :  2526\n"
     ]
    }
   ],
   "source": [
    "#Concatination\n",
    "aa=25\n",
    "bb=26\n",
    "result=str(aa)+str(bb)\n",
    "print(\"The Result is : \",result)"
   ]
  },
  {
   "cell_type": "code",
   "execution_count": 1,
   "id": "a48bee8c-941e-49a5-8433-ca405b5a7506",
   "metadata": {},
   "outputs": [
    {
     "name": "stdin",
     "output_type": "stream",
     "text": [
      "Enter a value 10\n",
      "Enter a value 5\n",
      "Enter a value 3\n"
     ]
    },
    {
     "name": "stdout",
     "output_type": "stream",
     "text": [
      "The Area of Cuboid is :  190.0\n",
      "The Volume of Cuboid is :  150.0\n"
     ]
    }
   ],
   "source": [
    "#Input from user to do volume and area of cuboid\n",
    "\n",
    "length=float(input(\"Enter a value\"))\n",
    "breath=float(input(\"Enter a value\"))\n",
    "height=float(input(\"Enter a value\"))\n",
    "\n",
    "area=2*((length*breath)+(breath*height)+(height*length))\n",
    "print(\"The Area of Cuboid is : \",area)\n",
    "\n",
    "volume=length*breath*height\n",
    "print(\"The Volume of Cuboid is : \",volume)"
   ]
  },
  {
   "cell_type": "code",
   "execution_count": 8,
   "id": "facc1c5c-d85c-4f26-9594-0bbb70207abe",
   "metadata": {},
   "outputs": [
    {
     "name": "stdin",
     "output_type": "stream",
     "text": [
      "Enter your name Deepjoy Sarkar\n",
      "Enter a reason Cold\n",
      "Enter a start date of leaving 05/04/2024\n",
      "Enter a end date of leaving 07/04/2024\n"
     ]
    },
    {
     "name": "stdout",
     "output_type": "stream",
     "text": [
      "\n",
      "Dear Sir/Madam,\n",
      "                I am suffering from Cold. I am requesting two days leave from 05/04/2024 to 07/04/2024.\n",
      "\n",
      "Thanks & Regards,\n",
      "Deepjoy Sarkar\n"
     ]
    }
   ],
   "source": [
    "#Mailing Template\n",
    "\n",
    "name=input(\"Enter your name\")\n",
    "reason=input(\"Enter a reason\")\n",
    "star_date=input(\"Enter a start date of leaving\")\n",
    "end_date=input(\"Enter a end date of leaving\")\n",
    "\n",
    "email_template=f\"\"\"\n",
    "Dear Sir/Madam,\n",
    "                I am suffering from {reason}. I am requesting two days leave from {star_date} to {end_date}.\n",
    "\n",
    "Thanks & Regards,\n",
    "{name}\"\"\"\n",
    "print(email_template)"
   ]
  },
  {
   "cell_type": "code",
   "execution_count": null,
   "id": "32718075-789c-4e95-8622-038500533290",
   "metadata": {},
   "outputs": [],
   "source": []
  }
 ],
 "metadata": {
  "kernelspec": {
   "display_name": "Python 3 (ipykernel)",
   "language": "python",
   "name": "python3"
  },
  "language_info": {
   "codemirror_mode": {
    "name": "ipython",
    "version": 3
   },
   "file_extension": ".py",
   "mimetype": "text/x-python",
   "name": "python",
   "nbconvert_exporter": "python",
   "pygments_lexer": "ipython3",
   "version": "3.10.10"
  }
 },
 "nbformat": 4,
 "nbformat_minor": 5
}
