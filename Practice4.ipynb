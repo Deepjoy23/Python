{
 "cells": [
  {
   "cell_type": "markdown",
   "id": "dd0e38ba-ed29-4f31-beb0-795ed172b4d2",
   "metadata": {},
   "source": [
    "# Boolean Datatype\n",
    "## True(1) or False(0)\n",
    "### Conditions for Boolean Datatype is : I. AND, II. OR, III. NOT\n",
    "### Operations for Condition Checking are : >, <, >=, <=, ==, != "
   ]
  },
  {
   "cell_type": "code",
   "execution_count": 14,
   "id": "2fe840e2-0e0a-4a40-ad77-977cd3f364ee",
   "metadata": {},
   "outputs": [
    {
     "data": {
      "text/plain": [
       "True"
      ]
     },
     "execution_count": 14,
     "metadata": {},
     "output_type": "execute_result"
    }
   ],
   "source": [
    "#OR Condition Checking in Boolean Data Type\n",
    "True or False"
   ]
  },
  {
   "cell_type": "code",
   "execution_count": 11,
   "id": "0a3e69c8-0315-45b5-b2b1-e81dcb008f01",
   "metadata": {},
   "outputs": [
    {
     "data": {
      "text/plain": [
       "True"
      ]
     },
     "execution_count": 11,
     "metadata": {},
     "output_type": "execute_result"
    }
   ],
   "source": [
    "False or True"
   ]
  },
  {
   "cell_type": "code",
   "execution_count": 12,
   "id": "53aaed4b-27b2-4385-aa0b-fb8672e036a4",
   "metadata": {},
   "outputs": [
    {
     "data": {
      "text/plain": [
       "True"
      ]
     },
     "execution_count": 12,
     "metadata": {},
     "output_type": "execute_result"
    }
   ],
   "source": [
    "True or True"
   ]
  },
  {
   "cell_type": "code",
   "execution_count": 13,
   "id": "60447f62-c71d-494d-8d45-b190bbd500ca",
   "metadata": {},
   "outputs": [
    {
     "data": {
      "text/plain": [
       "False"
      ]
     },
     "execution_count": 13,
     "metadata": {},
     "output_type": "execute_result"
    }
   ],
   "source": [
    "False or False"
   ]
  },
  {
   "cell_type": "code",
   "execution_count": 16,
   "id": "28b4b324-5e89-41c3-a55e-4182b433cc9e",
   "metadata": {},
   "outputs": [
    {
     "data": {
      "text/plain": [
       "False"
      ]
     },
     "execution_count": 16,
     "metadata": {},
     "output_type": "execute_result"
    }
   ],
   "source": [
    "#AND Condition Checking in Boolean Data Type\n",
    "True and False"
   ]
  },
  {
   "cell_type": "code",
   "execution_count": 17,
   "id": "0272e2c7-2e99-426a-8b7e-383533c374be",
   "metadata": {},
   "outputs": [
    {
     "data": {
      "text/plain": [
       "False"
      ]
     },
     "execution_count": 17,
     "metadata": {},
     "output_type": "execute_result"
    }
   ],
   "source": [
    "False and True"
   ]
  },
  {
   "cell_type": "code",
   "execution_count": 18,
   "id": "3fc05f95-80f6-4d67-a585-22f2fc597545",
   "metadata": {},
   "outputs": [
    {
     "data": {
      "text/plain": [
       "True"
      ]
     },
     "execution_count": 18,
     "metadata": {},
     "output_type": "execute_result"
    }
   ],
   "source": [
    "True and True"
   ]
  },
  {
   "cell_type": "code",
   "execution_count": 19,
   "id": "c6400e83-6dc5-4f7b-ae55-f1a5d9d733c9",
   "metadata": {},
   "outputs": [
    {
     "data": {
      "text/plain": [
       "False"
      ]
     },
     "execution_count": 19,
     "metadata": {},
     "output_type": "execute_result"
    }
   ],
   "source": [
    "False and False"
   ]
  },
  {
   "cell_type": "code",
   "execution_count": 20,
   "id": "b63237a8-8b86-4486-9335-b6f98cb8512d",
   "metadata": {},
   "outputs": [
    {
     "data": {
      "text/plain": [
       "False"
      ]
     },
     "execution_count": 20,
     "metadata": {},
     "output_type": "execute_result"
    }
   ],
   "source": [
    "#NOT Condition Checking in Boolean Data Type\n",
    "not True"
   ]
  },
  {
   "cell_type": "code",
   "execution_count": 21,
   "id": "0babd4e7-052a-4aa7-af2f-806636b740c7",
   "metadata": {},
   "outputs": [
    {
     "data": {
      "text/plain": [
       "True"
      ]
     },
     "execution_count": 21,
     "metadata": {},
     "output_type": "execute_result"
    }
   ],
   "source": [
    "not False"
   ]
  },
  {
   "cell_type": "markdown",
   "id": "c659af4c-5269-4e96-9e95-6d7deb56b3f5",
   "metadata": {},
   "source": [
    "## Python String Method"
   ]
  },
  {
   "cell_type": "code",
   "execution_count": 6,
   "id": "c29546f4-9b9f-4a1a-82f5-9b75dccdcdb0",
   "metadata": {},
   "outputs": [
    {
     "name": "stdout",
     "output_type": "stream",
     "text": [
      "False\n"
     ]
    }
   ],
   "source": [
    "#Python String Method(isnumeric())\n",
    "a=\"Deepjoy Sarkar\"\n",
    "print(a.isnumeric())"
   ]
  },
  {
   "cell_type": "code",
   "execution_count": 7,
   "id": "6532dd98-9b32-4d65-87a8-7f04cd823579",
   "metadata": {},
   "outputs": [
    {
     "name": "stdout",
     "output_type": "stream",
     "text": [
      "True\n"
     ]
    }
   ],
   "source": [
    "#Python String Method(isnumeric())\n",
    "a=\"1234\"\n",
    "print(a.isnumeric())"
   ]
  },
  {
   "cell_type": "code",
   "execution_count": 8,
   "id": "e7e5c7a7-548e-4517-8b13-816d74094b29",
   "metadata": {},
   "outputs": [
    {
     "name": "stdout",
     "output_type": "stream",
     "text": [
      "False\n"
     ]
    }
   ],
   "source": [
    "#Python String Method(isalnum())\n",
    "a=\"1234 \"\n",
    "print(a.isalnum())"
   ]
  },
  {
   "cell_type": "code",
   "execution_count": 9,
   "id": "70207208-7007-4400-8f14-c063501b00db",
   "metadata": {},
   "outputs": [
    {
     "name": "stdout",
     "output_type": "stream",
     "text": [
      "True\n"
     ]
    }
   ],
   "source": [
    "#Python String Method(isalpha())\n",
    "a=\"Deepjoy\"\n",
    "print(a.isalpha())"
   ]
  },
  {
   "cell_type": "code",
   "execution_count": 10,
   "id": "7acceb4d-ed74-41a3-b616-84185cb4b79f",
   "metadata": {},
   "outputs": [
    {
     "name": "stdout",
     "output_type": "stream",
     "text": [
      "DEEPJOY\n"
     ]
    }
   ],
   "source": [
    "#Python String Method(upper())\n",
    "a=\"Deepjoy\"\n",
    "print(a.upper())"
   ]
  },
  {
   "cell_type": "code",
   "execution_count": 11,
   "id": "7247b502-4cdc-424e-b46c-f991b31af82d",
   "metadata": {},
   "outputs": [
    {
     "name": "stdout",
     "output_type": "stream",
     "text": [
      "deepjoy\n"
     ]
    }
   ],
   "source": [
    "#Python String Method(lower())\n",
    "a=\"Deepjoy\"\n",
    "print(a.lower())"
   ]
  },
  {
   "cell_type": "code",
   "execution_count": 12,
   "id": "4202ec13-72bc-495f-a166-56984511e388",
   "metadata": {},
   "outputs": [
    {
     "name": "stdout",
     "output_type": "stream",
     "text": [
      "Deepjoy Is It Professional\n"
     ]
    }
   ],
   "source": [
    "#Python String Method(title())\n",
    "a=\"Deepjoy is IT professional\"\n",
    "print(a.title())"
   ]
  },
  {
   "cell_type": "code",
   "execution_count": 14,
   "id": "5c0d983f-c919-4a14-a8c0-e096444b696d",
   "metadata": {},
   "outputs": [
    {
     "name": "stdout",
     "output_type": "stream",
     "text": [
      "3\n"
     ]
    }
   ],
   "source": [
    "#Python String Method(index())\n",
    "a=\"Deepjoy is IT professional\"\n",
    "print(a.index(\"p\"))"
   ]
  },
  {
   "cell_type": "code",
   "execution_count": 15,
   "id": "764be676-c353-4db2-a214-1e494b922932",
   "metadata": {},
   "outputs": [
    {
     "name": "stdout",
     "output_type": "stream",
     "text": [
      "1\n"
     ]
    }
   ],
   "source": [
    "#Python String Method(find())\n",
    "a=\"Deepjoy is IT professional\"\n",
    "print(a.find(\"e\"))"
   ]
  },
  {
   "cell_type": "code",
   "execution_count": 20,
   "id": "57a00d8f-e710-4ece-8100-3df8900117c5",
   "metadata": {},
   "outputs": [
    {
     "ename": "ValueError",
     "evalue": "substring not found",
     "output_type": "error",
     "traceback": [
      "\u001b[1;31m---------------------------------------------------------------------------\u001b[0m",
      "\u001b[1;31mValueError\u001b[0m                                Traceback (most recent call last)",
      "Cell \u001b[1;32mIn[20], line 3\u001b[0m\n\u001b[0;32m      1\u001b[0m \u001b[38;5;66;03m#Python String Method(index())\u001b[39;00m\n\u001b[0;32m      2\u001b[0m a\u001b[38;5;241m=\u001b[39m\u001b[38;5;124m\"\u001b[39m\u001b[38;5;124mDeepjoy is IT professional\u001b[39m\u001b[38;5;124m\"\u001b[39m\n\u001b[1;32m----> 3\u001b[0m \u001b[38;5;28mprint\u001b[39m(\u001b[43ma\u001b[49m\u001b[38;5;241;43m.\u001b[39;49m\u001b[43mindex\u001b[49m\u001b[43m(\u001b[49m\u001b[38;5;124;43m\"\u001b[39;49m\u001b[38;5;124;43mz\u001b[39;49m\u001b[38;5;124;43m\"\u001b[39;49m\u001b[43m)\u001b[49m)\n",
      "\u001b[1;31mValueError\u001b[0m: substring not found"
     ]
    }
   ],
   "source": [
    "#Python String Method(index())\n",
    "a=\"Deepjoy is IT professional\"\n",
    "print(a.index(\"z\"))"
   ]
  },
  {
   "cell_type": "code",
   "execution_count": 19,
   "id": "2a5a44d2-3760-4c6d-86ce-db6532459da1",
   "metadata": {},
   "outputs": [
    {
     "name": "stdout",
     "output_type": "stream",
     "text": [
      "-1\n"
     ]
    }
   ],
   "source": [
    "#Python String Method(find())\n",
    "a=\"Deepjoy is IT professional\"\n",
    "print(a.find(\"z\"))"
   ]
  },
  {
   "cell_type": "code",
   "execution_count": 21,
   "id": "1a4084e3-d89d-4f8c-a7ef-ac8034acdc38",
   "metadata": {},
   "outputs": [
    {
     "name": "stdout",
     "output_type": "stream",
     "text": [
      "Deepjoy is a good boy\n"
     ]
    }
   ],
   "source": [
    "#Python String Method(replace())\n",
    "a=\"Deepjoy is IT professional\"\n",
    "print(a.replace(\"IT professional\",\"a good boy\"))"
   ]
  },
  {
   "cell_type": "code",
   "execution_count": 22,
   "id": "b484814f-1dcf-4c50-99fc-600d372fc996",
   "metadata": {},
   "outputs": [
    {
     "name": "stdout",
     "output_type": "stream",
     "text": [
      "DeepjoyisITprofessional\n"
     ]
    }
   ],
   "source": [
    "#Python String Method(replace())--space with no space\n",
    "a=\"Deepjoy is IT professional\"\n",
    "print(a.replace(\" \",\"\"))"
   ]
  },
  {
   "cell_type": "code",
   "execution_count": 23,
   "id": "9705ffe6-4511-43ba-b114-381052a2e4d3",
   "metadata": {},
   "outputs": [
    {
     "name": "stdout",
     "output_type": "stream",
     "text": [
      "Deepjoy is IT professional\n"
     ]
    }
   ],
   "source": [
    "#Python String Method(strip())--front and back space removes\n",
    "a=\"    Deepjoy is IT professional   \"\n",
    "print(a.strip())"
   ]
  },
  {
   "cell_type": "code",
   "execution_count": 24,
   "id": "83aac003-bb27-4dc1-9392-ecdb745e7d32",
   "metadata": {},
   "outputs": [
    {
     "name": "stdout",
     "output_type": "stream",
     "text": [
      "Deepjoy is IT professional\n"
     ]
    }
   ],
   "source": [
    "#Python String Method(strip())--Changings of strip saved in 'a' variable\n",
    "a=\"    Deepjoy is IT professional   \"\n",
    "a=a.strip()\n",
    "print(a)"
   ]
  },
  {
   "cell_type": "code",
   "execution_count": 26,
   "id": "142d4173-37da-48cd-85de-ce4a843498b8",
   "metadata": {},
   "outputs": [
    {
     "name": "stdout",
     "output_type": "stream",
     "text": [
      "True\n"
     ]
    }
   ],
   "source": [
    "#Python String Method(isspace())\n",
    "b=\"  \"\n",
    "print(b.isspace())"
   ]
  },
  {
   "cell_type": "code",
   "execution_count": 27,
   "id": "b3741089-bb5d-435c-a041-87fcccaae766",
   "metadata": {},
   "outputs": [
    {
     "name": "stdout",
     "output_type": "stream",
     "text": [
      "False\n"
     ]
    }
   ],
   "source": [
    "#Python String Method(isspace())\n",
    "b=\" Saikat \"\n",
    "print(b.isspace())"
   ]
  },
  {
   "cell_type": "code",
   "execution_count": 28,
   "id": "1fdec1f1-0e68-416a-994c-b611c3e9576d",
   "metadata": {},
   "outputs": [
    {
     "name": "stdout",
     "output_type": "stream",
     "text": [
      "True\n"
     ]
    }
   ],
   "source": [
    "#Python String Method(startswith())\n",
    "a=\"Deepjoy is IT professional\"\n",
    "print(a.startswith(\"D\"))"
   ]
  },
  {
   "cell_type": "code",
   "execution_count": 30,
   "id": "0402d5e9-b86f-46d5-a95a-75ac045d45a4",
   "metadata": {},
   "outputs": [
    {
     "name": "stdout",
     "output_type": "stream",
     "text": [
      "True\n"
     ]
    }
   ],
   "source": [
    "#Python String Method(startswith())\n",
    "a=\"Deepjoy is IT professional\"\n",
    "print(a.startswith(\"Deep\"))"
   ]
  },
  {
   "cell_type": "code",
   "execution_count": 31,
   "id": "f7eb6af4-ca8f-4db8-9cd7-d9e64de28018",
   "metadata": {},
   "outputs": [
    {
     "name": "stdout",
     "output_type": "stream",
     "text": [
      "False\n"
     ]
    }
   ],
   "source": [
    "#Python String Method(startswith())\n",
    "a=\"Deepjoy is IT professional\"\n",
    "print(a.startswith(\"ep\"))"
   ]
  },
  {
   "cell_type": "code",
   "execution_count": 33,
   "id": "d1490eea-9216-4edf-b72e-e521f7fd3406",
   "metadata": {},
   "outputs": [
    {
     "name": "stdout",
     "output_type": "stream",
     "text": [
      "True\n"
     ]
    }
   ],
   "source": [
    "#Python String Method(endswith())\n",
    "a=\"Deepjoy is IT professional\"\n",
    "print(a.endswith(\"l\"))"
   ]
  },
  {
   "cell_type": "code",
   "execution_count": 34,
   "id": "3568bb5e-18a4-40dd-8746-be02d3410bf8",
   "metadata": {},
   "outputs": [
    {
     "name": "stdout",
     "output_type": "stream",
     "text": [
      "True\n"
     ]
    }
   ],
   "source": [
    "#Python String Method(endswith())\n",
    "a=\"Deepjoy is IT professional\"\n",
    "print(a.endswith(\"professional\"))"
   ]
  },
  {
   "cell_type": "code",
   "execution_count": 35,
   "id": "b64dd6ff-664d-4924-a2c6-5c85e8e84ee2",
   "metadata": {},
   "outputs": [
    {
     "name": "stdout",
     "output_type": "stream",
     "text": [
      "False\n"
     ]
    }
   ],
   "source": [
    "#Python String Method(endswith())\n",
    "a=\"Deepjoy is IT professional\"\n",
    "print(a.endswith(\"p\"))"
   ]
  },
  {
   "cell_type": "code",
   "execution_count": 39,
   "id": "a4c22918-3cca-47f4-8395-f379d7f9c8de",
   "metadata": {},
   "outputs": [
    {
     "name": "stdout",
     "output_type": "stream",
     "text": [
      "3\n"
     ]
    }
   ],
   "source": [
    "#Python String Method(count())\n",
    "a=\"Deepjoy is IT professional\"\n",
    "print(a.count(\"e\"))"
   ]
  },
  {
   "cell_type": "code",
   "execution_count": 40,
   "id": "0b02104e-25cc-4837-9693-da8a47c7ffc6",
   "metadata": {},
   "outputs": [
    {
     "name": "stdout",
     "output_type": "stream",
     "text": [
      "0\n"
     ]
    }
   ],
   "source": [
    "#Python String Method(count())\n",
    "a=\"Deepjoy is IT professional\"\n",
    "print(a.count(\"z\"))"
   ]
  },
  {
   "cell_type": "code",
   "execution_count": 41,
   "id": "f4ae6fb0-dc3b-4db6-a6a5-a07601bf1741",
   "metadata": {},
   "outputs": [
    {
     "name": "stdout",
     "output_type": "stream",
     "text": [
      "3\n"
     ]
    }
   ],
   "source": [
    "#Python String Method(count())--space count in string\n",
    "a=\"Deepjoy is IT professional\"\n",
    "print(a.count(\" \"))"
   ]
  },
  {
   "cell_type": "markdown",
   "id": "5d5332a1-1ca1-48aa-8ff4-78e5330e2b55",
   "metadata": {},
   "source": [
    "## Python IF-Else Condition Operation"
   ]
  },
  {
   "cell_type": "code",
   "execution_count": 38,
   "id": "45792f5c-424e-4a84-8237-0bbf3b752992",
   "metadata": {},
   "outputs": [
    {
     "name": "stdin",
     "output_type": "stream",
     "text": [
      "Enter a string Deepjoy is IT professional \n"
     ]
    },
    {
     "name": "stdout",
     "output_type": "stream",
     "text": [
      "Total space in string is 4\n"
     ]
    }
   ],
   "source": [
    "#if-else condition checking\n",
    "a=input(\"Enter a string\")\n",
    "b=a.count(\" \")\n",
    "if b==4:\n",
    "    print(\"Total space in string is 4\")\n",
    "else:\n",
    "    print(\"Total space in string is not 4\")"
   ]
  },
  {
   "cell_type": "code",
   "execution_count": 25,
   "id": "731b0929-d3b0-4c02-8dc8-d999cf813782",
   "metadata": {},
   "outputs": [
    {
     "name": "stdin",
     "output_type": "stream",
     "text": [
      "Enter a Number 10\n"
     ]
    },
    {
     "name": "stdout",
     "output_type": "stream",
     "text": [
      "Number is greater than 5\n"
     ]
    }
   ],
   "source": [
    "#if-else condition checking\n",
    "a=int(input(\"Enter a Number\"))\n",
    "if a>5:\n",
    "    print(\"Number is greater than 5\")\n",
    "else:\n",
    "    print(\"Number is less than 5\")"
   ]
  },
  {
   "cell_type": "code",
   "execution_count": 27,
   "id": "49abe66b-a084-4688-83c7-e3bcc8a3c2a6",
   "metadata": {},
   "outputs": [
    {
     "name": "stdin",
     "output_type": "stream",
     "text": [
      "Enter a Number 10\n"
     ]
    },
    {
     "name": "stdout",
     "output_type": "stream",
     "text": [
      "Number is not equal to 5\n"
     ]
    }
   ],
   "source": [
    "#if-else condition checking\n",
    "a=int(input(\"Enter a Number\"))\n",
    "if a==5:\n",
    "    print(\"Number is equal to 5\")\n",
    "else:\n",
    "    print(\"Number is not equal to 5\")"
   ]
  },
  {
   "cell_type": "code",
   "execution_count": 30,
   "id": "fc692f43-85e2-4d9c-9d6b-0e1ef8dc8a51",
   "metadata": {},
   "outputs": [
    {
     "name": "stdin",
     "output_type": "stream",
     "text": [
      "Enter a Number 11\n"
     ]
    },
    {
     "name": "stdout",
     "output_type": "stream",
     "text": [
      "Number is not equal to 10\n"
     ]
    }
   ],
   "source": [
    "#if-else condition checking\n",
    "a=int(input(\"Enter a Number\"))\n",
    "if a!=10:\n",
    "    print(\"Number is not equal to 10\")\n",
    "else:\n",
    "    print(\"Number is equal to 10\")"
   ]
  },
  {
   "cell_type": "code",
   "execution_count": null,
   "id": "aee83c48-349a-472a-bfbd-8213461b9ee3",
   "metadata": {},
   "outputs": [],
   "source": []
  }
 ],
 "metadata": {
  "kernelspec": {
   "display_name": "Python 3 (ipykernel)",
   "language": "python",
   "name": "python3"
  },
  "language_info": {
   "codemirror_mode": {
    "name": "ipython",
    "version": 3
   },
   "file_extension": ".py",
   "mimetype": "text/x-python",
   "name": "python",
   "nbconvert_exporter": "python",
   "pygments_lexer": "ipython3",
   "version": "3.10.10"
  }
 },
 "nbformat": 4,
 "nbformat_minor": 5
}
