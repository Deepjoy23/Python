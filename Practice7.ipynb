{
 "cells": [
  {
   "cell_type": "code",
   "execution_count": 2,
   "id": "6e6f9459-4567-4358-af31-f80fb004ed68",
   "metadata": {},
   "outputs": [
    {
     "name": "stdout",
     "output_type": "stream",
     "text": [
      "[1, 2, 3, 64, 125, 6]\n"
     ]
    }
   ],
   "source": [
    "#Update 3rd and 4th element of the list with its qube---static process\n",
    "a=[1,2,3,4,5,6]\n",
    "a[3]=4**3\n",
    "a[4]=5**3\n",
    "print(a)"
   ]
  },
  {
   "cell_type": "code",
   "execution_count": 3,
   "id": "46a6b1f6-52e4-4cd1-9a95-8a87f20a6696",
   "metadata": {},
   "outputs": [
    {
     "name": "stdout",
     "output_type": "stream",
     "text": [
      "[1, 2, 3, 64, 125, 6]\n"
     ]
    }
   ],
   "source": [
    "#Update 3rd and 4th element of the list with its qube---dynamic process\n",
    "a=[1,2,3,4,5,6]\n",
    "a[3]=a[3]**3\n",
    "a[4]=a[4]**3\n",
    "print(a)"
   ]
  },
  {
   "cell_type": "code",
   "execution_count": 4,
   "id": "2307addd-d928-4cb5-8d07-c231e99df4c2",
   "metadata": {},
   "outputs": [
    {
     "name": "stdout",
     "output_type": "stream",
     "text": [
      "[1, 2, 3, 4, 5]\n",
      "<class 'list'>\n",
      "(1, 2, 3, 4, 6)\n",
      "<class 'tuple'>\n"
     ]
    }
   ],
   "source": [
    "#Update 5 as 6 in a tuple\n",
    "a=(1,2,3,4,5)\n",
    "a=list(a)\n",
    "print(a)\n",
    "print(type(a))\n",
    "a[-1]=6\n",
    "a=tuple(a)\n",
    "print(a)\n",
    "print(type(a))"
   ]
  },
  {
   "cell_type": "code",
   "execution_count": 6,
   "id": "ec602343-83b6-43b9-a08c-55aad929d64a",
   "metadata": {},
   "outputs": [
    {
     "name": "stdout",
     "output_type": "stream",
     "text": [
      "(1, 2, 3, 8, 9, 10, 11, 12, 4, 5, 6)\n",
      "<class 'tuple'>\n"
     ]
    }
   ],
   "source": [
    "#print (1,2,3,8,9,10,11,12,4,5,6)\n",
    "a = (1,2,3,4,5,6)\n",
    "b=(8,9,10,11,12)\n",
    "a=a[:3]+b+a[3:]\n",
    "print(a)\n",
    "print(type(a))"
   ]
  },
  {
   "cell_type": "code",
   "execution_count": 5,
   "id": "966e61f7-5d71-446e-b258-ed8cda05ad94",
   "metadata": {},
   "outputs": [
    {
     "name": "stdout",
     "output_type": "stream",
     "text": [
      "(1, 2, 3, 8, 9, 10, 11, 12, 4, 5, 6)\n",
      "<class 'tuple'>\n"
     ]
    }
   ],
   "source": [
    "#print (1,2,3,8,9,10,11,12,4,5,6)\n",
    "a = (1,2,3,4,5,6)\n",
    "a=a[:3]+(8,9,10,11,12)+a[3:]\n",
    "print(a)\n",
    "print(type(a))"
   ]
  },
  {
   "cell_type": "code",
   "execution_count": 8,
   "id": "e6c4ee1f-01f1-4b5d-bf2e-e64e124e9fa0",
   "metadata": {},
   "outputs": [
    {
     "name": "stdout",
     "output_type": "stream",
     "text": [
      "[1, 2, 3, 8, 9, 10, 11, 12, 4, 5, 6]\n",
      "<class 'list'>\n",
      "(1, 2, 3, 8, 9, 10, 11, 12, 4, 5, 6)\n",
      "<class 'tuple'>\n"
     ]
    }
   ],
   "source": [
    "#print (1,2,3,8,9,10,11,12,4,5,6)\n",
    "a = (1,2,3,4,5,6)\n",
    "a=list(a)\n",
    "a=a[:3]+[8,9,10,11,12]+a[3:]\n",
    "print(a)\n",
    "print(type(a))\n",
    "a=tuple(a)\n",
    "print(a)\n",
    "print(type(a))"
   ]
  },
  {
   "cell_type": "code",
   "execution_count": 4,
   "id": "9fc2ea92-732d-490b-a6f4-6a4f2ef4567c",
   "metadata": {},
   "outputs": [
    {
     "name": "stdout",
     "output_type": "stream",
     "text": [
      "(1, 2, 3, 8, 9, 10, 11, 12, 4, 5, 6)\n"
     ]
    }
   ],
   "source": [
    "#print (1,2,3,8,9,10,11,12,4,5,6)\n",
    "a = (1,2,3,4,5,6)\n",
    "a=list(a)\n",
    "b=a[:3]\n",
    "c=a[3:]\n",
    "b.extend([8,9,10,11,12])\n",
    "b.extend(c)\n",
    "a=tuple(b)\n",
    "print(a)"
   ]
  },
  {
   "cell_type": "code",
   "execution_count": 10,
   "id": "4ae8a79f-4f04-41d1-b5eb-0d11ccdb85cc",
   "metadata": {},
   "outputs": [
    {
     "name": "stdout",
     "output_type": "stream",
     "text": [
      "ABC\n"
     ]
    }
   ],
   "source": [
    "#print \"ABC\" in a dictionary\n",
    "a = {\n",
    "    \"Name\" : \"ABC EFG\",\n",
    "    \"Roll\": 4,\n",
    "    \"Subject\": [\"A\",\"B\",\"C\",\"D\"],\n",
    "    \"Marks\": [45,47,49,48],\n",
    "    \"Address\": \"ASDFC GVBHJ\"\n",
    "}\n",
    "b=a[\"Name\"].split(\" \")[0]\n",
    "print(b)"
   ]
  },
  {
   "cell_type": "code",
   "execution_count": 8,
   "id": "5098a207-556e-4758-9c6e-dcc0f1aa6070",
   "metadata": {},
   "outputs": [
    {
     "name": "stdout",
     "output_type": "stream",
     "text": [
      "ABC\n"
     ]
    }
   ],
   "source": [
    "#print \"ABC\" in a dictionary\n",
    "a = {\n",
    "    \"Name\" : \"ABC EFG\",\n",
    "    \"Roll\": 4,\n",
    "    \"Subject\": [\"A\",\"B\",\"C\",\"D\"],\n",
    "    \"Marks\": [45,47,49,48],\n",
    "    \"Address\": \"ASDFC GVBHJ\"\n",
    "}\n",
    "b=a.get(\"Name\").split(\" \")[0]\n",
    "print(b)"
   ]
  },
  {
   "cell_type": "code",
   "execution_count": 21,
   "id": "c98010bf-b308-462d-b4f0-8f9cf12b444f",
   "metadata": {},
   "outputs": [
    {
     "name": "stdout",
     "output_type": "stream",
     "text": [
      "<class 'str'>\n",
      "{'Name': 'ABC EFG', 'Roll': 4, 'Subject': ['A', 'B', 'C', 'D'], 'Marks': [45, 47, 49, 48], 'Address': 'ASDFC GVBHJ', 'id': 'EFG-ABC-4'}\n"
     ]
    }
   ],
   "source": [
    "##print this dictionary\n",
    "# a = {\n",
    "#     \"Name\" : \"ABC EFG\",\n",
    "#     \"Roll\": 4,\n",
    "#     \"Subject\": [\"A\",\"B\",\"C\",\"D\"],\n",
    "#     \"Marks\": [45,47,49,48],\n",
    "#     \"Address\": \"ASDFC GVBHJ\",\n",
    "#     \"id\" : 'EFG-ABC-4'\n",
    "# }\n",
    "\n",
    "a = {\n",
    "    \"Name\" : \"ABC EFG\",\n",
    "    \"Roll\": 4,\n",
    "    \"Subject\": [\"A\",\"B\",\"C\",\"D\"],\n",
    "    \"Marks\": [45,47,49,48],\n",
    "    \"Address\": \"ASDFC GVBHJ\"\n",
    "}\n",
    "b=a[\"Name\"].split(\" \")[1]+\"-\"+a[\"Name\"].split(\" \")[0]+\"-\"+str(a[\"Roll\"])\n",
    "a[\"id\"]=b\n",
    "print(a)"
   ]
  },
  {
   "cell_type": "code",
   "execution_count": 23,
   "id": "baf29be0-ddee-4ba9-aa22-a8b801df2c00",
   "metadata": {},
   "outputs": [
    {
     "name": "stdout",
     "output_type": "stream",
     "text": [
      "{'Name': 'ABC EFG', 'Roll': 4, 'Subject': ['A', 'B', 'C', 'D'], 'Marks': [45, 47, 49, 48], 'Address': 'ASDFC GVBHJ', 'id': 'EFG-ABC-4'}\n"
     ]
    }
   ],
   "source": [
    "##print this dictionary\n",
    "# a = {\n",
    "#     \"Name\" : \"ABC EFG\",\n",
    "#     \"Roll\": 4,\n",
    "#     \"Subject\": [\"A\",\"B\",\"C\",\"D\"],\n",
    "#     \"Marks\": [45,47,49,48],\n",
    "#     \"Address\": \"ASDFC GVBHJ\",\n",
    "#     \"id\" : 'EFG-ABC-4'\n",
    "# }\n",
    "\n",
    "a = {\n",
    "    \"Name\" : \"ABC EFG\",\n",
    "    \"Roll\": 4,\n",
    "    \"Subject\": [\"A\",\"B\",\"C\",\"D\"],\n",
    "    \"Marks\": [45,47,49,48],\n",
    "    \"Address\": \"ASDFC GVBHJ\"\n",
    "}\n",
    "b=\"-\".join(a[\"Name\"].split(\" \")[::-1])+\"-\"+str(a[\"Roll\"])\n",
    "a[\"id\"]=b\n",
    "print(a)"
   ]
  },
  {
   "cell_type": "code",
   "execution_count": 30,
   "id": "2e15fdbb-66af-4ff0-95d7-3b418713e59f",
   "metadata": {},
   "outputs": [
    {
     "name": "stdout",
     "output_type": "stream",
     "text": [
      "['EFG', 'ABC']\n",
      "<class 'list'>\n",
      "['EFG', 'ABC', '4']\n",
      "<class 'list'>\n",
      "EFG-ABC-4\n",
      "<class 'str'>\n",
      "{'Name': 'ABC EFG', 'Roll': 4, 'Subject': ['A', 'B', 'C', 'D'], 'Marks': [45, 47, 49, 48], 'Address': 'ASDFC GVBHJ', 'id': 'EFG-ABC-4'}\n",
      "<class 'dict'>\n"
     ]
    }
   ],
   "source": [
    "##print this dictionary\n",
    "# a = {\n",
    "#     \"Name\" : \"ABC EFG\",\n",
    "#     \"Roll\": 4,\n",
    "#     \"Subject\": [\"A\",\"B\",\"C\",\"D\"],\n",
    "#     \"Marks\": [45,47,49,48],\n",
    "#     \"Address\": \"ASDFC GVBHJ\",\n",
    "#     \"id\" : 'EFG-ABC-4'\n",
    "# }\n",
    "\n",
    "a = {\n",
    "    \"Name\" : \"ABC EFG\",\n",
    "    \"Roll\": 4,\n",
    "    \"Subject\": [\"A\",\"B\",\"C\",\"D\"],\n",
    "    \"Marks\": [45,47,49,48],\n",
    "    \"Address\": \"ASDFC GVBHJ\"\n",
    "}\n",
    "c=a[\"Name\"].split(\" \")[::-1]\n",
    "print(c)\n",
    "print(type(c))\n",
    "c.append(str(a[\"Roll\"]))\n",
    "print(c)\n",
    "print(type(c))\n",
    "d=\"-\".join(c)\n",
    "print(d)\n",
    "print(type(d))\n",
    "a[\"id\"]=d\n",
    "print(a)\n",
    "print(type(a))"
   ]
  },
  {
   "cell_type": "code",
   "execution_count": 37,
   "id": "4322e243-a661-4765-b3e0-7f6f5c683b6a",
   "metadata": {},
   "outputs": [
    {
     "name": "stdin",
     "output_type": "stream",
     "text": [
      "Enter a Subject : B\n"
     ]
    },
    {
     "name": "stdout",
     "output_type": "stream",
     "text": [
      "Marks is : 47\n"
     ]
    }
   ],
   "source": [
    "# 1. Take subject name from user\n",
    "# 2. check whether the subject is present in subject list or not\n",
    "# 3. if present show the corresponding marks of that subject\n",
    "# 4. If not present then show \"The subject is not in that list\"\n",
    "\n",
    "a = {\n",
    "    \"Name\" : \"ABC EFG\",\n",
    "    \"Roll\": 4,\n",
    "    \"Subject\": [\"A\",\"B\",\"C\",\"D\"],\n",
    "    \"Marks\": [45,47,49,48],\n",
    "    \"Address\": \"ASDFC GVBHJ\"\n",
    "}\n",
    "\n",
    "input_=input(\"Enter a Subject :\")\n",
    "\n",
    "if input_==a[\"Subject\"][0]:\n",
    "    print(\"Marks is :\",a[\"Marks\"][0])\n",
    "elif input_==a[\"Subject\"][1]:\n",
    "    print(\"Marks is :\",a[\"Marks\"][1])\n",
    "elif input_==a[\"Subject\"][2]:\n",
    "    print(\"Marks is :\",a[\"Marks\"][2])\n",
    "elif input_==a[\"Subject\"][3]:\n",
    "    print(\"Marks is :\",a[\"Marks\"][3])\n",
    "else:\n",
    "    print(\"The subject is not in that list\")    "
   ]
  },
  {
   "cell_type": "code",
   "execution_count": 44,
   "id": "e7c02cde-0148-494b-a576-4b90af2d640e",
   "metadata": {},
   "outputs": [
    {
     "name": "stdin",
     "output_type": "stream",
     "text": [
      "Enter a Subject : C\n"
     ]
    },
    {
     "name": "stdout",
     "output_type": "stream",
     "text": [
      "Marks is : 49\n"
     ]
    }
   ],
   "source": [
    "# 1. Take subject name from user\n",
    "# 2. check whether the subject is present in subject list or not\n",
    "# 3. if present show the corresponding marks of that subject\n",
    "# 4. If not present then show \"The subject is not in that list\"\n",
    "\n",
    "a = {\n",
    "    \"Name\" : \"ABC EFG\",\n",
    "    \"Roll\": 4,\n",
    "    \"Subject\": [\"A\",\"B\",\"C\",\"D\"],\n",
    "    \"Marks\": [45,47,49,48],\n",
    "    \"Address\": \"ASDFC GVBHJ\"\n",
    "}\n",
    "\n",
    "input_=input(\"Enter a Subject :\")\n",
    "subject_=a[\"Subject\"]\n",
    "marks_=a[\"Marks\"]\n",
    "if input_ in subject_:\n",
    "    index_=a[\"Subject\"].index(input_)\n",
    "    print(\"Marks is :\",marks_[index_])\n",
    "else:\n",
    "    print(\"The subject is not in that list\")     "
   ]
  },
  {
   "cell_type": "code",
   "execution_count": 45,
   "id": "2f9d0646-9fc8-484b-b1f3-cae8d0930ada",
   "metadata": {},
   "outputs": [
    {
     "name": "stdin",
     "output_type": "stream",
     "text": [
      "Enter a Subject : D\n"
     ]
    },
    {
     "name": "stdout",
     "output_type": "stream",
     "text": [
      "Subject is : D and Marks is : 48\n"
     ]
    }
   ],
   "source": [
    "# 1. Take subject name from user\n",
    "# 2. check whether the subject is present in subject list or not\n",
    "# 3. if present show the corresponding marks of that subject\n",
    "# 4. If not present then show \"The subject is not in that list\"\n",
    "\n",
    "a = {\n",
    "    \"Name\" : \"ABC EFG\",\n",
    "    \"Roll\": 4,\n",
    "    \"Subject\": [\"A\",\"B\",\"C\",\"D\"],\n",
    "    \"Marks\": [45,47,49,48],\n",
    "    \"Address\": \"ASDFC GVBHJ\"\n",
    "}\n",
    "\n",
    "input_=input(\"Enter a Subject :\")\n",
    "subject_=a[\"Subject\"]\n",
    "marks_=a[\"Marks\"]\n",
    "if input_ in subject_:\n",
    "    index_=a[\"Subject\"].index(input_)\n",
    "    print(f\"Subject is : {input_} and Marks is : {marks_[index_]}\")\n",
    "else:\n",
    "    print(\"The subject is not in that list\")     "
   ]
  }
 ],
 "metadata": {
  "kernelspec": {
   "display_name": "Python 3 (ipykernel)",
   "language": "python",
   "name": "python3"
  },
  "language_info": {
   "codemirror_mode": {
    "name": "ipython",
    "version": 3
   },
   "file_extension": ".py",
   "mimetype": "text/x-python",
   "name": "python",
   "nbconvert_exporter": "python",
   "pygments_lexer": "ipython3",
   "version": "3.10.10"
  }
 },
 "nbformat": 4,
 "nbformat_minor": 5
}
