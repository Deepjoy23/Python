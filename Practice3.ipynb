{
 "cells": [
  {
   "cell_type": "code",
   "execution_count": 5,
   "id": "66b3ffce-3735-438d-bbcf-d30f48672d7e",
   "metadata": {},
   "outputs": [
    {
     "name": "stdin",
     "output_type": "stream",
     "text": [
      "Enter a Value 10\n",
      "Enter a Value 5\n"
     ]
    },
    {
     "name": "stdout",
     "output_type": "stream",
     "text": [
      "1570.7963267948967\n"
     ]
    }
   ],
   "source": [
    "#Math Folder access in Python\n",
    "import math\n",
    "r=float(input(\"Enter a Value\"))\n",
    "h=float(input(\"Enter a Value\"))\n",
    "volume_of_cylinder=(math.pi*(r**2))*h\n",
    "print(volume_of_cylinder)"
   ]
  },
  {
   "cell_type": "code",
   "execution_count": 6,
   "id": "73a8815c-dc70-480d-94b0-711a9973beb9",
   "metadata": {},
   "outputs": [
    {
     "name": "stdin",
     "output_type": "stream",
     "text": [
      "Enter a Value 47.8\n"
     ]
    },
    {
     "name": "stdout",
     "output_type": "stream",
     "text": [
      "47\n",
      "48\n"
     ]
    }
   ],
   "source": [
    "import math\n",
    "a=float(input(\"Enter a Value\"))\n",
    "result_1=math.floor(a)\n",
    "result_2=math.ceil(a)\n",
    "print(result_1)\n",
    "print(result_2)"
   ]
  },
  {
   "cell_type": "code",
   "execution_count": 7,
   "id": "040df53e-af09-49a6-a311-2ab014310edb",
   "metadata": {},
   "outputs": [
    {
     "name": "stdout",
     "output_type": "stream",
     "text": [
      "Dee\n"
     ]
    }
   ],
   "source": [
    "f=\"Deepjoy Sarkar\"\n",
    "print(f[0:3:1])"
   ]
  },
  {
   "cell_type": "code",
   "execution_count": 9,
   "id": "2a3a5247-7193-443b-aaf1-76b8d5271bad",
   "metadata": {},
   "outputs": [
    {
     "name": "stdout",
     "output_type": "stream",
     "text": [
      "eeD\n"
     ]
    }
   ],
   "source": [
    "f=\"Deepjoy Sarkar\"\n",
    "print(f[-12:-15:-1])"
   ]
  },
  {
   "cell_type": "code",
   "execution_count": 10,
   "id": "883eae99-4f37-4049-8ebe-906c9a20aa81",
   "metadata": {},
   "outputs": [
    {
     "name": "stdout",
     "output_type": "stream",
     "text": [
      "eeD\n"
     ]
    }
   ],
   "source": [
    "f=\"Deepjoy Sarkar\"\n",
    "print(f[2:-15:-1])"
   ]
  },
  {
   "cell_type": "code",
   "execution_count": 14,
   "id": "352f302e-ea65-4355-9fb1-c01880f065f8",
   "metadata": {},
   "outputs": [
    {
     "name": "stdout",
     "output_type": "stream",
     "text": [
      "eeD\n"
     ]
    }
   ],
   "source": [
    "f=\"Deepjoy Sarkar\"\n",
    "print(f[-12::-1])"
   ]
  },
  {
   "cell_type": "code",
   "execution_count": 16,
   "id": "6a55b92c-3e5c-43cc-b3ea-c4750b2461b8",
   "metadata": {},
   "outputs": [
    {
     "name": "stdout",
     "output_type": "stream",
     "text": [
      "Deepjoy Sarkar\n"
     ]
    }
   ],
   "source": [
    "f=\"Deepjoy Sarkar\"\n",
    "print(f[0:14:1])"
   ]
  },
  {
   "cell_type": "code",
   "execution_count": 17,
   "id": "739bf4a5-7cde-45c7-84e9-14e414ed49d6",
   "metadata": {},
   "outputs": [
    {
     "name": "stdout",
     "output_type": "stream",
     "text": [
      "c\n"
     ]
    }
   ],
   "source": [
    "g=\"abcde\"\n",
    "gg=len(g)//2\n",
    "print(g[gg])"
   ]
  },
  {
   "cell_type": "code",
   "execution_count": 18,
   "id": "578237bf-0996-4a7e-8bb2-b6e428f989e5",
   "metadata": {},
   "outputs": [
    {
     "name": "stdin",
     "output_type": "stream",
     "text": [
      "Enter a String abcde\n"
     ]
    },
    {
     "name": "stdout",
     "output_type": "stream",
     "text": [
      "c\n"
     ]
    }
   ],
   "source": [
    "g=input(\"Enter a String\")\n",
    "gg=len(g)//2\n",
    "print(g[gg])\n"
   ]
  },
  {
   "cell_type": "code",
   "execution_count": 19,
   "id": "077ec82c-c639-42b3-9bdb-72bab3bab1e7",
   "metadata": {},
   "outputs": [
    {
     "name": "stdin",
     "output_type": "stream",
     "text": [
      "Enter a String abcde\n"
     ]
    },
    {
     "name": "stdout",
     "output_type": "stream",
     "text": [
      "c\n"
     ]
    }
   ],
   "source": [
    "import math\n",
    "g=input(\"Enter a String\")\n",
    "gg=len(g)/2\n",
    "ff=math.floor(gg)\n",
    "print(g[ff])"
   ]
  },
  {
   "cell_type": "code",
   "execution_count": 20,
   "id": "4ec0269b-ca64-4764-842b-077ecd8fbb75",
   "metadata": {},
   "outputs": [
    {
     "name": "stdout",
     "output_type": "stream",
     "text": [
      "rakraS yojpeeD\n"
     ]
    }
   ],
   "source": [
    "f=\"Deepjoy Sarkar\"\n",
    "print(f[::-1])"
   ]
  },
  {
   "cell_type": "code",
   "execution_count": 21,
   "id": "c08651ea-123b-46b6-8993-ce994247e253",
   "metadata": {},
   "outputs": [
    {
     "name": "stdout",
     "output_type": "stream",
     "text": [
      "Deepjoy Sarkar\n"
     ]
    }
   ],
   "source": [
    "f=\"Deepjoy Sarkar\"\n",
    "print(f[::1])"
   ]
  },
  {
   "cell_type": "code",
   "execution_count": 2,
   "id": "2c38cfee-2ba9-4754-bd38-1f828cb76730",
   "metadata": {},
   "outputs": [
    {
     "name": "stdout",
     "output_type": "stream",
     "text": [
      "DejySra\n"
     ]
    }
   ],
   "source": [
    "#Print Odd Position Letter in a String in forward direction---[Index: 0,2,4,6...]\n",
    "f=\"Deepjoy Sarkar\"\n",
    "print(f[::2])"
   ]
  },
  {
   "cell_type": "code",
   "execution_count": 3,
   "id": "c68a6aaa-39a2-4180-88ba-88ae8ba172e8",
   "metadata": {},
   "outputs": [
    {
     "name": "stdout",
     "output_type": "stream",
     "text": [
      "rka ope\n"
     ]
    }
   ],
   "source": [
    "#Print Odd Position Letter in a String in back direction---[Index: -1,-3,-5,...]\n",
    "f=\"Deepjoy Sarkar\"\n",
    "print(f[::-2])"
   ]
  },
  {
   "cell_type": "code",
   "execution_count": 5,
   "id": "29845e84-f28d-453f-b5bf-5ba40848e272",
   "metadata": {},
   "outputs": [
    {
     "name": "stdout",
     "output_type": "stream",
     "text": [
      "epo akr\n"
     ]
    }
   ],
   "source": [
    "#Print Even Position Letter in a String in forward direction---[Index: 1,3,5,...]\n",
    "f=\"Deepjoy Sarkar\"\n",
    "print(f[1::2])"
   ]
  },
  {
   "cell_type": "code",
   "execution_count": 7,
   "id": "6e73f202-6538-4ca6-b425-762edca0d46b",
   "metadata": {},
   "outputs": [
    {
     "name": "stdout",
     "output_type": "stream",
     "text": [
      "arSyjeD\n"
     ]
    }
   ],
   "source": [
    "#Print Even Position Letter in a String in backward direction---[Index: -2,-4,-6...]\n",
    "f=\"Deepjoy Sarkar\"\n",
    "print(f[-2::-2])"
   ]
  },
  {
   "cell_type": "code",
   "execution_count": null,
   "id": "f0a427d8-a6a7-445a-aba9-38ea5362a1ba",
   "metadata": {},
   "outputs": [],
   "source": []
  }
 ],
 "metadata": {
  "kernelspec": {
   "display_name": "Python 3 (ipykernel)",
   "language": "python",
   "name": "python3"
  },
  "language_info": {
   "codemirror_mode": {
    "name": "ipython",
    "version": 3
   },
   "file_extension": ".py",
   "mimetype": "text/x-python",
   "name": "python",
   "nbconvert_exporter": "python",
   "pygments_lexer": "ipython3",
   "version": "3.10.10"
  }
 },
 "nbformat": 4,
 "nbformat_minor": 5
}
