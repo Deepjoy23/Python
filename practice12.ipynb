{
 "cells": [
  {
   "cell_type": "markdown",
   "id": "50ace50a-81e0-43ef-b629-5984952109d7",
   "metadata": {},
   "source": [
    "## Error Handling"
   ]
  },
  {
   "cell_type": "code",
   "execution_count": 2,
   "id": "6a2e7156-afd5-4267-802f-9fa219cf8b7b",
   "metadata": {},
   "outputs": [
    {
     "name": "stdin",
     "output_type": "stream",
     "text": [
      "Enter a Value ssd\n"
     ]
    },
    {
     "ename": "ValueError",
     "evalue": "invalid literal for int() with base 10: 'ssd'",
     "output_type": "error",
     "traceback": [
      "\u001b[1;31m---------------------------------------------------------------------------\u001b[0m",
      "\u001b[1;31mValueError\u001b[0m                                Traceback (most recent call last)",
      "Cell \u001b[1;32mIn[2], line 2\u001b[0m\n\u001b[0;32m      1\u001b[0m \u001b[38;5;66;03m# ValueError\u001b[39;00m\n\u001b[1;32m----> 2\u001b[0m a\u001b[38;5;241m=\u001b[39m\u001b[38;5;28;43mint\u001b[39;49m\u001b[43m(\u001b[49m\u001b[38;5;28;43minput\u001b[39;49m\u001b[43m(\u001b[49m\u001b[38;5;124;43m\"\u001b[39;49m\u001b[38;5;124;43mEnter a Value\u001b[39;49m\u001b[38;5;124;43m\"\u001b[39;49m\u001b[43m)\u001b[49m\u001b[43m)\u001b[49m\n\u001b[0;32m      3\u001b[0m \u001b[38;5;28mprint\u001b[39m(a)\n",
      "\u001b[1;31mValueError\u001b[0m: invalid literal for int() with base 10: 'ssd'"
     ]
    }
   ],
   "source": [
    "# ValueError\n",
    "a=int(input(\"Enter a Value\"))\n",
    "print(a)"
   ]
  },
  {
   "cell_type": "code",
   "execution_count": 3,
   "id": "b0eeded6-5eb3-48fe-b0ac-fd6ad0f71b20",
   "metadata": {},
   "outputs": [
    {
     "ename": "IndexError",
     "evalue": "list index out of range",
     "output_type": "error",
     "traceback": [
      "\u001b[1;31m---------------------------------------------------------------------------\u001b[0m",
      "\u001b[1;31mIndexError\u001b[0m                                Traceback (most recent call last)",
      "Cell \u001b[1;32mIn[3], line 3\u001b[0m\n\u001b[0;32m      1\u001b[0m \u001b[38;5;66;03m# IndexError\u001b[39;00m\n\u001b[0;32m      2\u001b[0m a\u001b[38;5;241m=\u001b[39m[\u001b[38;5;241m1\u001b[39m,\u001b[38;5;241m2\u001b[39m,\u001b[38;5;241m3\u001b[39m,\u001b[38;5;241m4\u001b[39m,\u001b[38;5;241m5\u001b[39m]\n\u001b[1;32m----> 3\u001b[0m \u001b[43ma\u001b[49m\u001b[43m[\u001b[49m\u001b[38;5;241;43m10\u001b[39;49m\u001b[43m]\u001b[49m\n",
      "\u001b[1;31mIndexError\u001b[0m: list index out of range"
     ]
    }
   ],
   "source": [
    "# IndexError\n",
    "a=[1,2,3,4,5]\n",
    "a[10]"
   ]
  },
  {
   "cell_type": "code",
   "execution_count": 4,
   "id": "834584d6-5592-4778-8ec8-57076bb3f95d",
   "metadata": {},
   "outputs": [
    {
     "ename": "ZeroDivisionError",
     "evalue": "division by zero",
     "output_type": "error",
     "traceback": [
      "\u001b[1;31m---------------------------------------------------------------------------\u001b[0m",
      "\u001b[1;31mZeroDivisionError\u001b[0m                         Traceback (most recent call last)",
      "Cell \u001b[1;32mIn[4], line 4\u001b[0m\n\u001b[0;32m      2\u001b[0m a\u001b[38;5;241m=\u001b[39m\u001b[38;5;241m12\u001b[39m\n\u001b[0;32m      3\u001b[0m b\u001b[38;5;241m=\u001b[39m\u001b[38;5;241m0\u001b[39m\n\u001b[1;32m----> 4\u001b[0m \u001b[43ma\u001b[49m\u001b[38;5;241;43m/\u001b[39;49m\u001b[43mb\u001b[49m\n",
      "\u001b[1;31mZeroDivisionError\u001b[0m: division by zero"
     ]
    }
   ],
   "source": [
    "# ZeroDivisionError\n",
    "a=12\n",
    "b=0\n",
    "a/b"
   ]
  },
  {
   "cell_type": "code",
   "execution_count": 5,
   "id": "3e51df5d-7f74-47a4-99c1-ff41164b96ee",
   "metadata": {},
   "outputs": [
    {
     "ename": "TypeError",
     "evalue": "can only concatenate str (not \"int\") to str",
     "output_type": "error",
     "traceback": [
      "\u001b[1;31m---------------------------------------------------------------------------\u001b[0m",
      "\u001b[1;31mTypeError\u001b[0m                                 Traceback (most recent call last)",
      "Cell \u001b[1;32mIn[5], line 4\u001b[0m\n\u001b[0;32m      2\u001b[0m a\u001b[38;5;241m=\u001b[39m\u001b[38;5;124m\"\u001b[39m\u001b[38;5;124m45\u001b[39m\u001b[38;5;124m\"\u001b[39m\n\u001b[0;32m      3\u001b[0m b\u001b[38;5;241m=\u001b[39m\u001b[38;5;241m4\u001b[39m\n\u001b[1;32m----> 4\u001b[0m \u001b[43ma\u001b[49m\u001b[38;5;241;43m+\u001b[39;49m\u001b[43mb\u001b[49m\n",
      "\u001b[1;31mTypeError\u001b[0m: can only concatenate str (not \"int\") to str"
     ]
    }
   ],
   "source": [
    "# TypeError\n",
    "a=\"45\"\n",
    "b=4\n",
    "a+b"
   ]
  },
  {
   "cell_type": "code",
   "execution_count": 8,
   "id": "8b1796a1-8b30-4511-9252-72cfe0c35923",
   "metadata": {},
   "outputs": [
    {
     "name": "stdin",
     "output_type": "stream",
     "text": [
      "Enter 1st Number 50\n",
      "Enter 2nd Number 0\n"
     ]
    },
    {
     "name": "stdout",
     "output_type": "stream",
     "text": [
      "Somting is wrong!!\n"
     ]
    }
   ],
   "source": [
    "try:\n",
    "    a=int(input(\"Enter 1st Number\"))\n",
    "    b=int(input(\"Enter 2nd Number\"))\n",
    "    c=[1,2,3,4,5,6]\n",
    "    result=a/b\n",
    "    print(result)\n",
    "    index=c[3]\n",
    "    print(index)\n",
    "except: #other errors handling\n",
    "    print(\"Somting is wrong!!\") # Here all the errors are handling"
   ]
  },
  {
   "cell_type": "code",
   "execution_count": 14,
   "id": "de169559-00d1-47dd-90a8-d0aeed9038ac",
   "metadata": {},
   "outputs": [
    {
     "name": "stdin",
     "output_type": "stream",
     "text": [
      "Eneter a number:  10\n",
      "Eneter a number:  d\n"
     ]
    },
    {
     "name": "stdout",
     "output_type": "stream",
     "text": [
      "You are giving some wrong input\n"
     ]
    }
   ],
   "source": [
    "try:\n",
    "    a = int(input(\"Eneter a number: \"))\n",
    "    b = int(input(\"Eneter a number: \"))\n",
    "    c= int(input(\"Enter the list index: \"))\n",
    "    l= [1,2,3,4,5]\n",
    "    result = a / b\n",
    "    print(result)\n",
    "    print(l[c])\n",
    "\n",
    "except ValueError:\n",
    "    print(\"You are giving some wrong input\")\n",
    "except ZeroDivisionError:\n",
    "    print(\"You can not give 0 as 2nd number\")\n",
    "except IndexError:\n",
    "    print(\"You are giving some wrong index. Please provide index value from 0 to 4\")\n",
    "except TypeError:\n",
    "    print(\"The type is wrong\")\n",
    "except: #other errors are handling\n",
    "    print(\"Something went wrong\")"
   ]
  },
  {
   "cell_type": "code",
   "execution_count": 3,
   "id": "c35a615c-3bec-4a83-94b5-c7e0c6590b43",
   "metadata": {},
   "outputs": [
    {
     "name": "stdout",
     "output_type": "stream",
     "text": [
      "10 Number is Even\n"
     ]
    }
   ],
   "source": [
    "# function calling inside a function\n",
    "def odd_even(a):\n",
    "    if a%2==0:\n",
    "        return True\n",
    "    else:\n",
    "        return False\n",
    "\n",
    "def main(a):\n",
    "    flag=odd_even(a) # Calling Function Inside a Function(Child Function)\n",
    "    if flag==True:\n",
    "        print(f\"{a} Number is Even\")\n",
    "    else:\n",
    "        print(f\"{a} Number is Odd\")\n",
    "\n",
    "main(10) # Calling main Function        "
   ]
  },
  {
   "cell_type": "markdown",
   "id": "5508913c-2ff4-4d6f-bfa0-77b5a94c2ff6",
   "metadata": {},
   "source": [
    "## File Handling"
   ]
  },
  {
   "cell_type": "code",
   "execution_count": 5,
   "id": "3045e91b-4269-448e-a17d-1e64b838eff8",
   "metadata": {},
   "outputs": [],
   "source": [
    "with open(\"File_Halding_2.text\",\"w\") as a: #wringing the file into a variable (a)\n",
    "    a.write(\"\"\"I am Deepjoy Sarkar.\n",
    "I am a IT Professional.\"\"\")"
   ]
  },
  {
   "cell_type": "code",
   "execution_count": 8,
   "id": "939fab3d-8e97-4f79-9ed5-10bfdd7bc56c",
   "metadata": {},
   "outputs": [],
   "source": [
    "with open(\"File_Halding_2.text\",\"w\") as a: #overwringing the file into a variable (a)\n",
    "    a.write(\"\"\"I am Deepjoy Sarkar.\n",
    "I am a Data Analyst.\"\"\")"
   ]
  },
  {
   "cell_type": "code",
   "execution_count": 9,
   "id": "873601b4-3daf-4238-b707-ef5a139ef1ca",
   "metadata": {},
   "outputs": [],
   "source": [
    "with open(\"File_Halding_2.text\",\"a\") as a: #appending the file into a variable (a) \n",
    "        a.write(\"\\nI am a IT Professional.\")"
   ]
  },
  {
   "cell_type": "code",
   "execution_count": 10,
   "id": "d53849b0-d1d4-4797-971a-6ce7727e52db",
   "metadata": {},
   "outputs": [
    {
     "name": "stdout",
     "output_type": "stream",
     "text": [
      "I am Deepjoy Sarkar.\n",
      "I am a Data Analyst.\n",
      "I am a IT Professional.\n"
     ]
    }
   ],
   "source": [
    "with open(\"File_Halding_2.text\",\"r\") as a: #reading the file into a variable (a) \n",
    "    dummy=a.read() #reading file saved into a variable (dummy)\n",
    "print(dummy)"
   ]
  },
  {
   "cell_type": "code",
   "execution_count": null,
   "id": "1a2a3b8a-5e63-4429-9eb8-9ecc23df8644",
   "metadata": {},
   "outputs": [],
   "source": [
    "# w-->overwriting your file\n",
    "# a-->appending into a file\n",
    "# r-->reading your file"
   ]
  },
  {
   "cell_type": "code",
   "execution_count": null,
   "id": "5f5e538e-a85a-4a1e-9aa6-40df41ddd78a",
   "metadata": {},
   "outputs": [],
   "source": []
  }
 ],
 "metadata": {
  "kernelspec": {
   "display_name": "Python 3 (ipykernel)",
   "language": "python",
   "name": "python3"
  },
  "language_info": {
   "codemirror_mode": {
    "name": "ipython",
    "version": 3
   },
   "file_extension": ".py",
   "mimetype": "text/x-python",
   "name": "python",
   "nbconvert_exporter": "python",
   "pygments_lexer": "ipython3",
   "version": "3.10.10"
  }
 },
 "nbformat": 4,
 "nbformat_minor": 5
}
