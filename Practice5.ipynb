{
 "cells": [
  {
   "cell_type": "markdown",
   "id": "5a19e5dd-68c6-4b22-8bb2-ad9455b187ee",
   "metadata": {},
   "source": [
    "# List Data Type"
   ]
  },
  {
   "cell_type": "code",
   "execution_count": 3,
   "id": "d93822dd-4cc7-4d45-b942-ac4ad9079fc0",
   "metadata": {},
   "outputs": [
    {
     "name": "stdout",
     "output_type": "stream",
     "text": [
      "[1, 2, 3, 4, 5]\n"
     ]
    }
   ],
   "source": [
    "#same type of elements in list (integer) \n",
    "a=[1,2,3,4,5]\n",
    "print(a)"
   ]
  },
  {
   "cell_type": "code",
   "execution_count": 4,
   "id": "e1b88a10-2d1f-4c0c-820f-3a026cfa1993",
   "metadata": {},
   "outputs": [
    {
     "name": "stdout",
     "output_type": "stream",
     "text": [
      "[1, 2, 3.5, 4.5, 'Deepjoy', 'Saikat', True, False]\n"
     ]
    }
   ],
   "source": [
    "#different types of elements in list (integer,float,string,boolean) \n",
    "a=[1,2,3.5,4.5,\"Deepjoy\",\"Saikat\",True,False]\n",
    "print(a)"
   ]
  },
  {
   "cell_type": "code",
   "execution_count": 5,
   "id": "11280392-bbb0-4dad-89ac-85e696189970",
   "metadata": {},
   "outputs": [
    {
     "name": "stdout",
     "output_type": "stream",
     "text": [
      "<class 'list'>\n"
     ]
    }
   ],
   "source": [
    "#type function of list datatype\n",
    "a=[1,2,3.5,4.5,\"Deepjoy\",\"Saikat\",True,False]\n",
    "print(type(a))"
   ]
  },
  {
   "cell_type": "code",
   "execution_count": 6,
   "id": "8cde009a-cf93-4d61-a3cd-2666516b7774",
   "metadata": {},
   "outputs": [
    {
     "name": "stdout",
     "output_type": "stream",
     "text": [
      "Saikat\n"
     ]
    }
   ],
   "source": [
    "#print the \"Saikat\"\n",
    "a=[1,2,3.5,4.5,\"Deepjoy\",\"Saikat\",True,False]\n",
    "print(a[5])"
   ]
  },
  {
   "cell_type": "code",
   "execution_count": 7,
   "id": "b1dbd7e9-63d2-4154-a474-7384cfabcf6c",
   "metadata": {},
   "outputs": [
    {
     "name": "stdout",
     "output_type": "stream",
     "text": [
      "eep\n"
     ]
    }
   ],
   "source": [
    "#print the \"eep\"\n",
    "a=[1,2,3.5,4.5,\"Deepjoy\",\"Saikat\",True,False]\n",
    "print(a[4][1:4])"
   ]
  },
  {
   "cell_type": "code",
   "execution_count": 10,
   "id": "c02b3e95-3cd4-4373-b316-67b470e3a7c0",
   "metadata": {},
   "outputs": [
    {
     "name": "stdout",
     "output_type": "stream",
     "text": [
      "aki\n"
     ]
    }
   ],
   "source": [
    "#print the \"aki\"---negative index\n",
    "a=[1,2,3.5,4.5,\"Deepjoy\",\"Saikat\",True,False]\n",
    "print(a[5][-2:-5:-1])"
   ]
  },
  {
   "cell_type": "code",
   "execution_count": 11,
   "id": "66a993e1-1831-4c64-90cc-12d5018a4e3a",
   "metadata": {},
   "outputs": [
    {
     "name": "stdout",
     "output_type": "stream",
     "text": [
      "aki\n"
     ]
    }
   ],
   "source": [
    "#print the \"aki\"---positive index\n",
    "a=[1,2,3.5,4.5,\"Deepjoy\",\"Saikat\",True,False]\n",
    "print(a[5][4:1:-1])"
   ]
  },
  {
   "cell_type": "code",
   "execution_count": 12,
   "id": "513b636a-84f3-4264-82bc-a15163046643",
   "metadata": {},
   "outputs": [
    {
     "name": "stdout",
     "output_type": "stream",
     "text": [
      "Deepjoy\n"
     ]
    }
   ],
   "source": [
    "#print the \"Deepjoy\"\n",
    "a=[1,2,[[3.5,4.5,\"Deepjoy\"],\"Saikat\"],[True,False],\"Debraj\",6]\n",
    "print(a[2][0][2])"
   ]
  },
  {
   "cell_type": "code",
   "execution_count": 13,
   "id": "2a84a0d1-8e23-4692-9e4d-11ef7fb877c5",
   "metadata": {},
   "outputs": [
    {
     "name": "stdout",
     "output_type": "stream",
     "text": [
      "epjoy\n"
     ]
    }
   ],
   "source": [
    "#print the \"epjoy\"\n",
    "a=[1,2,[[3.5,4.5,\"Deepjoy\"],\"Saikat\"],[True,False],\"Debraj\",6]\n",
    "print(a[2][0][2][2::1])"
   ]
  },
  {
   "cell_type": "code",
   "execution_count": 14,
   "id": "718db471-4cd7-4903-840f-c9f248b6ef92",
   "metadata": {},
   "outputs": [
    {
     "name": "stdout",
     "output_type": "stream",
     "text": [
      "False\n"
     ]
    }
   ],
   "source": [
    "#print the False\n",
    "a=[1,2,[[3.5,4.5,\"Deepjoy\"],\"Saikat\"],[True,False],\"Debraj\",6]\n",
    "print(a[3][1])"
   ]
  },
  {
   "cell_type": "markdown",
   "id": "24cd0f7c-c285-4cb9-bb61-c6774cdc7746",
   "metadata": {},
   "source": [
    "## String Functions"
   ]
  },
  {
   "cell_type": "code",
   "execution_count": 22,
   "id": "5fdbf01e-c5db-4251-9566-2a3bcdd339eb",
   "metadata": {},
   "outputs": [
    {
     "name": "stdout",
     "output_type": "stream",
     "text": [
      "['2', '3', '-', '0', '8', '-', '1', '9', '9', '4']\n",
      "<class 'list'>\n"
     ]
    }
   ],
   "source": [
    "#String Function (list)-----Conversion from string to list datatype\n",
    "f=list(\"23-08-1994\")\n",
    "print(f)\n",
    "print(type(f))"
   ]
  },
  {
   "cell_type": "code",
   "execution_count": 1,
   "id": "25572d31-f9f8-4fdb-a078-184d4fbbafd4",
   "metadata": {},
   "outputs": [
    {
     "name": "stdout",
     "output_type": "stream",
     "text": [
      "['deepjoy', 'sarkar']\n",
      "<class 'str'>\n",
      "<class 'list'>\n"
     ]
    }
   ],
   "source": [
    "#String Function (split)-----Conversion from string to list datatype---Spliting the String by space default and converted into list\n",
    "f=\"deepjoy sarkar\"\n",
    "g=f.split()\n",
    "print(g)\n",
    "print(type(f))\n",
    "print(type(g))"
   ]
  },
  {
   "cell_type": "code",
   "execution_count": 20,
   "id": "df6f59be-b017-439d-8121-3e715fbbb7bb",
   "metadata": {},
   "outputs": [
    {
     "name": "stdout",
     "output_type": "stream",
     "text": [
      "['23', '08', '1994']\n",
      "<class 'str'>\n",
      "<class 'list'>\n"
     ]
    }
   ],
   "source": [
    "#String Function (split)-----Conversion from string to list datatype\n",
    "f=\"23-08-1994\"\n",
    "g=f.split(\"-\")\n",
    "print(g)\n",
    "print(type(f))\n",
    "print(type(g))"
   ]
  },
  {
   "cell_type": "code",
   "execution_count": 43,
   "id": "7d338cbe-bcee-4587-b21a-568a44c3e224",
   "metadata": {},
   "outputs": [
    {
     "name": "stdout",
     "output_type": "stream",
     "text": [
      "['D', 'e', 'e', 'p', 'j', 'o', 'y']\n"
     ]
    }
   ],
   "source": [
    "#String Function (list)-----Conversion from string to list datatype\n",
    "a=\"Deepjoy\"\n",
    "b=list(a)\n",
    "print(b)"
   ]
  },
  {
   "cell_type": "code",
   "execution_count": 23,
   "id": "957bab22-042a-4677-a930-4694a8cc47a3",
   "metadata": {},
   "outputs": [
    {
     "name": "stdout",
     "output_type": "stream",
     "text": [
      "['I', 'am', 'a', 'good', 'boy']\n",
      "Iamagoodboy\n",
      "<class 'list'>\n",
      "<class 'str'>\n"
     ]
    }
   ],
   "source": [
    "#String Function (join)-----Conversion from list to string datatype\n",
    "a=['I', 'am', 'a', 'good', 'boy']\n",
    "b=\"\".join(a) #no space creation in list to string datatype conversion\n",
    "print(a)\n",
    "print(b)\n",
    "print(type(a))\n",
    "print(type(b))"
   ]
  },
  {
   "cell_type": "code",
   "execution_count": 24,
   "id": "71ce11af-d29c-49a6-8880-69e494915005",
   "metadata": {},
   "outputs": [
    {
     "name": "stdout",
     "output_type": "stream",
     "text": [
      "['I', 'am', 'a', 'good', 'boy']\n",
      "I am a good boy\n",
      "<class 'list'>\n",
      "<class 'str'>\n"
     ]
    }
   ],
   "source": [
    "#String Function (join)-----Conversion from list to string datatype\n",
    "a=['I', 'am', 'a', 'good', 'boy']\n",
    "b=\" \".join(a) #space creation in list to string datatype conversion\n",
    "print(a)\n",
    "print(b)\n",
    "print(type(a))\n",
    "print(type(b))"
   ]
  },
  {
   "cell_type": "code",
   "execution_count": 36,
   "id": "5f38635b-a115-41e4-8799-88c6049c012e",
   "metadata": {},
   "outputs": [
    {
     "name": "stdout",
     "output_type": "stream",
     "text": [
      "Data Analytics Course\n"
     ]
    }
   ],
   "source": [
    "##Task 1\n",
    "#Input=\"We-are-doing-Data-Analytics-Course\"\n",
    "#Output=\"Data Analytics Course\"\n",
    "a=\"We-are-doing-Data-Analytics-Course\"\n",
    "b=\" \".join(a.split(\"-\")[3:])\n",
    "print(b)"
   ]
  },
  {
   "cell_type": "code",
   "execution_count": 40,
   "id": "92ff7681-b33e-4020-9da5-919a03e8e4cb",
   "metadata": {},
   "outputs": [
    {
     "name": "stdout",
     "output_type": "stream",
     "text": [
      "Data Analytics Course\n"
     ]
    }
   ],
   "source": [
    "##Task 1\n",
    "#Input=\"We-are-doing-Data-Analytics-Course\"\n",
    "#Output=\"Data Analytics Course\"\n",
    "a=\"We-are-doing-Data-Analytics-Course\"\n",
    "b=a.replace(\"-\",\" \")\n",
    "c=\" \".join(b.split(\" \")[3:])\n",
    "print(c)"
   ]
  },
  {
   "cell_type": "markdown",
   "id": "ea1ac365-37e9-49f6-8923-1438c9d699cc",
   "metadata": {},
   "source": [
    "## List Functions"
   ]
  },
  {
   "cell_type": "code",
   "execution_count": 1,
   "id": "3be69999-d337-477f-893c-fa2a7525ebed",
   "metadata": {},
   "outputs": [
    {
     "name": "stdout",
     "output_type": "stream",
     "text": [
      "[1, 2, 3, 4, 5, 9]\n"
     ]
    }
   ],
   "source": [
    "#list functions (append function)---single same type element inserts at the end\n",
    "a=[1,2,3,4,5]\n",
    "a.append(9)\n",
    "print(a)"
   ]
  },
  {
   "cell_type": "code",
   "execution_count": 2,
   "id": "58dc9539-aeb2-4bf5-9176-652838283f8d",
   "metadata": {},
   "outputs": [
    {
     "name": "stdout",
     "output_type": "stream",
     "text": [
      "[1, 2, 3, 4, 5, 'Deepjoy']\n"
     ]
    }
   ],
   "source": [
    "#list functions (append function)---single different types elements inserts at the end\n",
    "a=[1,2,3,4,5]\n",
    "a.append(\"Deepjoy\")\n",
    "print(a)"
   ]
  },
  {
   "cell_type": "code",
   "execution_count": 8,
   "id": "d8cf1e0d-3a80-4c6f-9135-db1171e61116",
   "metadata": {},
   "outputs": [
    {
     "name": "stdout",
     "output_type": "stream",
     "text": [
      "[1, 2, 3, 4, 5, 8, 9, 10]\n"
     ]
    }
   ],
   "source": [
    "#list functions (extend function)----multiple same type of list elements insert at the end\n",
    "a=[1,2,3,4,5]\n",
    "a.extend([8,9,10])\n",
    "print(a)"
   ]
  },
  {
   "cell_type": "code",
   "execution_count": 9,
   "id": "22e964de-7a8e-490d-95e7-93e6f63e5318",
   "metadata": {},
   "outputs": [
    {
     "name": "stdout",
     "output_type": "stream",
     "text": [
      "[1, 2, 3, 4, 5, 8, 9, 'Saikat', True]\n"
     ]
    }
   ],
   "source": [
    "#list functions (extend function)----multiple different types of list elements insert at the end\n",
    "a=[1,2,3,4,5]\n",
    "a.extend([8,9,\"Saikat\",True])\n",
    "print(a)"
   ]
  },
  {
   "cell_type": "code",
   "execution_count": 1,
   "id": "6b82095d-d443-40fc-8ee6-a0f7bb322d0f",
   "metadata": {},
   "outputs": [
    {
     "name": "stdout",
     "output_type": "stream",
     "text": [
      "[1, 2, 3, 4, 5, 6, 7, 8, 9] [6, 7, 8, 9]\n"
     ]
    }
   ],
   "source": [
    "a=[1,2,3,4,5]\n",
    "b=[6,7,8,9]\n",
    "a.extend(b)\n",
    "print(a,b)"
   ]
  },
  {
   "cell_type": "code",
   "execution_count": 2,
   "id": "cc484406-f21b-478e-8cfc-8fa32ea363e4",
   "metadata": {},
   "outputs": [
    {
     "name": "stdout",
     "output_type": "stream",
     "text": [
      "[1, 2, 3, 4, 5] [6, 7, 8, 9, 1, 2, 3, 4, 5]\n"
     ]
    }
   ],
   "source": [
    "a=[1,2,3,4,5]\n",
    "b=[6,7,8,9]\n",
    "b.extend(a)\n",
    "print(a,b)"
   ]
  },
  {
   "cell_type": "code",
   "execution_count": 3,
   "id": "9e073cf3-9a29-4e73-817e-7338d82a8f10",
   "metadata": {},
   "outputs": [
    {
     "name": "stdout",
     "output_type": "stream",
     "text": [
      "[1, 2, 10, 3, 4, 5]\n"
     ]
    }
   ],
   "source": [
    "#list functions (insert function)----single different types of list elements insert at any position in a list\n",
    "a=[1,2,3,4,5]\n",
    "a.insert(2,10)\n",
    "print(a)"
   ]
  },
  {
   "cell_type": "code",
   "execution_count": 4,
   "id": "29860a41-f4bd-4d86-b541-a67f483a27e1",
   "metadata": {},
   "outputs": [
    {
     "name": "stdout",
     "output_type": "stream",
     "text": [
      "[1, 2, 7, 8, 9, 3, 4, 5] [7, 8, 9]\n"
     ]
    }
   ],
   "source": [
    "#list functions (insert function) & Concatination----multiple different types of list elements insert at any position in a list\n",
    "#Here we insert b list elements in a's 2nd postion \n",
    "a=[1,2,3,4,5]\n",
    "b=[7,8,9]\n",
    "a=a[:2]+b+a[2:]\n",
    "print(a,b)"
   ]
  },
  {
   "cell_type": "code",
   "execution_count": 7,
   "id": "67431b76-c7c1-4ccc-ad0b-29edd6374090",
   "metadata": {},
   "outputs": [
    {
     "name": "stdout",
     "output_type": "stream",
     "text": [
      "['abc', 'ddhfksf', 'abc', 'fscns']\n"
     ]
    }
   ],
   "source": [
    "#list functions (pop function)----single list element delete at index wise\n",
    "a=[\"abc\",\"dxf\",\"ddhfksf\",\"abc\",\"fscns\"]\n",
    "a.pop(1)\n",
    "print(a)"
   ]
  },
  {
   "cell_type": "code",
   "execution_count": 8,
   "id": "38c35864-59e4-4224-85be-69a6d21f1b53",
   "metadata": {},
   "outputs": [
    {
     "name": "stdout",
     "output_type": "stream",
     "text": [
      "['abc', 'dxf', 'ddhfksf', 'abc']\n"
     ]
    }
   ],
   "source": [
    "#list functions (pop function)----single list element delete at index wise (by default last index)\n",
    "a=[\"abc\",\"dxf\",\"ddhfksf\",\"abc\",\"fscns\"]\n",
    "a.pop()\n",
    "print(a)"
   ]
  },
  {
   "cell_type": "code",
   "execution_count": 10,
   "id": "411be581-2f16-442a-bf1b-ac52c85f5c14",
   "metadata": {},
   "outputs": [
    {
     "name": "stdout",
     "output_type": "stream",
     "text": [
      "['abc', 'ddhfksf', 'abc', 'fscns']\n"
     ]
    }
   ],
   "source": [
    "#list functions (remove function)----single list element delete at value wise\n",
    "a=[\"abc\",\"dxf\",\"ddhfksf\",\"abc\",\"fscns\"]\n",
    "a.remove(\"dxf\")\n",
    "print(a)"
   ]
  },
  {
   "cell_type": "code",
   "execution_count": 11,
   "id": "cb486293-920c-4441-85bb-63f0edb9f5e8",
   "metadata": {},
   "outputs": [
    {
     "name": "stdout",
     "output_type": "stream",
     "text": [
      "['dxf', 'ddhfksf', 'abc', 'fscns']\n"
     ]
    }
   ],
   "source": [
    "#list functions (remove function)----single list element delete at value wise (only delete 1st occurence)\n",
    "a=[\"abc\",\"dxf\",\"ddhfksf\",\"abc\",\"fscns\"]\n",
    "a.remove(\"abc\")\n",
    "print(a)"
   ]
  },
  {
   "cell_type": "code",
   "execution_count": 12,
   "id": "667f28ea-0265-4961-a3ae-1ce24bd162a5",
   "metadata": {},
   "outputs": [
    {
     "name": "stdout",
     "output_type": "stream",
     "text": [
      "1\n"
     ]
    }
   ],
   "source": [
    "#list functions (index function)----see the index of a list elements\n",
    "a=[\"abc\",\"dxf\",\"ddhfksf\",\"abc\",\"fscns\"]\n",
    "a.index(\"dxf\")\n",
    "print(a.index(\"dxf\"))"
   ]
  },
  {
   "cell_type": "code",
   "execution_count": 14,
   "id": "e63a6cd2-3f8c-4c90-b6c2-48fa0892e17a",
   "metadata": {},
   "outputs": [
    {
     "name": "stdout",
     "output_type": "stream",
     "text": [
      "2 0 1\n"
     ]
    }
   ],
   "source": [
    "#list functions (count function)----counting a elements of a list\n",
    "a=[\"abc\",\"dxf\",\"ddhfksf\",\"abc\",\"fscns\"]\n",
    "b=a.count(\"abc\")\n",
    "c=a.count(\"fgh\")\n",
    "d=a.count(\"dxf\")\n",
    "print(b,c,d)"
   ]
  },
  {
   "cell_type": "code",
   "execution_count": 15,
   "id": "81be7134-4a02-4a77-ae11-b1e50ebf340f",
   "metadata": {},
   "outputs": [
    {
     "name": "stdout",
     "output_type": "stream",
     "text": [
      "[-5.9, -2, -1, 2, 4, 4.5, 5, 6, 23, 45, 89]\n"
     ]
    }
   ],
   "source": [
    "#list functions (sort function)----sorting elements of a list in asending order(integer & float elements inside a list)\n",
    "a=[2,45,89,5,4,6,23,-1,-2,4.5,-5.9]\n",
    "a.sort()\n",
    "print(a)"
   ]
  },
  {
   "cell_type": "code",
   "execution_count": 17,
   "id": "167e7f54-9a17-48b1-8213-40a3e5d8ac21",
   "metadata": {},
   "outputs": [
    {
     "name": "stdout",
     "output_type": "stream",
     "text": [
      "['a', 'ab', 'abc', 'debraj', 'deepjoy', 'saikat', 'z']\n"
     ]
    }
   ],
   "source": [
    "#list functions (sort function)----sorting elements of a list in asending order(string elements inside a list)\n",
    "a=[\"deepjoy\",\"a\",\"saikat\",\"debraj\",\"ab\",\"abc\",\"z\"]\n",
    "a.sort()\n",
    "print(a)"
   ]
  },
  {
   "cell_type": "code",
   "execution_count": 18,
   "id": "2d344af5-864a-4780-ba3b-94d521298a25",
   "metadata": {},
   "outputs": [
    {
     "name": "stdout",
     "output_type": "stream",
     "text": [
      "[89, 45, 23, 6, 5, 4.5, 4, 2, -1, -2, -5.9]\n"
     ]
    }
   ],
   "source": [
    "#list functions (sort function)----sorting elements of a list in desending order[reverse keyword](integer & float elements inside a list)\n",
    "a=[2,45,89,5,4,6,23,-1,-2,4.5,-5.9]\n",
    "a.sort(reverse=True)\n",
    "print(a)"
   ]
  },
  {
   "cell_type": "code",
   "execution_count": 19,
   "id": "e897ee5a-e0c4-4715-a328-3ee837ea9076",
   "metadata": {},
   "outputs": [
    {
     "name": "stdout",
     "output_type": "stream",
     "text": [
      "[-5.9, -2, -1, 2, 4, 4.5, 5, 6, 23, 45, 89]\n"
     ]
    }
   ],
   "source": [
    "#list functions (sort function)----sorting elements of a list in asending order[reverse keyword](integer & float elements inside a list)\n",
    "a=[2,45,89,5,4,6,23,-1,-2,4.5,-5.9]\n",
    "a.sort(reverse=False)\n",
    "print(a)"
   ]
  },
  {
   "cell_type": "code",
   "execution_count": 23,
   "id": "2422af82-90c7-47e5-b231-92bca8b5c95c",
   "metadata": {},
   "outputs": [
    {
     "name": "stdout",
     "output_type": "stream",
     "text": [
      "['abc', 'dxf', 'ddhfksf', 'abc', 'fscns'] ['abc', 'abc', 'ddhfksf', 'dxf', 'fscns']\n"
     ]
    }
   ],
   "source": [
    "#Python in build function(sorted function)----sorting elements of a list in asending order\n",
    "a=[\"abc\",\"dxf\",\"ddhfksf\",\"abc\",\"fscns\"]\n",
    "b=sorted(a)\n",
    "print(a,b)"
   ]
  },
  {
   "cell_type": "code",
   "execution_count": 24,
   "id": "be28c443-629b-4a7e-906b-96a973e1cf97",
   "metadata": {},
   "outputs": [
    {
     "name": "stdout",
     "output_type": "stream",
     "text": [
      "['abc', 'dxf', 'ddhfksf', 'abc', 'fscns'] ['fscns', 'dxf', 'ddhfksf', 'abc', 'abc']\n"
     ]
    }
   ],
   "source": [
    "#Python in build function(sorted function)-------sorting elements of a list in desending order[reverse keyword]\n",
    "a=[\"abc\",\"dxf\",\"ddhfksf\",\"abc\",\"fscns\"]\n",
    "b=sorted(a,reverse=True)\n",
    "print(a,b)"
   ]
  },
  {
   "cell_type": "code",
   "execution_count": 25,
   "id": "fa2c93a9-5738-44f2-b544-6b256a317ebe",
   "metadata": {},
   "outputs": [
    {
     "name": "stdout",
     "output_type": "stream",
     "text": [
      "['abc', 'dxf', 'ddhfksf', 'abc', 'fscns'] ['abc', 'dxf', 'ddhfksf', 'abc', 'fscns']\n"
     ]
    }
   ],
   "source": [
    "#list functions (copy function)---copying the all elements of a list to another list\n",
    "a=[\"abc\",\"dxf\",\"ddhfksf\",\"abc\",\"fscns\"]\n",
    "b=a.copy()\n",
    "print(a,b)"
   ]
  },
  {
   "cell_type": "code",
   "execution_count": 26,
   "id": "f7047f73-875e-456d-8282-356333f0d59d",
   "metadata": {},
   "outputs": [
    {
     "name": "stdout",
     "output_type": "stream",
     "text": [
      "['abc', 'abc', 'ddhfksf', 'dxf', 'fscns'] ['abc', 'dxf', 'ddhfksf', 'abc', 'fscns']\n"
     ]
    }
   ],
   "source": [
    "#sorting operation with copy function\n",
    "a=[\"abc\",\"dxf\",\"ddhfksf\",\"abc\",\"fscns\"]\n",
    "b=a.copy()\n",
    "a.sort()\n",
    "print(a,b) #only a is sorted ascending order but b is not sorted "
   ]
  },
  {
   "cell_type": "code",
   "execution_count": 29,
   "id": "2afd382b-4bee-485a-8f98-0777776e4a0a",
   "metadata": {},
   "outputs": [
    {
     "name": "stdout",
     "output_type": "stream",
     "text": [
      "['fscns', 'dxf', 'ddhfksf', 'abc', 'abc'] ['abc', 'dxf', 'ddhfksf', 'abc', 'fscns']\n"
     ]
    }
   ],
   "source": [
    "#sorting operation with copy function\n",
    "a=[\"abc\",\"dxf\",\"ddhfksf\",\"abc\",\"fscns\"]\n",
    "b=a.copy()\n",
    "a.sort(reverse=True)\n",
    "print(a,b) #only a is sorted descending order but b is not sorted "
   ]
  },
  {
   "cell_type": "code",
   "execution_count": 27,
   "id": "b2443a76-e976-4994-8983-913fabf300c8",
   "metadata": {},
   "outputs": [
    {
     "name": "stdout",
     "output_type": "stream",
     "text": [
      "['abc', 'abc', 'ddhfksf', 'dxf', 'fscns'] ['abc', 'abc', 'ddhfksf', 'dxf', 'fscns']\n"
     ]
    }
   ],
   "source": [
    "#sorting operation without copy function\n",
    "a=[\"abc\",\"dxf\",\"ddhfksf\",\"abc\",\"fscns\"]\n",
    "a=b\n",
    "a.sort()\n",
    "print(a,b) #both a & b are sorted ascending order"
   ]
  },
  {
   "cell_type": "code",
   "execution_count": 30,
   "id": "32030f10-7c91-4b94-8452-3de87be367d9",
   "metadata": {},
   "outputs": [
    {
     "name": "stdout",
     "output_type": "stream",
     "text": [
      "['fscns', 'dxf', 'ddhfksf', 'abc', 'abc'] ['fscns', 'dxf', 'ddhfksf', 'abc', 'abc']\n"
     ]
    }
   ],
   "source": [
    "#sorting operation without copy function\n",
    "a=[\"abc\",\"dxf\",\"ddhfksf\",\"abc\",\"fscns\"]\n",
    "b=a\n",
    "a.sort(reverse=True)\n",
    "print(a,b) #both a & b are sorted descending order"
   ]
  },
  {
   "cell_type": "code",
   "execution_count": 31,
   "id": "1382862d-6bf9-419c-83ec-ebf755fec11b",
   "metadata": {},
   "outputs": [
    {
     "name": "stdout",
     "output_type": "stream",
     "text": [
      "[]\n"
     ]
    }
   ],
   "source": [
    "#list functions (clear function)---delete all the elemets of a list\n",
    "a=[\"abc\",\"dxf\",\"ddhfksf\",\"abc\",\"fscns\"]\n",
    "a.clear()\n",
    "print(a)"
   ]
  },
  {
   "cell_type": "code",
   "execution_count": 8,
   "id": "3c5fd854-3697-4ab7-9b90-bf02c8f3591e",
   "metadata": {},
   "outputs": [
    {
     "name": "stdout",
     "output_type": "stream",
     "text": [
      "89 -5.9 169.6 11\n"
     ]
    }
   ],
   "source": [
    "#max,min,sum,len functions are applicable in list datatype\n",
    "a=[2,45,89,5,4,6,23,-1,-2,4.5,-5.9]\n",
    "max_=max(a)\n",
    "min_=min(a)\n",
    "sum_=sum(a)\n",
    "len_=len(a)\n",
    "print(max_,min_,sum_,len_)"
   ]
  },
  {
   "cell_type": "code",
   "execution_count": 9,
   "id": "960fb435-f734-44f3-a130-f44928ac34e9",
   "metadata": {},
   "outputs": [
    {
     "name": "stdout",
     "output_type": "stream",
     "text": [
      "15.418181818181818\n"
     ]
    }
   ],
   "source": [
    "#avarege in list elements\n",
    "a=[2,45,89,5,4,6,23,-1,-2,4.5,-5.9]\n",
    "avg_=sum(a)/len(a)\n",
    "print(avg_)"
   ]
  },
  {
   "cell_type": "code",
   "execution_count": 1,
   "id": "c653c967-51c9-4c21-b6a0-cdc9aacba1ae",
   "metadata": {},
   "outputs": [
    {
     "name": "stdout",
     "output_type": "stream",
     "text": [
      "[1, 2, 3, 4, 5, 6]\n"
     ]
    }
   ],
   "source": [
    "# Concatinate list of list in a single flatten list\n",
    "list_of_lists = [[1, 2, 3], [4, 5], [6]]\n",
    "flattened_list = sum(list_of_lists, [])\n",
    "print(flattened_list)"
   ]
  },
  {
   "cell_type": "code",
   "execution_count": 2,
   "id": "10a3d509-73b7-4ee5-a287-8895aa907089",
   "metadata": {},
   "outputs": [
    {
     "name": "stdout",
     "output_type": "stream",
     "text": [
      "<class 'list'>\n",
      "['Deepjoy']\n"
     ]
    }
   ],
   "source": [
    "# Convert a String into a Single list\n",
    "string = \"Deepjoy\"\n",
    "string_list = [string]\n",
    "print(type(string_list))\n",
    "print(string_list)"
   ]
  },
  {
   "cell_type": "code",
   "execution_count": null,
   "id": "ebf0fdd8-4926-4d6a-96a0-7e7e7bd1217f",
   "metadata": {},
   "outputs": [],
   "source": []
  }
 ],
 "metadata": {
  "kernelspec": {
   "display_name": "Python 3 (ipykernel)",
   "language": "python",
   "name": "python3"
  },
  "language_info": {
   "codemirror_mode": {
    "name": "ipython",
    "version": 3
   },
   "file_extension": ".py",
   "mimetype": "text/x-python",
   "name": "python",
   "nbconvert_exporter": "python",
   "pygments_lexer": "ipython3",
   "version": "3.10.10"
  }
 },
 "nbformat": 4,
 "nbformat_minor": 5
}
