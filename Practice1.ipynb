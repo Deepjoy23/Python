{
 "cells": [
  {
   "cell_type": "code",
   "execution_count": 2,
   "id": "a0ca71ca-f883-4a63-8084-3a38e9d738e5",
   "metadata": {},
   "outputs": [
    {
     "name": "stdout",
     "output_type": "stream",
     "text": [
      "My name is Deepjoy\n"
     ]
    }
   ],
   "source": [
    "print(\"My name is Deepjoy\")"
   ]
  },
  {
   "cell_type": "code",
   "execution_count": 3,
   "id": "f2e90457-3fd9-44a3-9589-b1b9bbeefaf4",
   "metadata": {},
   "outputs": [
    {
     "name": "stdout",
     "output_type": "stream",
     "text": [
      "My name is Deepjoy Sarkar.\n",
      "I live in Ultadanga.\n",
      "I want to become a software developer.\n"
     ]
    }
   ],
   "source": [
    "# Print as u wish\n",
    "print(\"\"\"My name is Deepjoy Sarkar.\n",
    "I live in Ultadanga.\n",
    "I want to become a software developer.\"\"\")"
   ]
  },
  {
   "cell_type": "code",
   "execution_count": 2,
   "id": "d42e07f4-bdf7-4e72-a119-1ed18cd7cef4",
   "metadata": {},
   "outputs": [
    {
     "name": "stdout",
     "output_type": "stream",
     "text": [
      "My name is Deepjoy Sarkar. I live in Ultadanga. I want to become a software developer.\n"
     ]
    }
   ],
   "source": [
    "# Print as 1 single space in a single line\n",
    "print(\"My name is Deepjoy Sarkar.\\\n",
    " I live in Ultadanga.\\\n",
    " I want to become a software developer.\")"
   ]
  },
  {
   "cell_type": "code",
   "execution_count": 1,
   "id": "0c9e7a20-3618-469b-8e9f-0f242224e60b",
   "metadata": {},
   "outputs": [
    {
     "name": "stdout",
     "output_type": "stream",
     "text": [
      "This is the first line.\n",
      "This is the second line.\n"
     ]
    }
   ],
   "source": [
    "# New line print\n",
    "print(\"This is the first line.\\nThis is the second line.\")"
   ]
  },
  {
   "cell_type": "code",
   "execution_count": 4,
   "id": "5e0fadc5-84dd-448a-9787-abf613d7f7c7",
   "metadata": {},
   "outputs": [
    {
     "name": "stdout",
     "output_type": "stream",
     "text": [
      "This is a string with a \ttab.\n"
     ]
    }
   ],
   "source": [
    "# Print as single tab(8 spaces)\n",
    "print(\"This is a string with a \\ttab.\")"
   ]
  },
  {
   "cell_type": "code",
   "execution_count": 5,
   "id": "5f5eb094-cb8a-450a-b2d8-addfb83c75db",
   "metadata": {},
   "outputs": [
    {
     "name": "stdout",
     "output_type": "stream",
     "text": [
      "Line 1\n",
      "\n",
      "\n",
      "Line 4\n"
     ]
    }
   ],
   "source": [
    "# Print as 1st line and 4th line(3 line gap in between them)\n",
    "print(\"Line 1\\n\\n\\nLine 4\")"
   ]
  },
  {
   "cell_type": "code",
   "execution_count": 6,
   "id": "5e63dcc7-121f-462c-897c-0a415f2c90e8",
   "metadata": {},
   "outputs": [
    {
     "name": "stdout",
     "output_type": "stream",
     "text": [
      "First line\n",
      "\tSecond line with a tab\n"
     ]
    }
   ],
   "source": [
    "# Print 1st line and 2nd line with a tab space\n",
    "print(\"First line\\n\\tSecond line with a tab\")"
   ]
  },
  {
   "cell_type": "code",
   "execution_count": 11,
   "id": "3e6bd7db-8d18-42ca-84d0-39553fb3d914",
   "metadata": {},
   "outputs": [
    {
     "name": "stdout",
     "output_type": "stream",
     "text": [
      "11\n"
     ]
    }
   ],
   "source": [
    "a=5\n",
    "b=6\n",
    "print(a+b)"
   ]
  },
  {
   "cell_type": "code",
   "execution_count": 12,
   "id": "59de359c-8528-4926-b6b1-d1dff4da523a",
   "metadata": {},
   "outputs": [
    {
     "name": "stdout",
     "output_type": "stream",
     "text": [
      "16\n"
     ]
    }
   ],
   "source": [
    "c=11\n",
    "print(a+c)"
   ]
  },
  {
   "cell_type": "code",
   "execution_count": 16,
   "id": "43033b3d-80e7-4797-b5e5-0bd3901b4a7d",
   "metadata": {},
   "outputs": [
    {
     "name": "stdout",
     "output_type": "stream",
     "text": [
      "0.8333333333333334\n"
     ]
    }
   ],
   "source": [
    "a=5\n",
    "b=6\n",
    "c=a/b\n",
    "print(c)"
   ]
  },
  {
   "cell_type": "code",
   "execution_count": 7,
   "id": "f273e193-10b2-4c35-86df-ad965a1655a5",
   "metadata": {},
   "outputs": [
    {
     "name": "stdout",
     "output_type": "stream",
     "text": [
      "My name is 2 1\n"
     ]
    }
   ],
   "source": [
    "# f string using to print the variable with string\n",
    "a=2\n",
    "b=1\n",
    "c=f\"My name is {a} {b}\"\n",
    "print(c)"
   ]
  },
  {
   "cell_type": "markdown",
   "id": "bfc571f0-a61c-48dd-aa86-81ce7cf16c49",
   "metadata": {},
   "source": [
    "## Python Classes\n",
    "- Session 1\n",
    "- Session 2"
   ]
  },
  {
   "cell_type": "code",
   "execution_count": 23,
   "id": "b96918a8-6201-426c-a760-1146c5b33a8d",
   "metadata": {},
   "outputs": [
    {
     "name": "stdout",
     "output_type": "stream",
     "text": [
      "125\n"
     ]
    }
   ],
   "source": [
    "a=2\n",
    "b=3\n",
    "result=(a+b)**3\n",
    "print(result)"
   ]
  },
  {
   "cell_type": "code",
   "execution_count": 8,
   "id": "8b741ba5-e4bb-42e2-9d5e-0bb7408f93cc",
   "metadata": {},
   "outputs": [
    {
     "name": "stdout",
     "output_type": "stream",
     "text": [
      "Deepjoy Sarkar\n"
     ]
    }
   ],
   "source": [
    "first_name=\"Deepjoy\"\n",
    "last_name=\"Sarkar\"\n",
    "result=first_name+\" \"+last_name\n",
    "print(result)"
   ]
  }
 ],
 "metadata": {
  "kernelspec": {
   "display_name": "Python 3 (ipykernel)",
   "language": "python",
   "name": "python3"
  },
  "language_info": {
   "codemirror_mode": {
    "name": "ipython",
    "version": 3
   },
   "file_extension": ".py",
   "mimetype": "text/x-python",
   "name": "python",
   "nbconvert_exporter": "python",
   "pygments_lexer": "ipython3",
   "version": "3.10.10"
  }
 },
 "nbformat": 4,
 "nbformat_minor": 5
}
