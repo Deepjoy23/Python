{
 "cells": [
  {
   "cell_type": "markdown",
   "id": "6e2a4b1d-0f04-4342-bfcc-c053a243c21d",
   "metadata": {},
   "source": [
    "# Function"
   ]
  },
  {
   "cell_type": "markdown",
   "id": "12284d4d-7c6e-4a9e-8446-737e526bcdd7",
   "metadata": {},
   "source": [
    "## Function type as Input wise:\n",
    "### 1.Function with no Input\n",
    "### 2.Function with Input"
   ]
  },
  {
   "cell_type": "code",
   "execution_count": 1,
   "id": "c9419686-c63c-4b4e-945c-b057bb26782b",
   "metadata": {},
   "outputs": [
    {
     "name": "stdout",
     "output_type": "stream",
     "text": [
      "17\n"
     ]
    }
   ],
   "source": [
    "#function with no input\n",
    "def add_1(): #function definition no input\n",
    "    a=9\n",
    "    b=8\n",
    "    print(a+b)\n",
    "add_1() #calling function"
   ]
  },
  {
   "cell_type": "code",
   "execution_count": 3,
   "id": "7a88d9fd-0be5-4837-9606-514d4b93bb87",
   "metadata": {},
   "outputs": [
    {
     "name": "stdout",
     "output_type": "stream",
     "text": [
      "19\n"
     ]
    }
   ],
   "source": [
    "#function with input\n",
    "def add_2(a,b): #function definition with input\n",
    "    print(a+b)\n",
    "add_2(9,10) #calling function with input"
   ]
  },
  {
   "cell_type": "code",
   "execution_count": 4,
   "id": "4d85373b-6be8-464b-8da8-266d28e9145b",
   "metadata": {},
   "outputs": [
    {
     "name": "stdout",
     "output_type": "stream",
     "text": [
      "11\n"
     ]
    }
   ],
   "source": [
    "add_2(5,6) #calling function with no parameter sequence not changing"
   ]
  },
  {
   "cell_type": "code",
   "execution_count": 5,
   "id": "1df63855-83cd-4538-9c02-f3825208c345",
   "metadata": {},
   "outputs": [
    {
     "name": "stdout",
     "output_type": "stream",
     "text": [
      "16\n"
     ]
    }
   ],
   "source": [
    "add_2(a=7,b=9) #calling function with parameter sequence not changing"
   ]
  },
  {
   "cell_type": "code",
   "execution_count": 6,
   "id": "f1fcf99e-188a-40fd-9452-c3b78ad92496",
   "metadata": {},
   "outputs": [
    {
     "name": "stdout",
     "output_type": "stream",
     "text": [
      "11\n"
     ]
    }
   ],
   "source": [
    "add_2(b=5,a=6) #calling function with parameter sequence changing"
   ]
  },
  {
   "cell_type": "code",
   "execution_count": 7,
   "id": "a3f2e54e-7915-4db1-8c9e-e495bbc64729",
   "metadata": {},
   "outputs": [
    {
     "name": "stdout",
     "output_type": "stream",
     "text": [
      "4\n"
     ]
    }
   ],
   "source": [
    "def sub():\n",
    "    a=8\n",
    "    b=4\n",
    "    print(a-b)\n",
    "sub()"
   ]
  },
  {
   "cell_type": "code",
   "execution_count": 8,
   "id": "6aa3c1c5-4e91-41f3-a9d8-e5b752b22131",
   "metadata": {},
   "outputs": [
    {
     "ename": "NameError",
     "evalue": "name 'a' is not defined",
     "output_type": "error",
     "traceback": [
      "\u001b[1;31m---------------------------------------------------------------------------\u001b[0m",
      "\u001b[1;31mNameError\u001b[0m                                 Traceback (most recent call last)",
      "Cell \u001b[1;32mIn[8], line 1\u001b[0m\n\u001b[1;32m----> 1\u001b[0m \u001b[38;5;28mprint\u001b[39m(\u001b[43ma\u001b[49m,b) \u001b[38;5;66;03m#function with local variables\u001b[39;00m\n",
      "\u001b[1;31mNameError\u001b[0m: name 'a' is not defined"
     ]
    }
   ],
   "source": [
    "print(a,b) #function with local variables"
   ]
  },
  {
   "cell_type": "markdown",
   "id": "910c4a78-32d6-43f9-b73d-aac7d3c63ec5",
   "metadata": {},
   "source": [
    "## Function type as Output wise:\n",
    "### 1.Function with no Return (Non-Returnable Function)\n",
    "### 2.Function with Return (Returnable Function)"
   ]
  },
  {
   "cell_type": "code",
   "execution_count": 10,
   "id": "7619c567-04d9-4740-8ef8-a479c83a207d",
   "metadata": {},
   "outputs": [
    {
     "name": "stdout",
     "output_type": "stream",
     "text": [
      "2.0\n",
      "Result is : None\n"
     ]
    }
   ],
   "source": [
    "#Non-Returnable function\n",
    "def sub():\n",
    "    a=8\n",
    "    b=4\n",
    "    c=a/b\n",
    "    print(c)\n",
    "result=sub()\n",
    "print(\"Result is :\",result)"
   ]
  },
  {
   "cell_type": "code",
   "execution_count": 9,
   "id": "3571153d-ef22-433d-a181-bae6ba970622",
   "metadata": {},
   "outputs": [
    {
     "name": "stdout",
     "output_type": "stream",
     "text": [
      "5.0\n",
      "Result is : 5.0\n"
     ]
    }
   ],
   "source": [
    "def div_():\n",
    "    a=10\n",
    "    b=2\n",
    "    c=a/b\n",
    "    print(c)\n",
    "    return c #return the value the function\n",
    "result=div_() #value which is stored in the function can be stored into a variable\n",
    "print(\"Result is :\",result)"
   ]
  },
  {
   "cell_type": "code",
   "execution_count": 11,
   "id": "5abc81a1-15b9-40b9-a5fb-4946932c260a",
   "metadata": {},
   "outputs": [
    {
     "name": "stdout",
     "output_type": "stream",
     "text": [
      "Peremeter of rectangle is : 22\n",
      "Area of rectangle is : 30\n"
     ]
    }
   ],
   "source": [
    "#Rectangle Peremeter & Area checking\n",
    "def rectangle(l,b):\n",
    "    perimeter_=2*(l+b)\n",
    "    area_=l*b\n",
    "    return perimeter_,area_\n",
    "perimeter_2,area_2 =rectangle(5,6)\n",
    "print(\"Peremeter of rectangle is :\",perimeter_2)\n",
    "print(\"Area of rectangle is :\",area_2)"
   ]
  },
  {
   "cell_type": "code",
   "execution_count": 13,
   "id": "a35a2cfa-79dc-49c6-b4fd-7c20af76c434",
   "metadata": {},
   "outputs": [
    {
     "name": "stdout",
     "output_type": "stream",
     "text": [
      "Even Number\n"
     ]
    }
   ],
   "source": [
    "#write a function for checking odd or even number\n",
    "def check_(n):\n",
    "    if n%2==0:\n",
    "        print(\"Even Number\")\n",
    "    else:\n",
    "        print(\"Odd Number\")\n",
    "check_(10)"
   ]
  },
  {
   "cell_type": "code",
   "execution_count": 18,
   "id": "061b4656-fdc2-4ae7-8d5c-ff7678ab9a7b",
   "metadata": {},
   "outputs": [
    {
     "name": "stdout",
     "output_type": "stream",
     "text": [
      "12 is Even Number\n"
     ]
    }
   ],
   "source": [
    "#write a function for checking odd or even number\n",
    "def check_(n):\n",
    "    if n%2==0:\n",
    "        print(n,\"is Even Number\")\n",
    "    else:\n",
    "        \n",
    "        print(n,\"is Odd Number\")\n",
    "check_(12)"
   ]
  },
  {
   "cell_type": "code",
   "execution_count": 24,
   "id": "ab08df68-31af-4186-9ea5-878fbc3aa5f2",
   "metadata": {},
   "outputs": [
    {
     "data": {
      "text/plain": [
       "([12, 10], [7, 9, 23, 21])"
      ]
     },
     "execution_count": 24,
     "metadata": {},
     "output_type": "execute_result"
    }
   ],
   "source": [
    "# 1 function is even_odd\n",
    "# 2. it will take input as list of numbers\n",
    "# 3. check each number in the list and if it is even then place it inside the even_list or if it is a odd num ber then place it over odd_list\n",
    "# 4. return the even and odd list\n",
    "def check_(n):\n",
    "    even_list=[]\n",
    "    odd_list=[]\n",
    "    for i in n:\n",
    "        if i%2==0:\n",
    "           even_list.append(i) \n",
    "        else:\n",
    "            odd_list.append(i)\n",
    "    return even_list,odd_list\n",
    "check_([12,10,7,9,23,21])"
   ]
  },
  {
   "cell_type": "code",
   "execution_count": 26,
   "id": "f5db025b-3754-48a9-9473-d8de1f7c9b13",
   "metadata": {},
   "outputs": [
    {
     "name": "stdout",
     "output_type": "stream",
     "text": [
      "Even list is : [12, 10] \n",
      "Odd list is : [7, 9, 23, 21]\n"
     ]
    }
   ],
   "source": [
    "# 1 function is even_odd\n",
    "# 2. it will take input as list of numbers\n",
    "# 3. check each number in the list and if it is even then place it inside the even_list or if it is a odd num ber then place it over odd_list\n",
    "# 4. return the even and odd list\n",
    "def check_(n):\n",
    "    even_list=[]\n",
    "    odd_list=[]\n",
    "    for i in n:\n",
    "        if i%2==0:\n",
    "           even_list.append(i) \n",
    "        else:\n",
    "            odd_list.append(i)\n",
    "    return even_list,odd_list\n",
    "\n",
    "even_, odd_=check_([12,10,7,9,23,21])\n",
    "\n",
    "print(\"Even list is :\",even_,\"\\nOdd list is :\",odd_)"
   ]
  },
  {
   "cell_type": "code",
   "execution_count": 27,
   "id": "6b1279b8-0e82-4e06-8622-6628baf5cf0b",
   "metadata": {},
   "outputs": [
    {
     "name": "stdout",
     "output_type": "stream",
     "text": [
      "<class 'list'>\n",
      "<class 'list'>\n"
     ]
    }
   ],
   "source": [
    "print(type(even_))\n",
    "print(type(even_))"
   ]
  },
  {
   "cell_type": "code",
   "execution_count": 28,
   "id": "0826b1d9-14d7-4ac4-a1f0-184013d5b3ea",
   "metadata": {},
   "outputs": [
    {
     "data": {
      "text/plain": [
       "list"
      ]
     },
     "execution_count": 28,
     "metadata": {},
     "output_type": "execute_result"
    }
   ],
   "source": [
    "type([5])"
   ]
  },
  {
   "cell_type": "code",
   "execution_count": 29,
   "id": "42d055bd-e56a-4750-90a3-67fa66bacf76",
   "metadata": {},
   "outputs": [
    {
     "data": {
      "text/plain": [
       "int"
      ]
     },
     "execution_count": 29,
     "metadata": {},
     "output_type": "execute_result"
    }
   ],
   "source": [
    "type((5))"
   ]
  },
  {
   "cell_type": "code",
   "execution_count": 30,
   "id": "7361a21c-9138-4e8e-885e-b0ca0fa78739",
   "metadata": {},
   "outputs": [
    {
     "data": {
      "text/plain": [
       "tuple"
      ]
     },
     "execution_count": 30,
     "metadata": {},
     "output_type": "execute_result"
    }
   ],
   "source": [
    "#Single element as tuple\n",
    "type((5,))"
   ]
  },
  {
   "cell_type": "code",
   "execution_count": 32,
   "id": "4b5fe8eb-8039-4e5d-9833-9b3ee5ae2e3f",
   "metadata": {},
   "outputs": [
    {
     "data": {
      "text/plain": [
       "(4, 5, 6)"
      ]
     },
     "execution_count": 32,
     "metadata": {},
     "output_type": "execute_result"
    }
   ],
   "source": [
    "4,5,6  #Normal number also by default convert to tuple in python"
   ]
  },
  {
   "cell_type": "code",
   "execution_count": 30,
   "id": "3393ce73-99e7-4d56-897b-1c147b371eb6",
   "metadata": {},
   "outputs": [
    {
     "name": "stdin",
     "output_type": "stream",
     "text": [
      "Enter the 1st number:  10\n",
      "Enter the operator (+,-,*,/ ):  +\n",
      "Enter the 2nd number:  20\n"
     ]
    },
    {
     "name": "stdout",
     "output_type": "stream",
     "text": [
      "30.0\n"
     ]
    },
    {
     "name": "stdin",
     "output_type": "stream",
     "text": [
      "Whetehr you want to continue or not (1/0)? 1\n",
      "Enter the 1st number:  10\n",
      "Enter the operator (+,-,*,/ ):  -\n",
      "Enter the 2nd number:  5\n"
     ]
    },
    {
     "name": "stdout",
     "output_type": "stream",
     "text": [
      "5.0\n"
     ]
    },
    {
     "name": "stdin",
     "output_type": "stream",
     "text": [
      "Whetehr you want to continue or not (1/0)? 0\n"
     ]
    }
   ],
   "source": [
    "##Homework\n",
    "# 1.There will be 4 functions add, sub, multi, div. Each function will take two number inputs \n",
    "# 2.You need to take input from user. User give two numbers and one operator.\n",
    "# 3.Depending on the operator call the function and pass the inputs and show the outputs \n",
    "# 4.After getting one output, it will give another option like, whether you want to continue or not (1/0)\n",
    "\n",
    "def add(x,y):\n",
    "    return x+y\n",
    "def sub(x,y):\n",
    "    return x-y\n",
    "def mul(x,y):\n",
    "    return x*y\n",
    "def div(x,y):\n",
    "    return x/y\n",
    "\n",
    "while True:\n",
    "\n",
    "    number1 = float(input(\"Enter the 1st number: \"))\n",
    "    operator = input(\"Enter the operator (+,-,*,/ ): \")\n",
    "    number2 = float(input(\"Enter the 2nd number: \"))\n",
    "\n",
    "    if operator == \"+\":\n",
    "        result = add(number1, number2)\n",
    "    elif operator == \"-\":\n",
    "        result = sub(number1, number2)\n",
    "    elif operator == \"*\":\n",
    "        result = mul(number1, number2)\n",
    "    elif operator == \"/\":\n",
    "        result = div(number1, number2)\n",
    "    else:\n",
    "        print(\"Please give a valid operator\")\n",
    "\n",
    "    print(result)\n",
    "    \n",
    "    choice = input(\"Whetehr you want to continue or not (1/0)?\")\n",
    "    \n",
    "    if choice == '1':\n",
    "        continue\n",
    "    else:\n",
    "        break"
   ]
  }
 ],
 "metadata": {
  "kernelspec": {
   "display_name": "Python 3 (ipykernel)",
   "language": "python",
   "name": "python3"
  },
  "language_info": {
   "codemirror_mode": {
    "name": "ipython",
    "version": 3
   },
   "file_extension": ".py",
   "mimetype": "text/x-python",
   "name": "python",
   "nbconvert_exporter": "python",
   "pygments_lexer": "ipython3",
   "version": "3.10.10"
  }
 },
 "nbformat": 4,
 "nbformat_minor": 5
}
