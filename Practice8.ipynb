{
 "cells": [
  {
   "cell_type": "markdown",
   "id": "27404c89-56b4-4355-adcf-9fd0118a1ce3",
   "metadata": {},
   "source": [
    "# Loop"
   ]
  },
  {
   "cell_type": "markdown",
   "id": "df3f1e21-5934-4ed7-9623-3beddbc020cc",
   "metadata": {},
   "source": [
    "## 1. For Loop\n",
    "## 2. While Loop"
   ]
  },
  {
   "cell_type": "code",
   "execution_count": 1,
   "id": "d035cc59-b6ce-4cde-98bd-659ea7df67e5",
   "metadata": {},
   "outputs": [
    {
     "name": "stdout",
     "output_type": "stream",
     "text": [
      "Number is Odd : 11\n",
      "Number is Even : 22\n",
      "Number is Even : 24\n",
      "Number is Odd : 5\n",
      "Number is Even : 2\n",
      "Number is Odd : 9\n",
      "Number is Odd : 7\n",
      "Number is Even : 32\n"
     ]
    }
   ],
   "source": [
    "#for loop Even and Odd Checking in a list\n",
    "a=[11,22,24,5,2,9,7,32]\n",
    "for i in a:\n",
    "    if i%2==0:\n",
    "        print(\"Number is Even :\",i)\n",
    "    else:\n",
    "        print(\"Number is Odd :\",i)"
   ]
  },
  {
   "cell_type": "code",
   "execution_count": 3,
   "id": "20917e22-52f1-4809-bb16-9a7e4449a305",
   "metadata": {},
   "outputs": [
    {
     "name": "stdout",
     "output_type": "stream",
     "text": [
      "4\n",
      "[5, 7, 8, 11, 25, 23, 25, 9, 26, 10]\n",
      "5\n",
      "[7, 8, 11, 25, 23, 25, 9, 26, 10]\n",
      "7\n",
      "[8, 11, 25, 23, 25, 9, 26, 10]\n",
      "8\n",
      "[11, 25, 23, 25, 9, 26, 10]\n",
      "11\n",
      "[25, 23, 25, 9, 26, 10]\n",
      "25\n",
      "[23, 25, 9, 26, 10]\n",
      "23\n",
      "[25, 9, 26, 10]\n",
      "25\n",
      "[9, 26, 10]\n",
      "9\n",
      "[26, 10]\n",
      "26\n",
      "[10]\n",
      "10\n",
      "[]\n"
     ]
    }
   ],
   "source": [
    "#for loop list remove\n",
    "a=[4,5,7,8,11,25,23,25,9,26,10]\n",
    "b=a.copy()\n",
    "for i in b:\n",
    "    print(i)\n",
    "    a.remove(i)\n",
    "    print(a)"
   ]
  },
  {
   "cell_type": "code",
   "execution_count": 4,
   "id": "bf37b894-5a9a-4209-a7c9-1e8b9af1310e",
   "metadata": {},
   "outputs": [
    {
     "name": "stdout",
     "output_type": "stream",
     "text": [
      "String is Palindrome : abcdcba\n",
      "String is Palindrome : abba\n",
      "String is Not Palindrome : asdgcg\n",
      "String is Palindrome : tghhgt\n",
      "String is Not Palindrome : lhdsfhv\n"
     ]
    }
   ],
   "source": [
    "#Palindrome checking in a list\n",
    "a = [\"abcdcba\",\"abba\",\"asdgcg\",\"tghhgt\",\"lhdsfhv\"]\n",
    "for i in a:\n",
    "    if i==i[::-1]:\n",
    "        print(\"String is Palindrome :\",i)\n",
    "    else:\n",
    "        print(\"String is Not Palindrome :\",i)    "
   ]
  },
  {
   "cell_type": "code",
   "execution_count": 5,
   "id": "f4e05d0a-6f67-47c0-968b-6b141a8fb3cb",
   "metadata": {},
   "outputs": [
    {
     "name": "stdout",
     "output_type": "stream",
     "text": [
      "String is Palindrome : abcdcba\n",
      "String is Palindrome : abba\n",
      "String is Not Palindrome : asdgcg\n",
      "String is Palindrome : tghhgt\n",
      "String is Not Palindrome : lhdsfhv\n",
      "Palindrome List is : ['abcdcba', 'abba', 'tghhgt'] Not Palindrome List is : ['asdgcg', 'lhdsfhv']\n"
     ]
    }
   ],
   "source": [
    "#Palindrome checking in in a list by for loop and saved in pal[] and not_pal[] lists\n",
    "a = [\"abcdcba\",\"abba\",\"asdgcg\",\"tghhgt\",\"lhdsfhv\"]\n",
    "pal=[]\n",
    "not_pal=[]\n",
    "for i in a:\n",
    "    if i==i[::-1]:\n",
    "        print(\"String is Palindrome :\",i)\n",
    "        pal.append(i)\n",
    "    else:\n",
    "        print(\"String is Not Palindrome :\",i)\n",
    "        not_pal.append(i)\n",
    "print(\"Palindrome List is :\",pal,\"Not Palindrome List is :\",not_pal)\n",
    "    "
   ]
  },
  {
   "cell_type": "code",
   "execution_count": 7,
   "id": "25486186-1b4a-4659-ac26-25bc0ccfb2b5",
   "metadata": {},
   "outputs": [
    {
     "name": "stdout",
     "output_type": "stream",
     "text": [
      "String is Palindrome : abcdcba\n",
      "String is Palindrome : abba\n",
      "String is Not Palindrome : asdgcg\n",
      "String is Palindrome : tghhgt\n",
      "String is Not Palindrome : lhdsfhv\n",
      "Palindrome List is :['abcdcba', 'abba', 'tghhgt'], Not Palindrome List is : ['asdgcg', 'lhdsfhv']\n"
     ]
    }
   ],
   "source": [
    "#Palindrome checking in in a list by for loop and saved in pal[] and not_pal[] lists\n",
    "a = [\"abcdcba\",\"abba\",\"asdgcg\",\"tghhgt\",\"lhdsfhv\"]\n",
    "pal=[]\n",
    "not_pal=[]\n",
    "for i in a:\n",
    "    if i==i[::-1]:\n",
    "        print(\"String is Palindrome :\",i)\n",
    "        pal.append(i)\n",
    "    else:\n",
    "        print(\"String is Not Palindrome :\",i)\n",
    "        not_pal.append(i)\n",
    "print(f\"Palindrome List is :{pal}, Not Palindrome List is : {not_pal}\")"
   ]
  },
  {
   "cell_type": "code",
   "execution_count": 9,
   "id": "58fb4ff0-32fa-4213-a463-c40b9f37c955",
   "metadata": {},
   "outputs": [
    {
     "name": "stdout",
     "output_type": "stream",
     "text": [
      "45\n"
     ]
    }
   ],
   "source": [
    "#1+2+3+4+5+6+7+8+9=?---by for loop\n",
    "a=\"123456789\"\n",
    "sum=0\n",
    "for i in a:\n",
    "    sum=sum+int(i)\n",
    "print(sum)"
   ]
  },
  {
   "cell_type": "code",
   "execution_count": 15,
   "id": "bfa02a6a-818e-490f-90aa-4e211b3dc00e",
   "metadata": {},
   "outputs": [
    {
     "name": "stdout",
     "output_type": "stream",
     "text": [
      "362880\n"
     ]
    }
   ],
   "source": [
    "#1*2*3*4*5*6*7*8*9=?---by for loop\n",
    "a=\"123456789\"\n",
    "multi=1\n",
    "for i in a:\n",
    "    multi=multi*int(i)\n",
    "print(multi)"
   ]
  },
  {
   "cell_type": "code",
   "execution_count": 16,
   "id": "a76f80a3-7759-4170-8f85-a5ffd08ab7b3",
   "metadata": {},
   "outputs": [
    {
     "name": "stdout",
     "output_type": "stream",
     "text": [
      "[0, 1, 2, 3, 4, 5, 6, 7, 8, 9]\n"
     ]
    }
   ],
   "source": [
    "#range function\n",
    "a=list(range(10)) #10 total elements from 0 to 9\n",
    "print(a)"
   ]
  },
  {
   "cell_type": "code",
   "execution_count": 17,
   "id": "a54c73d1-caf1-411f-91db-1538c60ba2a7",
   "metadata": {},
   "outputs": [
    {
     "name": "stdout",
     "output_type": "stream",
     "text": [
      "[2, 3, 4, 5, 6, 7, 8, 9]\n"
     ]
    }
   ],
   "source": [
    "#range function\n",
    "a=list(range(2,10)) #lower limit(2) & upper limit(10-1=9)\n",
    "print(a)"
   ]
  },
  {
   "cell_type": "code",
   "execution_count": 30,
   "id": "1ca17527-7c65-4f47-81e7-671a52dd5042",
   "metadata": {},
   "outputs": [
    {
     "name": "stdout",
     "output_type": "stream",
     "text": [
      "[2, 4, 6, 8]\n"
     ]
    }
   ],
   "source": [
    "#range function\n",
    "a=list(range(2,10,2)) #lower limit(2) & upper limit(10-1=9) and with 1 elements jumping forward\n",
    "print(a)"
   ]
  },
  {
   "cell_type": "code",
   "execution_count": 31,
   "id": "da870274-d9a7-4ec7-8d05-7e6bfc966a5b",
   "metadata": {},
   "outputs": [
    {
     "name": "stdout",
     "output_type": "stream",
     "text": [
      "[10, 8, 6, 4, 2]\n"
     ]
    }
   ],
   "source": [
    "#range function\n",
    "a=list(range(10,0,-2)) #lower limit(10) & upper limit(0+1=9) and with 1 elements jumping backward\n",
    "print(a)"
   ]
  },
  {
   "cell_type": "code",
   "execution_count": 32,
   "id": "9921e3cd-3846-4aab-b595-6e22d733c4af",
   "metadata": {},
   "outputs": [
    {
     "name": "stdout",
     "output_type": "stream",
     "text": [
      "0\n",
      "1\n",
      "2\n",
      "3\n",
      "4\n"
     ]
    }
   ],
   "source": [
    "a = [\"A\",\"B\",\"C\",\"D\",\"E\"]\n",
    "for i in range(len(a)): ##[0,1,2,3,4]\n",
    "    print(i)"
   ]
  },
  {
   "cell_type": "code",
   "execution_count": 33,
   "id": "069f2327-c575-4a29-9e65-25eb65c40202",
   "metadata": {},
   "outputs": [
    {
     "name": "stdout",
     "output_type": "stream",
     "text": [
      "[1, 8, 27, 64, 125, 216]\n"
     ]
    }
   ],
   "source": [
    "#print [1,8,27,64,125,216]\n",
    "a=[1,2,3,4,5,6]\n",
    "for i in range(len(a)):\n",
    "    a[i]=a[i]**3\n",
    "print(a)    "
   ]
  },
  {
   "cell_type": "code",
   "execution_count": 37,
   "id": "709ee98d-4580-4f47-95c0-59d503fb5dbd",
   "metadata": {},
   "outputs": [
    {
     "name": "stdout",
     "output_type": "stream",
     "text": [
      "0\n",
      "1\n",
      "[1, 2, 3, 4, 5, 6]\n",
      "1\n",
      "2\n",
      "[1, 8, 3, 4, 5, 6]\n",
      "2\n",
      "3\n",
      "[1, 8, 27, 4, 5, 6]\n",
      "3\n",
      "4\n",
      "[1, 8, 27, 64, 5, 6]\n",
      "4\n",
      "5\n",
      "[1, 8, 27, 64, 125, 6]\n",
      "5\n",
      "6\n",
      "[1, 8, 27, 64, 125, 216]\n"
     ]
    }
   ],
   "source": [
    "#print [1,8,27,64,125,216]\n",
    "a=[1,2,3,4,5,6]\n",
    "for i in range(len(a)):\n",
    "    print(i) #Index of each elements from list in forward direction like: 0,1,2,3,4,5,6\n",
    "    print(a[i]) #Index of each elements from list in forward direction like: 0,1,2,3,4,5,6\n",
    "    a[i]=a[i]**3\n",
    "    print(a)"
   ]
  },
  {
   "cell_type": "code",
   "execution_count": 41,
   "id": "0d41a767-c134-47a6-9498-95cc23bc94f7",
   "metadata": {},
   "outputs": [
    {
     "name": "stdin",
     "output_type": "stream",
     "text": [
      "Enter a Number 6\n"
     ]
    },
    {
     "name": "stdout",
     "output_type": "stream",
     "text": [
      "Factorial of 6 is 720\n"
     ]
    }
   ],
   "source": [
    "#5!=1*2*3*4*5--5 factorial\n",
    "a=int(input(\"Enter a Number\"))\n",
    "result=1\n",
    "for i in range(1,a+1):\n",
    "    result=result*i\n",
    "print(f\"Factorial of {a} is {result}\")"
   ]
  },
  {
   "cell_type": "code",
   "execution_count": 44,
   "id": "40de5ae7-9354-428a-8788-1aa27d20667e",
   "metadata": {},
   "outputs": [
    {
     "name": "stdin",
     "output_type": "stream",
     "text": [
      "Enter a Number 7\n"
     ]
    },
    {
     "name": "stdout",
     "output_type": "stream",
     "text": [
      "Factorial of 7 is 5040\n"
     ]
    }
   ],
   "source": [
    "#5!=1*2*3*4*5--5 factorial\n",
    "a=int(input(\"Enter a Number\"))\n",
    "result=1\n",
    "for i in range(1,a+1):\n",
    "    result*=i #result=result*i\n",
    "print(f\"Factorial of {a} is {result}\")"
   ]
  },
  {
   "cell_type": "code",
   "execution_count": 45,
   "id": "0fc86cc6-9afd-416a-b42e-dfa819948abb",
   "metadata": {},
   "outputs": [
    {
     "name": "stdout",
     "output_type": "stream",
     "text": [
      "name is : deepjoy \n",
      "name is : piplai\n"
     ]
    }
   ],
   "source": [
    "#New line printing statement\n",
    "a=\"deepjoy\"\n",
    "b=\"piplai\"\n",
    "print(\"name is :\",a,\"\\nname is :\",b)"
   ]
  }
 ],
 "metadata": {
  "kernelspec": {
   "display_name": "Python 3 (ipykernel)",
   "language": "python",
   "name": "python3"
  },
  "language_info": {
   "codemirror_mode": {
    "name": "ipython",
    "version": 3
   },
   "file_extension": ".py",
   "mimetype": "text/x-python",
   "name": "python",
   "nbconvert_exporter": "python",
   "pygments_lexer": "ipython3",
   "version": "3.10.10"
  }
 },
 "nbformat": 4,
 "nbformat_minor": 5
}
