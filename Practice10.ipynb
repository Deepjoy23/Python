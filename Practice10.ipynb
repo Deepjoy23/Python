{
 "cells": [
  {
   "cell_type": "markdown",
   "id": "60968b60-ffe5-468f-829c-ec68a76e57cf",
   "metadata": {},
   "source": [
    "## Pattern Printing"
   ]
  },
  {
   "cell_type": "code",
   "execution_count": null,
   "id": "e8aaf0a6-721f-4fec-88a6-5a8e595bdf5d",
   "metadata": {},
   "outputs": [],
   "source": [
    "# printing like a pattern\n",
    "1\n",
    "2 2\n",
    "3 3 3\n",
    "4 4 4 4\n",
    "5 5 5 5 5"
   ]
  },
  {
   "cell_type": "code",
   "execution_count": 4,
   "id": "715aa60d-a278-42b0-a154-283abf7d1875",
   "metadata": {},
   "outputs": [
    {
     "name": "stdout",
     "output_type": "stream",
     "text": [
      "1 \n",
      "\n",
      "2 2 \n",
      "\n",
      "3 3 3 \n",
      "\n",
      "4 4 4 4 \n",
      "\n",
      "5 5 5 5 5 \n",
      "\n"
     ]
    }
   ],
   "source": [
    "for i in range(1,6): # for row printing (when i=3)\n",
    "    for j in range(1,i+1): # for column printing (range[1,2,3] and j=3 times run)\n",
    "        print(i, end=\" \") # for space in printing (3 3 3)\n",
    "    print(\"\\n\") # for new line "
   ]
  },
  {
   "cell_type": "code",
   "execution_count": 5,
   "id": "7a25df06-0da5-4302-a49b-e714c9919a27",
   "metadata": {},
   "outputs": [
    {
     "name": "stdout",
     "output_type": "stream",
     "text": [
      "1 2\n"
     ]
    }
   ],
   "source": [
    "# print with space\n",
    "print(1, end=\" \")\n",
    "print(2)"
   ]
  },
  {
   "cell_type": "code",
   "execution_count": 6,
   "id": "395ae078-e16f-4f30-86e8-9b282034f1e6",
   "metadata": {},
   "outputs": [
    {
     "name": "stdout",
     "output_type": "stream",
     "text": [
      "1-2\n"
     ]
    }
   ],
   "source": [
    "# print with space\n",
    "print(1, end=\"-\")\n",
    "print(2)"
   ]
  },
  {
   "cell_type": "code",
   "execution_count": 7,
   "id": "f4404bb7-3f93-4716-a9ad-e84446499aef",
   "metadata": {},
   "outputs": [
    {
     "name": "stdout",
     "output_type": "stream",
     "text": [
      "1 \n",
      "\n",
      "2 2 \n",
      "\n",
      "3 3 3 \n",
      "\n",
      "4 4 4 4 \n",
      "\n",
      "5 5 5 5 5 \n",
      "\n"
     ]
    }
   ],
   "source": [
    "for i in range(1,6):  # for row printing (when i=3)\n",
    "    for j in range(i): # for column printing (range[0,1,2] and j=3 times run)\n",
    "        print(i, end=\" \") # for space in printing(3 3 3)\n",
    "    print(\"\\n\") # for new line "
   ]
  },
  {
   "cell_type": "code",
   "execution_count": null,
   "id": "43cca8a2-a117-4930-a26d-0caa64e00fe2",
   "metadata": {},
   "outputs": [],
   "source": [
    "# printing like a pattern\n",
    "1\n",
    "1 2\n",
    "1 2 3\n",
    "1 2 3 4\n",
    "1 2 3 4 5"
   ]
  },
  {
   "cell_type": "code",
   "execution_count": 10,
   "id": "da513f0f-7e52-46ea-ae98-71891a898307",
   "metadata": {},
   "outputs": [
    {
     "name": "stdout",
     "output_type": "stream",
     "text": [
      "1 \n",
      "\n",
      "1 2 \n",
      "\n",
      "1 2 3 \n",
      "\n",
      "1 2 3 4 \n",
      "\n",
      "1 2 3 4 5 \n",
      "\n"
     ]
    }
   ],
   "source": [
    "for i in range(1,6): # for row printing (when i=3)\n",
    "    for j in range(1,i+1): # for column printing (range[1,2,3] and j=3 times run)\n",
    "        print(j, end=\" \") # for space in printing (1 2 3)\n",
    "    print(\"\\n\") # for new line "
   ]
  },
  {
   "cell_type": "code",
   "execution_count": null,
   "id": "eac2d71d-15b5-4210-89e1-784271bef328",
   "metadata": {},
   "outputs": [],
   "source": [
    "# printing like a pattern\n",
    "*\n",
    "* *\n",
    "* * *\n",
    "* * * *\n",
    "* * * * *"
   ]
  },
  {
   "cell_type": "code",
   "execution_count": 8,
   "id": "60c5a228-83ca-48b3-9ccd-a94ae7e0d698",
   "metadata": {},
   "outputs": [
    {
     "name": "stdout",
     "output_type": "stream",
     "text": [
      "* \n",
      "\n",
      "* * \n",
      "\n",
      "* * * \n",
      "\n",
      "* * * * \n",
      "\n",
      "* * * * * \n",
      "\n"
     ]
    }
   ],
   "source": [
    "for i in range(1,6): # for row printing (when i=3)\n",
    "    for j in range(1,i+1): # for column printing (range[1,2,3] and j=3 times run)\n",
    "        print(\"*\", end=\" \") # for space in printing (* * *)\n",
    "    print(\"\\n\") # for new line "
   ]
  },
  {
   "cell_type": "code",
   "execution_count": null,
   "id": "598d2945-8d6d-4fa3-b23f-343135e3934f",
   "metadata": {},
   "outputs": [],
   "source": [
    "# printing like a pattern\n",
    "*\n",
    "* *\n",
    "* * *\n",
    "* * * *\n",
    "* * * * *"
   ]
  },
  {
   "cell_type": "code",
   "execution_count": 9,
   "id": "c7916d82-34ea-4fa1-b9e3-71fffee01f71",
   "metadata": {},
   "outputs": [
    {
     "name": "stdout",
     "output_type": "stream",
     "text": [
      "* \n",
      "\n",
      "* * \n",
      "\n",
      "* * * \n",
      "\n",
      "* * * * \n",
      "\n",
      "* * * * * \n",
      "\n"
     ]
    }
   ],
   "source": [
    "for i in range(1,6): # for row printing (when i=3)\n",
    "    for j in range(i): # for column printing (range[0,1,2] and j=3 times run)\n",
    "        print(\"*\", end=\" \") # for space in printing\n",
    "    print(\"\\n\") # for new line "
   ]
  },
  {
   "cell_type": "code",
   "execution_count": null,
   "id": "fdad1b6b-86f6-40df-ac93-eb81c1761adc",
   "metadata": {},
   "outputs": [],
   "source": [
    "# printing like a pattern\n",
    "5 4 3 2 1 \n",
    "5 4 3 2 \n",
    "5 4 3 \n",
    "5 4 \n",
    "5"
   ]
  },
  {
   "cell_type": "code",
   "execution_count": 15,
   "id": "57c9a0cf-9aea-4322-b07e-5c875288751d",
   "metadata": {},
   "outputs": [
    {
     "name": "stdout",
     "output_type": "stream",
     "text": [
      "5 4 3 2 1 \n",
      "\n",
      "5 4 3 2 \n",
      "\n",
      "5 4 3 \n",
      "\n",
      "5 4 \n",
      "\n",
      "5 \n",
      "\n"
     ]
    }
   ],
   "source": [
    "for i in range(1,6): # for row printing (when i=3)\n",
    "    for j in range(5,i-1,-1): # for column printing (range[1,2,3] and j=3 times run)\n",
    "        print(j, end=\" \") # for space in printing (5 4 3)\n",
    "    print(\"\\n\") # for new line "
   ]
  },
  {
   "cell_type": "code",
   "execution_count": 16,
   "id": "4a8a605e-5ab7-4522-8d18-76c9c114ace1",
   "metadata": {},
   "outputs": [
    {
     "name": "stdout",
     "output_type": "stream",
     "text": [
      "[5, 4, 3, 2, 1]\n"
     ]
    }
   ],
   "source": [
    "a=list(range(5,0,-1))\n",
    "print(a)"
   ]
  },
  {
   "cell_type": "code",
   "execution_count": null,
   "id": "2c35bbac-81a1-45a2-a008-1f9fa5854d97",
   "metadata": {},
   "outputs": [],
   "source": [
    "# printing like a pattern\n",
    "    *\n",
    "   * *\n",
    "  * * *\n",
    " * * * *\n",
    "* * * * *"
   ]
  },
  {
   "cell_type": "code",
   "execution_count": 19,
   "id": "cde47664-23cc-484f-ab1b-ed196a949e37",
   "metadata": {},
   "outputs": [
    {
     "name": "stdout",
     "output_type": "stream",
     "text": [
      "    * \n",
      "\n",
      "   * * \n",
      "\n",
      "  * * * \n",
      "\n",
      " * * * * \n",
      "\n",
      "* * * * * \n",
      "\n"
     ]
    }
   ],
   "source": [
    "for i in range(1,6):# for row printing (when i=3)\n",
    "    for k in range(i,5): # for front space logic in \"*\" printing\n",
    "        print(\" \", end=\"\") #front space in \"*\" for i=3 is 2 spaces(\"  \")\n",
    "    for j in range(1,i+1): # for column printing (range[1,2,3] and j=3 times run)\n",
    "        print(\"*\", end=\" \") # for space in printing (* * *)\n",
    "    print(\"\\n\") # for new line "
   ]
  },
  {
   "cell_type": "markdown",
   "id": "1a96ba4c-1be7-40ad-886e-63a2948cd675",
   "metadata": {},
   "source": [
    "## While Loop"
   ]
  },
  {
   "cell_type": "code",
   "execution_count": 20,
   "id": "b6f346f6-61ea-46b9-9314-f2e030718e70",
   "metadata": {},
   "outputs": [
    {
     "name": "stdout",
     "output_type": "stream",
     "text": [
      "1\n",
      "2\n",
      "3\n",
      "4\n",
      "5\n"
     ]
    }
   ],
   "source": [
    "for i in range(1,6):\n",
    "    print(i)"
   ]
  },
  {
   "cell_type": "code",
   "execution_count": 22,
   "id": "72477f17-8f8f-42e9-b16b-3e0e61658fed",
   "metadata": {},
   "outputs": [
    {
     "name": "stdout",
     "output_type": "stream",
     "text": [
      "1\n",
      "2\n",
      "3\n",
      "4\n",
      "5\n"
     ]
    }
   ],
   "source": [
    "i=1 #Initialize the variable\n",
    "while i<6: #Condition in while loop\n",
    "    print(i) #Printing the values which is stored in i variable\n",
    "    i=i+1 #Itteration in while loop"
   ]
  },
  {
   "cell_type": "code",
   "execution_count": 23,
   "id": "38d8190b-d3d3-4d82-b7b3-52ede01b263a",
   "metadata": {},
   "outputs": [
    {
     "name": "stdout",
     "output_type": "stream",
     "text": [
      "0\n",
      "1\n",
      "2\n",
      "3\n",
      "4\n",
      "5\n"
     ]
    }
   ],
   "source": [
    "for i in range(6):\n",
    "    print(i)"
   ]
  },
  {
   "cell_type": "code",
   "execution_count": 24,
   "id": "f65fc62f-0c8c-4ad5-ad35-63d613d985d7",
   "metadata": {},
   "outputs": [
    {
     "name": "stdout",
     "output_type": "stream",
     "text": [
      "0\n",
      "1\n",
      "2\n",
      "3\n",
      "4\n",
      "5\n"
     ]
    }
   ],
   "source": [
    "i=0\n",
    "while i<6:\n",
    "    print(i)\n",
    "    i=i+1"
   ]
  },
  {
   "cell_type": "code",
   "execution_count": 27,
   "id": "6bc0c989-6a0f-4598-83e8-a3481de85fa0",
   "metadata": {},
   "outputs": [
    {
     "name": "stdout",
     "output_type": "stream",
     "text": [
      "0\n",
      "12\n",
      "32\n",
      "4\n",
      "5\n",
      "16\n"
     ]
    }
   ],
   "source": [
    "a=[0,12,32,4,5,16]\n",
    "for i in a:\n",
    "    print(i)"
   ]
  },
  {
   "cell_type": "code",
   "execution_count": null,
   "id": "c0369dee-16b4-465c-a62c-29e02ed93db3",
   "metadata": {},
   "outputs": [],
   "source": [
    "a=[0,12,32,4,5,16]\n",
    "i=0\n",
    "while i<len(a):\n",
    "    print(a[i])\n",
    "    i=i+1"
   ]
  },
  {
   "cell_type": "code",
   "execution_count": 1,
   "id": "c127e819-967a-4d52-aad9-f984c8c889d5",
   "metadata": {},
   "outputs": [
    {
     "name": "stdin",
     "output_type": "stream",
     "text": [
      "Enter a Password Ddep\n"
     ]
    },
    {
     "name": "stdout",
     "output_type": "stream",
     "text": [
      "Please re-entered once more as Password length in between 8 and 12\n"
     ]
    },
    {
     "name": "stdin",
     "output_type": "stream",
     "text": [
      "Enter a Password Deepjoy\n"
     ]
    },
    {
     "name": "stdout",
     "output_type": "stream",
     "text": [
      "Please re-entered once more as Password length in between 8 and 12\n"
     ]
    },
    {
     "name": "stdin",
     "output_type": "stream",
     "text": [
      "Enter a Password Deepjoy@1994\n"
     ]
    },
    {
     "name": "stdout",
     "output_type": "stream",
     "text": [
      "Password Successfully Saved\n"
     ]
    }
   ],
   "source": [
    "#Pawword Checking by while loop\n",
    "while True:\n",
    "    password= input(\"Enter a Password\")\n",
    "    if len(password)>=8 and len(password)<=12:\n",
    "        print(\"Password Successfully Saved\")\n",
    "        break\n",
    "    else:\n",
    "        print(\"Please re-entered once more as Password length in between 8 and 12\")\n",
    "        continue    "
   ]
  },
  {
   "cell_type": "code",
   "execution_count": null,
   "id": "13517fca-abb2-4346-b8a9-fe519585a3c3",
   "metadata": {},
   "outputs": [],
   "source": [
    "# Printing this pattern(Homework)\n",
    "* * * * * *\n",
    "*         *\n",
    "*         *\n",
    "*         *\n",
    "*         *\n",
    "* * * * * *"
   ]
  },
  {
   "cell_type": "code",
   "execution_count": 2,
   "id": "dbdcf1fe-ade7-419f-8aa6-65968165e65a",
   "metadata": {},
   "outputs": [
    {
     "name": "stdout",
     "output_type": "stream",
     "text": [
      "* * * * * * * \n",
      "*           * \n",
      "*           * \n",
      "*           * \n",
      "*           * \n",
      "*           * \n",
      "* * * * * * * \n"
     ]
    }
   ],
   "source": [
    "for i in range(7):\n",
    "    for j in range(7):\n",
    "        if (i == 0 or i == 6 or j == 0 or j == 6):\n",
    "            print(\"* \", end=\"\")\n",
    "        else: \n",
    "            print(\" \", end = \" \")\n",
    "    print()"
   ]
  },
  {
   "cell_type": "code",
   "execution_count": 4,
   "id": "93abda20-9b80-4854-a027-76d8ed0504f6",
   "metadata": {},
   "outputs": [
    {
     "name": "stdout",
     "output_type": "stream",
     "text": [
      "* * * * * * \n",
      "*         * \n",
      "*         * \n",
      "*         * \n",
      "*         * \n",
      "* * * * * * \n"
     ]
    }
   ],
   "source": [
    "for i in range(6):\n",
    "    for j in range(6):\n",
    "        if (i == 0 or i == 5 or j == 0 or j == 5):\n",
    "            print(\"* \", end=\"\")\n",
    "        else: \n",
    "            print(\" \", end = \" \")\n",
    "    print()"
   ]
  },
  {
   "cell_type": "code",
   "execution_count": 3,
   "id": "8f9c2f1d-20c2-4a51-9ec4-fe9fae792fe9",
   "metadata": {},
   "outputs": [
    {
     "name": "stdout",
     "output_type": "stream",
     "text": [
      "* * * * * * \n",
      "*         *\n",
      "*         *\n",
      "*         *\n",
      "*         *\n",
      "* * * * * * \n"
     ]
    }
   ],
   "source": [
    "for i in range (1,7):\n",
    "    if i==1 or i==6:\n",
    "        print(\"* \"*6)\n",
    "    else:\n",
    "        print(\"* \"+\" \"*7+\" *\")"
   ]
  },
  {
   "cell_type": "code",
   "execution_count": 2,
   "id": "217ae0fa-91e0-4811-8c9c-8bdfc3f48aba",
   "metadata": {},
   "outputs": [
    {
     "name": "stdin",
     "output_type": "stream",
     "text": [
      "Enter a Number of star printing 5\n"
     ]
    },
    {
     "name": "stdout",
     "output_type": "stream",
     "text": [
      "* * * * * \n",
      "*       * \n",
      "*       * \n",
      "*       * \n",
      "* * * * * \n"
     ]
    }
   ],
   "source": [
    "#from user input\n",
    "i=int(input(\"Enter a Number of star printing\"))\n",
    "for j in range(i):\n",
    "    for k in range(i):\n",
    "        if (j==0 or k==0 or j==(i-1) or k==(i-1)):\n",
    "            print(\"* \",end=\"\")\n",
    "        else:\n",
    "            print(\" \",end=\" \")\n",
    "    print() "
   ]
  },
  {
   "cell_type": "code",
   "execution_count": 1,
   "id": "73853303-7245-4c09-8b45-2b097e2cb242",
   "metadata": {},
   "outputs": [
    {
     "name": "stdin",
     "output_type": "stream",
     "text": [
      "Enter a Number of star printing 6\n"
     ]
    },
    {
     "name": "stdout",
     "output_type": "stream",
     "text": [
      "* * * * * * \n",
      "*         *\n",
      "*         *\n",
      "*         *\n",
      "*         *\n",
      "* * * * * * \n"
     ]
    }
   ],
   "source": [
    "#from user input\n",
    "i=int(input(\"Enter a Number of star printing\"))\n",
    "for j in range(i):\n",
    "    if (j==0 or j==(i-1)):\n",
    "        print(\"* \"*i)\n",
    "    else:\n",
    "        print(\"* \"+\" \"*(i+1)+\" *\")"
   ]
  },
  {
   "cell_type": "code",
   "execution_count": null,
   "id": "7672ce19-a458-4434-bf47-07fbe1aea621",
   "metadata": {},
   "outputs": [],
   "source": [
    "#print a pattern\n",
    "*\n",
    "**\n",
    "***\n",
    "****\n",
    "*****"
   ]
  },
  {
   "cell_type": "code",
   "execution_count": 4,
   "id": "29777f9b-451a-46d1-9900-90dda751ae31",
   "metadata": {},
   "outputs": [
    {
     "name": "stdout",
     "output_type": "stream",
     "text": [
      "*\n",
      "**\n",
      "***\n",
      "****\n",
      "*****\n"
     ]
    }
   ],
   "source": [
    "#using while loop\n",
    "i=1\n",
    "while i<=5:\n",
    "    print(\"*\"*i)\n",
    "    i=i+1"
   ]
  },
  {
   "cell_type": "code",
   "execution_count": 6,
   "id": "4a034445-e80b-4831-b547-ffc913750415",
   "metadata": {},
   "outputs": [
    {
     "name": "stdin",
     "output_type": "stream",
     "text": [
      "Enter the number of star to print pattern 6\n"
     ]
    },
    {
     "name": "stdout",
     "output_type": "stream",
     "text": [
      "*\n",
      "**\n",
      "***\n",
      "****\n",
      "*****\n",
      "******\n"
     ]
    }
   ],
   "source": [
    "#using while loop and dynamic\n",
    "input_=int(input(\"Enter the number of star to print pattern\"))\n",
    "i=1\n",
    "while i<=input_:\n",
    "    print(\"*\"*i)\n",
    "    i=i+1 "
   ]
  }
 ],
 "metadata": {
  "kernelspec": {
   "display_name": "Python 3 (ipykernel)",
   "language": "python",
   "name": "python3"
  },
  "language_info": {
   "codemirror_mode": {
    "name": "ipython",
    "version": 3
   },
   "file_extension": ".py",
   "mimetype": "text/x-python",
   "name": "python",
   "nbconvert_exporter": "python",
   "pygments_lexer": "ipython3",
   "version": "3.10.10"
  }
 },
 "nbformat": 4,
 "nbformat_minor": 5
}
